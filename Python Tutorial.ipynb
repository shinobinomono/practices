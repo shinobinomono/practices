{
 "cells": [
  {
   "cell_type": "code",
   "execution_count": 1,
   "metadata": {},
   "outputs": [
    {
     "data": {
      "text/plain": [
       "4"
      ]
     },
     "execution_count": 1,
     "metadata": {},
     "output_type": "execute_result"
    }
   ],
   "source": [
    "2+2"
   ]
  },
  {
   "cell_type": "code",
   "execution_count": 2,
   "metadata": {},
   "outputs": [
    {
     "data": {
      "text/plain": [
       "20"
      ]
     },
     "execution_count": 2,
     "metadata": {},
     "output_type": "execute_result"
    }
   ],
   "source": [
    "50-5*6"
   ]
  },
  {
   "cell_type": "code",
   "execution_count": 3,
   "metadata": {},
   "outputs": [
    {
     "data": {
      "text/plain": [
       "5.0"
      ]
     },
     "execution_count": 3,
     "metadata": {},
     "output_type": "execute_result"
    }
   ],
   "source": [
    "(50-5*6)/4"
   ]
  },
  {
   "cell_type": "code",
   "execution_count": 4,
   "metadata": {},
   "outputs": [
    {
     "data": {
      "text/plain": [
       "1.6"
      ]
     },
     "execution_count": 4,
     "metadata": {},
     "output_type": "execute_result"
    }
   ],
   "source": [
    "8/5"
   ]
  },
  {
   "cell_type": "code",
   "execution_count": 5,
   "metadata": {},
   "outputs": [
    {
     "data": {
      "text/plain": [
       "5.666666666666667"
      ]
     },
     "execution_count": 5,
     "metadata": {},
     "output_type": "execute_result"
    }
   ],
   "source": [
    "17/3"
   ]
  },
  {
   "cell_type": "code",
   "execution_count": 6,
   "metadata": {},
   "outputs": [
    {
     "data": {
      "text/plain": [
       "5"
      ]
     },
     "execution_count": 6,
     "metadata": {},
     "output_type": "execute_result"
    }
   ],
   "source": [
    "17//3"
   ]
  },
  {
   "cell_type": "code",
   "execution_count": 7,
   "metadata": {},
   "outputs": [
    {
     "data": {
      "text/plain": [
       "2"
      ]
     },
     "execution_count": 7,
     "metadata": {},
     "output_type": "execute_result"
    }
   ],
   "source": [
    "17%3"
   ]
  },
  {
   "cell_type": "code",
   "execution_count": 8,
   "metadata": {},
   "outputs": [
    {
     "data": {
      "text/plain": [
       "25"
      ]
     },
     "execution_count": 8,
     "metadata": {},
     "output_type": "execute_result"
    }
   ],
   "source": [
    "5**2"
   ]
  },
  {
   "cell_type": "code",
   "execution_count": 9,
   "metadata": {},
   "outputs": [
    {
     "data": {
      "text/plain": [
       "128"
      ]
     },
     "execution_count": 9,
     "metadata": {},
     "output_type": "execute_result"
    }
   ],
   "source": [
    "2**7"
   ]
  },
  {
   "cell_type": "code",
   "execution_count": 10,
   "metadata": {},
   "outputs": [],
   "source": [
    "width = 20\n",
    "height = 5*9"
   ]
  },
  {
   "cell_type": "code",
   "execution_count": 11,
   "metadata": {},
   "outputs": [
    {
     "data": {
      "text/plain": [
       "900"
      ]
     },
     "execution_count": 11,
     "metadata": {},
     "output_type": "execute_result"
    }
   ],
   "source": [
    "width*height"
   ]
  },
  {
   "cell_type": "code",
   "execution_count": 12,
   "metadata": {},
   "outputs": [
    {
     "ename": "NameError",
     "evalue": "name 'n' is not defined",
     "output_type": "error",
     "traceback": [
      "\u001b[1;31m---------------------------------------------------------------------------\u001b[0m",
      "\u001b[1;31mNameError\u001b[0m                                 Traceback (most recent call last)",
      "\u001b[1;32m<ipython-input-12-ab0680a89434>\u001b[0m in \u001b[0;36m<module>\u001b[1;34m\u001b[0m\n\u001b[1;32m----> 1\u001b[1;33m \u001b[0mn\u001b[0m\u001b[1;33m\u001b[0m\u001b[1;33m\u001b[0m\u001b[0m\n\u001b[0m",
      "\u001b[1;31mNameError\u001b[0m: name 'n' is not defined"
     ]
    }
   ],
   "source": [
    "n"
   ]
  },
  {
   "cell_type": "code",
   "execution_count": 13,
   "metadata": {},
   "outputs": [
    {
     "data": {
      "text/plain": [
       "15.0"
      ]
     },
     "execution_count": 13,
     "metadata": {},
     "output_type": "execute_result"
    }
   ],
   "source": [
    "4*3.75"
   ]
  },
  {
   "cell_type": "code",
   "execution_count": 14,
   "metadata": {},
   "outputs": [
    {
     "data": {
      "text/plain": [
       "12.5625"
      ]
     },
     "execution_count": 14,
     "metadata": {},
     "output_type": "execute_result"
    }
   ],
   "source": [
    "tax = 0.125\n",
    "price = 100.50\n",
    "price*tax"
   ]
  },
  {
   "cell_type": "code",
   "execution_count": 15,
   "metadata": {},
   "outputs": [
    {
     "data": {
      "text/plain": [
       "113.0625"
      ]
     },
     "execution_count": 15,
     "metadata": {},
     "output_type": "execute_result"
    }
   ],
   "source": [
    "price + _"
   ]
  },
  {
   "cell_type": "code",
   "execution_count": 16,
   "metadata": {},
   "outputs": [
    {
     "data": {
      "text/plain": [
       "213.5625"
      ]
     },
     "execution_count": 16,
     "metadata": {},
     "output_type": "execute_result"
    }
   ],
   "source": [
    "price + _"
   ]
  },
  {
   "cell_type": "code",
   "execution_count": 17,
   "metadata": {},
   "outputs": [
    {
     "data": {
      "text/plain": [
       "213.56"
      ]
     },
     "execution_count": 17,
     "metadata": {},
     "output_type": "execute_result"
    }
   ],
   "source": [
    "round(_,2)"
   ]
  },
  {
   "cell_type": "code",
   "execution_count": 18,
   "metadata": {},
   "outputs": [
    {
     "data": {
      "text/plain": [
       "'spam eggs'"
      ]
     },
     "execution_count": 18,
     "metadata": {},
     "output_type": "execute_result"
    }
   ],
   "source": [
    "'spam eggs'"
   ]
  },
  {
   "cell_type": "code",
   "execution_count": 19,
   "metadata": {},
   "outputs": [
    {
     "data": {
      "text/plain": [
       "\"doesn't\""
      ]
     },
     "execution_count": 19,
     "metadata": {},
     "output_type": "execute_result"
    }
   ],
   "source": [
    "'doesn\\'t'"
   ]
  },
  {
   "cell_type": "code",
   "execution_count": 20,
   "metadata": {},
   "outputs": [
    {
     "data": {
      "text/plain": [
       "\"doesn't\""
      ]
     },
     "execution_count": 20,
     "metadata": {},
     "output_type": "execute_result"
    }
   ],
   "source": [
    "\"doesn't\""
   ]
  },
  {
   "cell_type": "code",
   "execution_count": 21,
   "metadata": {},
   "outputs": [],
   "source": [
    "s = 'First line. \\nSecond line.'"
   ]
  },
  {
   "cell_type": "code",
   "execution_count": 22,
   "metadata": {},
   "outputs": [
    {
     "data": {
      "text/plain": [
       "'First line. \\nSecond line.'"
      ]
     },
     "execution_count": 22,
     "metadata": {},
     "output_type": "execute_result"
    }
   ],
   "source": [
    "s"
   ]
  },
  {
   "cell_type": "code",
   "execution_count": 23,
   "metadata": {},
   "outputs": [
    {
     "name": "stdout",
     "output_type": "stream",
     "text": [
      "First line. \n",
      "Second line.\n"
     ]
    }
   ],
   "source": [
    "print(s)"
   ]
  },
  {
   "cell_type": "code",
   "execution_count": 24,
   "metadata": {},
   "outputs": [
    {
     "name": "stdout",
     "output_type": "stream",
     "text": [
      "C:\\some\\name\n"
     ]
    }
   ],
   "source": [
    "print(r'C:\\some\\name')"
   ]
  },
  {
   "cell_type": "code",
   "execution_count": 25,
   "metadata": {},
   "outputs": [
    {
     "name": "stdout",
     "output_type": "stream",
     "text": [
      "Usage: thingy [OPTIONS]\n",
      "-h               Display this usage message\n",
      "-H hostname      Hostname to connect to\n"
     ]
    }
   ],
   "source": [
    "print(\"\"\"\\\n",
    "Usage: thingy [OPTIONS]\n",
    "-h               Display this usage message\n",
    "-H hostname      Hostname to connect to\"\"\")"
   ]
  },
  {
   "cell_type": "code",
   "execution_count": 26,
   "metadata": {},
   "outputs": [
    {
     "data": {
      "text/plain": [
       "'unununium'"
      ]
     },
     "execution_count": 26,
     "metadata": {},
     "output_type": "execute_result"
    }
   ],
   "source": [
    "3*'un'+'ium'"
   ]
  },
  {
   "cell_type": "code",
   "execution_count": 27,
   "metadata": {},
   "outputs": [
    {
     "data": {
      "text/plain": [
       "'ununun'"
      ]
     },
     "execution_count": 27,
     "metadata": {},
     "output_type": "execute_result"
    }
   ],
   "source": [
    "(3*'un')"
   ]
  },
  {
   "cell_type": "code",
   "execution_count": 28,
   "metadata": {},
   "outputs": [
    {
     "data": {
      "text/plain": [
       "'python'"
      ]
     },
     "execution_count": 28,
     "metadata": {},
     "output_type": "execute_result"
    }
   ],
   "source": [
    "'py'      'thon'"
   ]
  },
  {
   "cell_type": "code",
   "execution_count": 29,
   "metadata": {},
   "outputs": [],
   "source": [
    "text = ('カッコの中にながいながいながいもじれつを'\n",
    "       'いれておいて繋げてやろう。')"
   ]
  },
  {
   "cell_type": "code",
   "execution_count": 30,
   "metadata": {},
   "outputs": [
    {
     "data": {
      "text/plain": [
       "'カッコの中にながいながいながいもじれつをいれておいて繋げてやろう。'"
      ]
     },
     "execution_count": 30,
     "metadata": {},
     "output_type": "execute_result"
    }
   ],
   "source": [
    "text"
   ]
  },
  {
   "cell_type": "code",
   "execution_count": 31,
   "metadata": {},
   "outputs": [],
   "source": [
    "prefix = 'py'"
   ]
  },
  {
   "cell_type": "code",
   "execution_count": 32,
   "metadata": {},
   "outputs": [
    {
     "ename": "SyntaxError",
     "evalue": "invalid syntax (<ipython-input-32-7edf08bff78f>, line 1)",
     "output_type": "error",
     "traceback": [
      "\u001b[1;36m  File \u001b[1;32m\"<ipython-input-32-7edf08bff78f>\"\u001b[1;36m, line \u001b[1;32m1\u001b[0m\n\u001b[1;33m    prefix 'thon'\u001b[0m\n\u001b[1;37m           ^\u001b[0m\n\u001b[1;31mSyntaxError\u001b[0m\u001b[1;31m:\u001b[0m invalid syntax\n"
     ]
    }
   ],
   "source": [
    "prefix 'thon'"
   ]
  },
  {
   "cell_type": "code",
   "execution_count": 33,
   "metadata": {},
   "outputs": [
    {
     "data": {
      "text/plain": [
       "'python'"
      ]
     },
     "execution_count": 33,
     "metadata": {},
     "output_type": "execute_result"
    }
   ],
   "source": [
    "prefix + 'thon'"
   ]
  },
  {
   "cell_type": "code",
   "execution_count": 34,
   "metadata": {},
   "outputs": [],
   "source": [
    "word = 'python'"
   ]
  },
  {
   "cell_type": "code",
   "execution_count": 35,
   "metadata": {},
   "outputs": [
    {
     "data": {
      "text/plain": [
       "'p'"
      ]
     },
     "execution_count": 35,
     "metadata": {},
     "output_type": "execute_result"
    }
   ],
   "source": [
    "word[0]"
   ]
  },
  {
   "cell_type": "code",
   "execution_count": 36,
   "metadata": {},
   "outputs": [
    {
     "data": {
      "text/plain": [
       "'P'"
      ]
     },
     "execution_count": 36,
     "metadata": {},
     "output_type": "execute_result"
    }
   ],
   "source": [
    "word[0].upper()"
   ]
  },
  {
   "cell_type": "code",
   "execution_count": 37,
   "metadata": {},
   "outputs": [
    {
     "data": {
      "text/plain": [
       "'h'"
      ]
     },
     "execution_count": 37,
     "metadata": {},
     "output_type": "execute_result"
    }
   ],
   "source": [
    "word[3]"
   ]
  },
  {
   "cell_type": "code",
   "execution_count": 38,
   "metadata": {},
   "outputs": [
    {
     "data": {
      "text/plain": [
       "'n'"
      ]
     },
     "execution_count": 38,
     "metadata": {},
     "output_type": "execute_result"
    }
   ],
   "source": [
    "word[len(word)-1]"
   ]
  },
  {
   "cell_type": "code",
   "execution_count": 39,
   "metadata": {},
   "outputs": [
    {
     "data": {
      "text/plain": [
       "'n'"
      ]
     },
     "execution_count": 39,
     "metadata": {},
     "output_type": "execute_result"
    }
   ],
   "source": [
    "word[-1]"
   ]
  },
  {
   "cell_type": "code",
   "execution_count": 40,
   "metadata": {},
   "outputs": [
    {
     "data": {
      "text/plain": [
       "'py'"
      ]
     },
     "execution_count": 40,
     "metadata": {},
     "output_type": "execute_result"
    }
   ],
   "source": [
    "word[0:2]"
   ]
  },
  {
   "cell_type": "code",
   "execution_count": 41,
   "metadata": {},
   "outputs": [
    {
     "data": {
      "text/plain": [
       "'tho'"
      ]
     },
     "execution_count": 41,
     "metadata": {},
     "output_type": "execute_result"
    }
   ],
   "source": [
    "word[2:5]"
   ]
  },
  {
   "cell_type": "code",
   "execution_count": 42,
   "metadata": {},
   "outputs": [
    {
     "data": {
      "text/plain": [
       "'python'"
      ]
     },
     "execution_count": 42,
     "metadata": {},
     "output_type": "execute_result"
    }
   ],
   "source": [
    "word[:2] + word[2:]"
   ]
  },
  {
   "cell_type": "code",
   "execution_count": 43,
   "metadata": {},
   "outputs": [
    {
     "data": {
      "text/plain": [
       "'on'"
      ]
     },
     "execution_count": 43,
     "metadata": {},
     "output_type": "execute_result"
    }
   ],
   "source": [
    "word[-2:]"
   ]
  },
  {
   "cell_type": "code",
   "execution_count": 44,
   "metadata": {},
   "outputs": [
    {
     "ename": "IndexError",
     "evalue": "string index out of range",
     "output_type": "error",
     "traceback": [
      "\u001b[1;31m---------------------------------------------------------------------------\u001b[0m",
      "\u001b[1;31mIndexError\u001b[0m                                Traceback (most recent call last)",
      "\u001b[1;32m<ipython-input-44-4d0f20275732>\u001b[0m in \u001b[0;36m<module>\u001b[1;34m\u001b[0m\n\u001b[1;32m----> 1\u001b[1;33m \u001b[0mword\u001b[0m\u001b[1;33m[\u001b[0m\u001b[1;36m42\u001b[0m\u001b[1;33m]\u001b[0m\u001b[1;33m\u001b[0m\u001b[1;33m\u001b[0m\u001b[0m\n\u001b[0m",
      "\u001b[1;31mIndexError\u001b[0m: string index out of range"
     ]
    }
   ],
   "source": [
    "word[42]"
   ]
  },
  {
   "cell_type": "code",
   "execution_count": 45,
   "metadata": {},
   "outputs": [
    {
     "data": {
      "text/plain": [
       "'on'"
      ]
     },
     "execution_count": 45,
     "metadata": {},
     "output_type": "execute_result"
    }
   ],
   "source": [
    "word[4:420]"
   ]
  },
  {
   "cell_type": "code",
   "execution_count": 46,
   "metadata": {},
   "outputs": [
    {
     "data": {
      "text/plain": [
       "''"
      ]
     },
     "execution_count": 46,
     "metadata": {},
     "output_type": "execute_result"
    }
   ],
   "source": [
    "word[42:]"
   ]
  },
  {
   "cell_type": "code",
   "execution_count": 47,
   "metadata": {},
   "outputs": [
    {
     "ename": "TypeError",
     "evalue": "'str' object does not support item assignment",
     "output_type": "error",
     "traceback": [
      "\u001b[1;31m---------------------------------------------------------------------------\u001b[0m",
      "\u001b[1;31mTypeError\u001b[0m                                 Traceback (most recent call last)",
      "\u001b[1;32m<ipython-input-47-91a956888ca7>\u001b[0m in \u001b[0;36m<module>\u001b[1;34m\u001b[0m\n\u001b[1;32m----> 1\u001b[1;33m \u001b[0mword\u001b[0m\u001b[1;33m[\u001b[0m\u001b[1;36m0\u001b[0m\u001b[1;33m]\u001b[0m \u001b[1;33m=\u001b[0m \u001b[1;34m'J'\u001b[0m\u001b[1;33m\u001b[0m\u001b[1;33m\u001b[0m\u001b[0m\n\u001b[0m",
      "\u001b[1;31mTypeError\u001b[0m: 'str' object does not support item assignment"
     ]
    }
   ],
   "source": [
    "word[0] = 'J'"
   ]
  },
  {
   "cell_type": "code",
   "execution_count": 48,
   "metadata": {},
   "outputs": [
    {
     "data": {
      "text/plain": [
       "'Jython'"
      ]
     },
     "execution_count": 48,
     "metadata": {},
     "output_type": "execute_result"
    }
   ],
   "source": [
    "'J' + word[1:]"
   ]
  },
  {
   "cell_type": "code",
   "execution_count": 49,
   "metadata": {},
   "outputs": [
    {
     "data": {
      "text/plain": [
       "'pypy'"
      ]
     },
     "execution_count": 49,
     "metadata": {},
     "output_type": "execute_result"
    }
   ],
   "source": [
    "word[:2] + 'py'"
   ]
  },
  {
   "cell_type": "code",
   "execution_count": 50,
   "metadata": {},
   "outputs": [],
   "source": [
    "s = 'supercalifragilisticexpialidocious'"
   ]
  },
  {
   "cell_type": "code",
   "execution_count": 51,
   "metadata": {},
   "outputs": [
    {
     "data": {
      "text/plain": [
       "34"
      ]
     },
     "execution_count": 51,
     "metadata": {},
     "output_type": "execute_result"
    }
   ],
   "source": [
    "len(s)"
   ]
  },
  {
   "cell_type": "code",
   "execution_count": 52,
   "metadata": {},
   "outputs": [],
   "source": [
    "squares = [1,4,9,16,25]"
   ]
  },
  {
   "cell_type": "code",
   "execution_count": 53,
   "metadata": {},
   "outputs": [
    {
     "data": {
      "text/plain": [
       "[1, 4, 9, 16, 25]"
      ]
     },
     "execution_count": 53,
     "metadata": {},
     "output_type": "execute_result"
    }
   ],
   "source": [
    "squares"
   ]
  },
  {
   "cell_type": "code",
   "execution_count": 54,
   "metadata": {},
   "outputs": [
    {
     "data": {
      "text/plain": [
       "1"
      ]
     },
     "execution_count": 54,
     "metadata": {},
     "output_type": "execute_result"
    }
   ],
   "source": [
    "squares[0]"
   ]
  },
  {
   "cell_type": "code",
   "execution_count": 55,
   "metadata": {},
   "outputs": [
    {
     "data": {
      "text/plain": [
       "25"
      ]
     },
     "execution_count": 55,
     "metadata": {},
     "output_type": "execute_result"
    }
   ],
   "source": [
    "squares[-1]"
   ]
  },
  {
   "cell_type": "code",
   "execution_count": 56,
   "metadata": {},
   "outputs": [
    {
     "data": {
      "text/plain": [
       "[1, 4, 9]"
      ]
     },
     "execution_count": 56,
     "metadata": {},
     "output_type": "execute_result"
    }
   ],
   "source": [
    "squares[:3]"
   ]
  },
  {
   "cell_type": "code",
   "execution_count": 57,
   "metadata": {},
   "outputs": [
    {
     "data": {
      "text/plain": [
       "[9, 16, 25]"
      ]
     },
     "execution_count": 57,
     "metadata": {},
     "output_type": "execute_result"
    }
   ],
   "source": [
    "squares[-3:]"
   ]
  },
  {
   "cell_type": "code",
   "execution_count": 58,
   "metadata": {},
   "outputs": [
    {
     "name": "stdout",
     "output_type": "stream",
     "text": [
      "整数をいれてください:8\n",
      "もっと\n"
     ]
    }
   ],
   "source": [
    "x = int(input(\"整数をいれてください:\"))\n",
    "if x <0:\n",
    "    x=0\n",
    "    print(\"数はゼロとする\")\n",
    "elif x == 0:\n",
    "    print(\"ゼロ\")\n",
    "elif x == 1:\n",
    "    print('一つ')\n",
    "else:\n",
    "    print('もっと')"
   ]
  },
  {
   "cell_type": "code",
   "execution_count": 59,
   "metadata": {},
   "outputs": [
    {
     "data": {
      "text/plain": [
       "8"
      ]
     },
     "execution_count": 59,
     "metadata": {},
     "output_type": "execute_result"
    }
   ],
   "source": [
    "x"
   ]
  },
  {
   "cell_type": "code",
   "execution_count": 77,
   "metadata": {},
   "outputs": [],
   "source": [
    "words = ['cat', 'window', 'defenestrate']"
   ]
  },
  {
   "cell_type": "code",
   "execution_count": 78,
   "metadata": {},
   "outputs": [
    {
     "name": "stdout",
     "output_type": "stream",
     "text": [
      "cat 3\n",
      "window 6\n",
      "defenestrate 12\n"
     ]
    }
   ],
   "source": [
    "for w in words:\n",
    "    print(w, len(w))"
   ]
  },
  {
   "cell_type": "code",
   "execution_count": 79,
   "metadata": {},
   "outputs": [
    {
     "name": "stdout",
     "output_type": "stream",
     "text": [
      "0\n",
      "1\n",
      "2\n",
      "3\n",
      "4\n"
     ]
    }
   ],
   "source": [
    "for i in range(5):\n",
    "    print(i)"
   ]
  },
  {
   "cell_type": "code",
   "execution_count": 80,
   "metadata": {},
   "outputs": [
    {
     "data": {
      "text/plain": [
       "range(5, 10)"
      ]
     },
     "execution_count": 80,
     "metadata": {},
     "output_type": "execute_result"
    }
   ],
   "source": [
    "range(5,10)"
   ]
  },
  {
   "cell_type": "code",
   "execution_count": 81,
   "metadata": {},
   "outputs": [
    {
     "data": {
      "text/plain": [
       "range(5, 10)"
      ]
     },
     "execution_count": 81,
     "metadata": {},
     "output_type": "execute_result"
    }
   ],
   "source": [
    "range (5, 10)"
   ]
  },
  {
   "cell_type": "code",
   "execution_count": 82,
   "metadata": {},
   "outputs": [
    {
     "data": {
      "text/plain": [
       "range(0, 10, 3)"
      ]
     },
     "execution_count": 82,
     "metadata": {},
     "output_type": "execute_result"
    }
   ],
   "source": [
    "range(0,10,3)"
   ]
  },
  {
   "cell_type": "code",
   "execution_count": 83,
   "metadata": {},
   "outputs": [
    {
     "name": "stdout",
     "output_type": "stream",
     "text": [
      "5\n",
      "6\n",
      "7\n",
      "8\n",
      "9\n"
     ]
    }
   ],
   "source": [
    "for i in range (5,10):\n",
    "    print(i)"
   ]
  },
  {
   "cell_type": "code",
   "execution_count": 84,
   "metadata": {},
   "outputs": [],
   "source": [
    "x = range(5,10)"
   ]
  },
  {
   "cell_type": "code",
   "execution_count": 85,
   "metadata": {},
   "outputs": [
    {
     "data": {
      "text/plain": [
       "range(5, 10)"
      ]
     },
     "execution_count": 85,
     "metadata": {},
     "output_type": "execute_result"
    }
   ],
   "source": [
    "x"
   ]
  },
  {
   "cell_type": "code",
   "execution_count": 86,
   "metadata": {},
   "outputs": [
    {
     "name": "stdout",
     "output_type": "stream",
     "text": [
      "5\n",
      "6\n",
      "7\n",
      "8\n",
      "9\n"
     ]
    }
   ],
   "source": [
    "for i in x:\n",
    "    print(i)"
   ]
  },
  {
   "cell_type": "code",
   "execution_count": 87,
   "metadata": {},
   "outputs": [
    {
     "name": "stdout",
     "output_type": "stream",
     "text": [
      "0\n",
      "3\n",
      "6\n",
      "9\n"
     ]
    }
   ],
   "source": [
    "for i in range(0,10,3):\n",
    "    print(i)"
   ]
  },
  {
   "cell_type": "code",
   "execution_count": 88,
   "metadata": {},
   "outputs": [],
   "source": [
    "a = ['Mary', 'had', 'a', 'little', 'lamb']"
   ]
  },
  {
   "cell_type": "code",
   "execution_count": 89,
   "metadata": {},
   "outputs": [
    {
     "name": "stdout",
     "output_type": "stream",
     "text": [
      "0 Mary\n",
      "1 had\n",
      "2 a\n",
      "3 little\n",
      "4 lamb\n"
     ]
    }
   ],
   "source": [
    "for i in range(len(a)):\n",
    "    print(i, a[i])"
   ]
  },
  {
   "cell_type": "code",
   "execution_count": 90,
   "metadata": {},
   "outputs": [
    {
     "name": "stdout",
     "output_type": "stream",
     "text": [
      "range(0, 10)\n"
     ]
    }
   ],
   "source": [
    "print(range(10))"
   ]
  },
  {
   "cell_type": "code",
   "execution_count": 91,
   "metadata": {},
   "outputs": [
    {
     "name": "stdout",
     "output_type": "stream",
     "text": [
      "0, 1, 2, 3, 4, 5, 6, 7, 8, 9, 10, 11, 12, 13, 14, 15, 16, 17, 18\n"
     ]
    }
   ],
   "source": [
    "for i in range(19):\n",
    "    if i != 18:\n",
    "        print(i, end=', ')\n",
    "    else:\n",
    "        print(i)"
   ]
  },
  {
   "cell_type": "code",
   "execution_count": 92,
   "metadata": {},
   "outputs": [
    {
     "data": {
      "text/plain": [
       "6"
      ]
     },
     "execution_count": 92,
     "metadata": {},
     "output_type": "execute_result"
    }
   ],
   "source": [
    "sum(range(4))"
   ]
  },
  {
   "cell_type": "code",
   "execution_count": 93,
   "metadata": {},
   "outputs": [
    {
     "data": {
      "text/plain": [
       "[0, 1, 2, 3, 4, 5, 6, 7, 8, 9]"
      ]
     },
     "execution_count": 93,
     "metadata": {},
     "output_type": "execute_result"
    }
   ],
   "source": [
    "list(range(10))"
   ]
  },
  {
   "cell_type": "code",
   "execution_count": 94,
   "metadata": {},
   "outputs": [],
   "source": [
    "def ask_ok(prompt, retries = 4, reminder = \"please try again\"):\n",
    "    while True:\n",
    "        ok = input(prompt)\n",
    "        if ok in ('y', 'yes', 'ye'):\n",
    "            return True\n",
    "        if ok in ('n', 'no', 'nop', 'nope'):\n",
    "            return False\n",
    "        retries = retries - 1\n",
    "        if retries < 0:\n",
    "            raise ValueError('invalid user response')\n",
    "        print(reminder)"
   ]
  },
  {
   "cell_type": "code",
   "execution_count": 95,
   "metadata": {},
   "outputs": [
    {
     "name": "stdout",
     "output_type": "stream",
     "text": [
      "do you really want to quit?nah\n",
      "please try again\n",
      "do you really want to quit?n\n"
     ]
    },
    {
     "data": {
      "text/plain": [
       "False"
      ]
     },
     "execution_count": 95,
     "metadata": {},
     "output_type": "execute_result"
    }
   ],
   "source": [
    "ask_ok('do you really want to quit?')"
   ]
  },
  {
   "cell_type": "code",
   "execution_count": 96,
   "metadata": {},
   "outputs": [
    {
     "name": "stdout",
     "output_type": "stream",
     "text": [
      "do you really want to quit?a\n",
      "please try again\n",
      "do you really want to quit?n\n"
     ]
    },
    {
     "data": {
      "text/plain": [
       "False"
      ]
     },
     "execution_count": 96,
     "metadata": {},
     "output_type": "execute_result"
    }
   ],
   "source": [
    "ask_ok('do you really want to quit?')"
   ]
  },
  {
   "cell_type": "code",
   "execution_count": 97,
   "metadata": {},
   "outputs": [
    {
     "name": "stdout",
     "output_type": "stream",
     "text": [
      "do you really want to quit?y\n"
     ]
    },
    {
     "data": {
      "text/plain": [
       "True"
      ]
     },
     "execution_count": 97,
     "metadata": {},
     "output_type": "execute_result"
    }
   ],
   "source": [
    "ask_ok('do you really want to quit?')"
   ]
  },
  {
   "cell_type": "code",
   "execution_count": 98,
   "metadata": {},
   "outputs": [
    {
     "name": "stdout",
     "output_type": "stream",
     "text": [
      "do you really want to quit?y\n"
     ]
    },
    {
     "data": {
      "text/plain": [
       "True"
      ]
     },
     "execution_count": 98,
     "metadata": {},
     "output_type": "execute_result"
    }
   ],
   "source": [
    "ask_ok('do you really want to quit?')"
   ]
  },
  {
   "cell_type": "code",
   "execution_count": 99,
   "metadata": {},
   "outputs": [
    {
     "name": "stdout",
     "output_type": "stream",
     "text": [
      "do you really want to quit?y\n"
     ]
    },
    {
     "data": {
      "text/plain": [
       "True"
      ]
     },
     "execution_count": 99,
     "metadata": {},
     "output_type": "execute_result"
    }
   ],
   "source": [
    "ask_ok('do you really want to quit?', retries =10)"
   ]
  },
  {
   "cell_type": "code",
   "execution_count": 100,
   "metadata": {},
   "outputs": [
    {
     "name": "stdout",
     "output_type": "stream",
     "text": [
      "okay to overwrite the file?y\n"
     ]
    },
    {
     "data": {
      "text/plain": [
       "True"
      ]
     },
     "execution_count": 100,
     "metadata": {},
     "output_type": "execute_result"
    }
   ],
   "source": [
    "ask_ok('okay to overwrite the file?', 2, 'come on man, only yes or no')"
   ]
  },
  {
   "cell_type": "code",
   "execution_count": 101,
   "metadata": {},
   "outputs": [],
   "source": [
    "i = 5"
   ]
  },
  {
   "cell_type": "code",
   "execution_count": 102,
   "metadata": {},
   "outputs": [],
   "source": [
    "def f(arg=i):\n",
    "    print(arg)"
   ]
  },
  {
   "cell_type": "code",
   "execution_count": 103,
   "metadata": {},
   "outputs": [],
   "source": [
    "i = 6"
   ]
  },
  {
   "cell_type": "code",
   "execution_count": 104,
   "metadata": {},
   "outputs": [
    {
     "name": "stdout",
     "output_type": "stream",
     "text": [
      "5\n"
     ]
    }
   ],
   "source": [
    "f()"
   ]
  },
  {
   "cell_type": "code",
   "execution_count": 105,
   "metadata": {},
   "outputs": [
    {
     "name": "stdout",
     "output_type": "stream",
     "text": [
      "10\n"
     ]
    }
   ],
   "source": [
    "f(10)"
   ]
  },
  {
   "cell_type": "code",
   "execution_count": 106,
   "metadata": {},
   "outputs": [],
   "source": [
    "def f(a, L=[]):\n",
    "    \"\"\"コールを共有する\"\"\"\n",
    "    L.append(a)\n",
    "    return L"
   ]
  },
  {
   "cell_type": "code",
   "execution_count": 107,
   "metadata": {},
   "outputs": [
    {
     "name": "stdout",
     "output_type": "stream",
     "text": [
      "[1]\n"
     ]
    }
   ],
   "source": [
    "print(f(1))"
   ]
  },
  {
   "cell_type": "code",
   "execution_count": 108,
   "metadata": {},
   "outputs": [
    {
     "name": "stdout",
     "output_type": "stream",
     "text": [
      "[1, 2]\n"
     ]
    }
   ],
   "source": [
    "print(f(2))"
   ]
  },
  {
   "cell_type": "code",
   "execution_count": 109,
   "metadata": {},
   "outputs": [
    {
     "name": "stdout",
     "output_type": "stream",
     "text": [
      "[1, 2, 3]\n"
     ]
    }
   ],
   "source": [
    "print(f(3))"
   ]
  },
  {
   "cell_type": "code",
   "execution_count": 110,
   "metadata": {},
   "outputs": [],
   "source": [
    "def g(a, L=None):\n",
    "    \"\"\"コールを共有しない\"\"\"\n",
    "    if L is None:\n",
    "        L=[]\n",
    "    L.append(a)\n",
    "    return L"
   ]
  },
  {
   "cell_type": "code",
   "execution_count": 111,
   "metadata": {},
   "outputs": [
    {
     "data": {
      "text/plain": [
       "[2]"
      ]
     },
     "execution_count": 111,
     "metadata": {},
     "output_type": "execute_result"
    }
   ],
   "source": [
    "g(2)"
   ]
  },
  {
   "cell_type": "code",
   "execution_count": 112,
   "metadata": {},
   "outputs": [
    {
     "data": {
      "text/plain": [
       "[5]"
      ]
     },
     "execution_count": 112,
     "metadata": {},
     "output_type": "execute_result"
    }
   ],
   "source": [
    "g(5)"
   ]
  },
  {
   "cell_type": "code",
   "execution_count": 113,
   "metadata": {},
   "outputs": [
    {
     "data": {
      "text/plain": [
       "[2, 6, 4, 2]"
      ]
     },
     "execution_count": 113,
     "metadata": {},
     "output_type": "execute_result"
    }
   ],
   "source": [
    "g(2, L=[2,6,4])"
   ]
  },
  {
   "cell_type": "code",
   "execution_count": 114,
   "metadata": {},
   "outputs": [],
   "source": [
    "def parrot(voltage, state='a stiff', action = 'voom', type = 'Norwegian Blue'):\n",
    "    print(\"-- This parrot wouldn't\", action, end = ' ')\n",
    "    print(\"if you put\", voltage, \"volts through it.\")\n",
    "    print(\"-- Lovely plumage, the\", type)\n",
    "    print(\"-- It's\", state, \"!\")"
   ]
  },
  {
   "cell_type": "code",
   "execution_count": 115,
   "metadata": {},
   "outputs": [
    {
     "name": "stdout",
     "output_type": "stream",
     "text": [
      "-- This parrot wouldn't voom if you put 1000 volts through it.\n",
      "-- Lovely plumage, the Norwegian Blue\n",
      "-- It's a stiff !\n"
     ]
    }
   ],
   "source": [
    "parrot(1000)"
   ]
  },
  {
   "cell_type": "code",
   "execution_count": 116,
   "metadata": {},
   "outputs": [
    {
     "name": "stdout",
     "output_type": "stream",
     "text": [
      "-- This parrot wouldn't voom if you put 1000 volts through it.\n",
      "-- Lovely plumage, the Norwegian Blue\n",
      "-- It's a stiff !\n"
     ]
    }
   ],
   "source": [
    "parrot(voltage = 1000)"
   ]
  },
  {
   "cell_type": "code",
   "execution_count": 117,
   "metadata": {},
   "outputs": [
    {
     "name": "stdout",
     "output_type": "stream",
     "text": [
      "-- This parrot wouldn't VOOOOM if you put 1000000 volts through it.\n",
      "-- Lovely plumage, the Norwegian Blue\n",
      "-- It's a stiff !\n"
     ]
    }
   ],
   "source": [
    "parrot(voltage = 1000000, action = \"VOOOOM\")"
   ]
  },
  {
   "cell_type": "code",
   "execution_count": 118,
   "metadata": {},
   "outputs": [
    {
     "name": "stdout",
     "output_type": "stream",
     "text": [
      "-- This parrot wouldn't VOOOOM if you put 1000000000 volts through it.\n",
      "-- Lovely plumage, the Norwegian Blue\n",
      "-- It's a stiff !\n"
     ]
    }
   ],
   "source": [
    "parrot(action = 'VOOOOM', voltage = 1000000000)"
   ]
  },
  {
   "cell_type": "code",
   "execution_count": 119,
   "metadata": {},
   "outputs": [
    {
     "name": "stdout",
     "output_type": "stream",
     "text": [
      "-- This parrot wouldn't jump if you put a million volts through it.\n",
      "-- Lovely plumage, the Norwegian Blue\n",
      "-- It's bereft of life !\n"
     ]
    }
   ],
   "source": [
    "parrot('a million', 'bereft of life', 'jump')"
   ]
  },
  {
   "cell_type": "code",
   "execution_count": 120,
   "metadata": {},
   "outputs": [
    {
     "name": "stdout",
     "output_type": "stream",
     "text": [
      "-- This parrot wouldn't voom if you put a thousand volts through it.\n",
      "-- Lovely plumage, the Norwegian Blue\n",
      "-- It's pushing up the daisies !\n"
     ]
    }
   ],
   "source": [
    "parrot('a thousand', state='pushing up the daisies')"
   ]
  },
  {
   "cell_type": "code",
   "execution_count": 121,
   "metadata": {},
   "outputs": [
    {
     "name": "stdout",
     "output_type": "stream",
     "text": [
      "-- This parrot wouldn't voom if you put 1000 volts through it.\n",
      "-- Lovely plumage, the Norwegian Blue\n",
      "-- It's big !\n"
     ]
    }
   ],
   "source": [
    "parrot(1000, 'big')"
   ]
  },
  {
   "cell_type": "code",
   "execution_count": 122,
   "metadata": {},
   "outputs": [
    {
     "ename": "TypeError",
     "evalue": "parrot() missing 1 required positional argument: 'voltage'",
     "output_type": "error",
     "traceback": [
      "\u001b[1;31m---------------------------------------------------------------------------\u001b[0m",
      "\u001b[1;31mTypeError\u001b[0m                                 Traceback (most recent call last)",
      "\u001b[1;32m<ipython-input-122-1fa32faf15ff>\u001b[0m in \u001b[0;36m<module>\u001b[1;34m\u001b[0m\n\u001b[1;32m----> 1\u001b[1;33m \u001b[0mparrot\u001b[0m\u001b[1;33m(\u001b[0m\u001b[1;33m)\u001b[0m\u001b[1;33m\u001b[0m\u001b[1;33m\u001b[0m\u001b[0m\n\u001b[0m",
      "\u001b[1;31mTypeError\u001b[0m: parrot() missing 1 required positional argument: 'voltage'"
     ]
    }
   ],
   "source": [
    "parrot()"
   ]
  },
  {
   "cell_type": "code",
   "execution_count": 123,
   "metadata": {},
   "outputs": [
    {
     "ename": "SyntaxError",
     "evalue": "positional argument follows keyword argument (<ipython-input-123-f2789a9af7b2>, line 1)",
     "output_type": "error",
     "traceback": [
      "\u001b[1;36m  File \u001b[1;32m\"<ipython-input-123-f2789a9af7b2>\"\u001b[1;36m, line \u001b[1;32m1\u001b[0m\n\u001b[1;33m    parrot(voltage = 5.0, 'dead')\u001b[0m\n\u001b[1;37m                          ^\u001b[0m\n\u001b[1;31mSyntaxError\u001b[0m\u001b[1;31m:\u001b[0m positional argument follows keyword argument\n"
     ]
    }
   ],
   "source": [
    "parrot(voltage = 5.0, 'dead')"
   ]
  },
  {
   "cell_type": "code",
   "execution_count": 124,
   "metadata": {},
   "outputs": [
    {
     "ename": "TypeError",
     "evalue": "parrot() got multiple values for argument 'voltage'",
     "output_type": "error",
     "traceback": [
      "\u001b[1;31m---------------------------------------------------------------------------\u001b[0m",
      "\u001b[1;31mTypeError\u001b[0m                                 Traceback (most recent call last)",
      "\u001b[1;32m<ipython-input-124-feb09005eb33>\u001b[0m in \u001b[0;36m<module>\u001b[1;34m\u001b[0m\n\u001b[1;32m----> 1\u001b[1;33m \u001b[0mparrot\u001b[0m\u001b[1;33m(\u001b[0m\u001b[1;36m110\u001b[0m\u001b[1;33m,\u001b[0m\u001b[0mvoltage\u001b[0m\u001b[1;33m=\u001b[0m\u001b[1;36m220\u001b[0m\u001b[1;33m)\u001b[0m\u001b[1;33m\u001b[0m\u001b[1;33m\u001b[0m\u001b[0m\n\u001b[0m",
      "\u001b[1;31mTypeError\u001b[0m: parrot() got multiple values for argument 'voltage'"
     ]
    }
   ],
   "source": [
    "parrot(110,voltage=220)"
   ]
  },
  {
   "cell_type": "code",
   "execution_count": 125,
   "metadata": {},
   "outputs": [
    {
     "ename": "TypeError",
     "evalue": "parrot() got an unexpected keyword argument 'actor'",
     "output_type": "error",
     "traceback": [
      "\u001b[1;31m---------------------------------------------------------------------------\u001b[0m",
      "\u001b[1;31mTypeError\u001b[0m                                 Traceback (most recent call last)",
      "\u001b[1;32m<ipython-input-125-65e0c6ab2f7f>\u001b[0m in \u001b[0;36m<module>\u001b[1;34m\u001b[0m\n\u001b[1;32m----> 1\u001b[1;33m \u001b[0mparrot\u001b[0m\u001b[1;33m(\u001b[0m\u001b[0mactor\u001b[0m\u001b[1;33m=\u001b[0m\u001b[1;34m'John Cleese'\u001b[0m\u001b[1;33m)\u001b[0m\u001b[1;33m\u001b[0m\u001b[1;33m\u001b[0m\u001b[0m\n\u001b[0m",
      "\u001b[1;31mTypeError\u001b[0m: parrot() got an unexpected keyword argument 'actor'"
     ]
    }
   ],
   "source": [
    "parrot(actor='John Cleese')"
   ]
  },
  {
   "cell_type": "code",
   "execution_count": 126,
   "metadata": {},
   "outputs": [],
   "source": [
    "def function(a):\n",
    "    pass"
   ]
  },
  {
   "cell_type": "code",
   "execution_count": 127,
   "metadata": {},
   "outputs": [
    {
     "ename": "TypeError",
     "evalue": "function() got multiple values for argument 'a'",
     "output_type": "error",
     "traceback": [
      "\u001b[1;31m---------------------------------------------------------------------------\u001b[0m",
      "\u001b[1;31mTypeError\u001b[0m                                 Traceback (most recent call last)",
      "\u001b[1;32m<ipython-input-127-34e44d693230>\u001b[0m in \u001b[0;36m<module>\u001b[1;34m\u001b[0m\n\u001b[1;32m----> 1\u001b[1;33m \u001b[0mfunction\u001b[0m\u001b[1;33m(\u001b[0m\u001b[1;36m0\u001b[0m\u001b[1;33m,\u001b[0m \u001b[0ma\u001b[0m\u001b[1;33m=\u001b[0m\u001b[1;36m0\u001b[0m\u001b[1;33m)\u001b[0m\u001b[1;33m\u001b[0m\u001b[1;33m\u001b[0m\u001b[0m\n\u001b[0m",
      "\u001b[1;31mTypeError\u001b[0m: function() got multiple values for argument 'a'"
     ]
    }
   ],
   "source": [
    "function(0, a=0)"
   ]
  },
  {
   "cell_type": "code",
   "execution_count": 128,
   "metadata": {},
   "outputs": [],
   "source": [
    "def cheeseshop(kind, *arguments, **keywords):\n",
    "    print(\"-- Do you have any\", kind, \"?\")\n",
    "    print(\"-- I'm sorry, we're all out of\", kind)\n",
    "    for arg in arguments:\n",
    "        print(arg)\n",
    "    print(\"-\"*40)\n",
    "    for kw in keywords:\n",
    "        print(kw, \":\", keywords[kw])"
   ]
  },
  {
   "cell_type": "code",
   "execution_count": 129,
   "metadata": {},
   "outputs": [
    {
     "name": "stdout",
     "output_type": "stream",
     "text": [
      "-- Do you have any Limburger ?\n",
      "-- I'm sorry, we're all out of Limburger\n",
      "it's very runny sir\n",
      "It's really very, very, VERY runny, sir\n",
      "----------------------------------------\n",
      "shopkeeper : Michael Palin\n",
      "client : John Cleese\n",
      "sketch : Cheese Shop Sketch\n"
     ]
    }
   ],
   "source": [
    "cheeseshop('Limburger', \"it's very runny sir\", \"It's really very, very, VERY runny, sir\",\n",
    "          shopkeeper = 'Michael Palin',\n",
    "          client = 'John Cleese',\n",
    "          sketch = 'Cheese Shop Sketch')"
   ]
  },
  {
   "cell_type": "code",
   "execution_count": 130,
   "metadata": {},
   "outputs": [],
   "source": [
    "def standard_arg(arg):\n",
    "    print(arg)"
   ]
  },
  {
   "cell_type": "code",
   "execution_count": 131,
   "metadata": {},
   "outputs": [],
   "source": [
    "def pos_only_arg(arg,/):\n",
    "    print(arg)"
   ]
  },
  {
   "cell_type": "code",
   "execution_count": 132,
   "metadata": {},
   "outputs": [],
   "source": [
    "def kwd_only_arg(*, arg):\n",
    "    print(arg)"
   ]
  },
  {
   "cell_type": "code",
   "execution_count": 133,
   "metadata": {},
   "outputs": [],
   "source": [
    "def combined_example(pos_only, /, standard, *, kwd_only):\n",
    "    print(pos_only, standard, kwd_only)"
   ]
  },
  {
   "cell_type": "code",
   "execution_count": 134,
   "metadata": {},
   "outputs": [
    {
     "name": "stdout",
     "output_type": "stream",
     "text": [
      "2\n"
     ]
    }
   ],
   "source": [
    "standard_arg(2)"
   ]
  },
  {
   "cell_type": "code",
   "execution_count": 135,
   "metadata": {},
   "outputs": [
    {
     "name": "stdout",
     "output_type": "stream",
     "text": [
      "2\n"
     ]
    }
   ],
   "source": [
    "standard_arg(arg=2)"
   ]
  },
  {
   "cell_type": "code",
   "execution_count": 136,
   "metadata": {},
   "outputs": [
    {
     "name": "stdout",
     "output_type": "stream",
     "text": [
      "1\n"
     ]
    }
   ],
   "source": [
    "pos_only_arg(1)"
   ]
  },
  {
   "cell_type": "code",
   "execution_count": 137,
   "metadata": {},
   "outputs": [
    {
     "ename": "TypeError",
     "evalue": "pos_only_arg() got some positional-only arguments passed as keyword arguments: 'arg'",
     "output_type": "error",
     "traceback": [
      "\u001b[1;31m---------------------------------------------------------------------------\u001b[0m",
      "\u001b[1;31mTypeError\u001b[0m                                 Traceback (most recent call last)",
      "\u001b[1;32m<ipython-input-137-4149cd084448>\u001b[0m in \u001b[0;36m<module>\u001b[1;34m\u001b[0m\n\u001b[1;32m----> 1\u001b[1;33m \u001b[0mpos_only_arg\u001b[0m\u001b[1;33m(\u001b[0m\u001b[0marg\u001b[0m\u001b[1;33m=\u001b[0m\u001b[1;36m2\u001b[0m\u001b[1;33m)\u001b[0m\u001b[1;33m\u001b[0m\u001b[1;33m\u001b[0m\u001b[0m\n\u001b[0m",
      "\u001b[1;31mTypeError\u001b[0m: pos_only_arg() got some positional-only arguments passed as keyword arguments: 'arg'"
     ]
    }
   ],
   "source": [
    "pos_only_arg(arg=2)"
   ]
  },
  {
   "cell_type": "code",
   "execution_count": 138,
   "metadata": {},
   "outputs": [
    {
     "name": "stdout",
     "output_type": "stream",
     "text": [
      "3\n"
     ]
    }
   ],
   "source": [
    "kwd_only_arg(arg=3)"
   ]
  },
  {
   "cell_type": "code",
   "execution_count": 139,
   "metadata": {},
   "outputs": [
    {
     "ename": "TypeError",
     "evalue": "kwd_only_arg() takes 0 positional arguments but 1 was given",
     "output_type": "error",
     "traceback": [
      "\u001b[1;31m---------------------------------------------------------------------------\u001b[0m",
      "\u001b[1;31mTypeError\u001b[0m                                 Traceback (most recent call last)",
      "\u001b[1;32m<ipython-input-139-896c53ef896c>\u001b[0m in \u001b[0;36m<module>\u001b[1;34m\u001b[0m\n\u001b[1;32m----> 1\u001b[1;33m \u001b[0mkwd_only_arg\u001b[0m\u001b[1;33m(\u001b[0m\u001b[1;36m3\u001b[0m\u001b[1;33m)\u001b[0m\u001b[1;33m\u001b[0m\u001b[1;33m\u001b[0m\u001b[0m\n\u001b[0m",
      "\u001b[1;31mTypeError\u001b[0m: kwd_only_arg() takes 0 positional arguments but 1 was given"
     ]
    }
   ],
   "source": [
    "kwd_only_arg(3)"
   ]
  },
  {
   "cell_type": "code",
   "execution_count": 140,
   "metadata": {},
   "outputs": [
    {
     "ename": "TypeError",
     "evalue": "combined_example() takes 2 positional arguments but 3 were given",
     "output_type": "error",
     "traceback": [
      "\u001b[1;31m---------------------------------------------------------------------------\u001b[0m",
      "\u001b[1;31mTypeError\u001b[0m                                 Traceback (most recent call last)",
      "\u001b[1;32m<ipython-input-140-266135a592b0>\u001b[0m in \u001b[0;36m<module>\u001b[1;34m\u001b[0m\n\u001b[1;32m----> 1\u001b[1;33m \u001b[0mcombined_example\u001b[0m\u001b[1;33m(\u001b[0m\u001b[1;36m1\u001b[0m\u001b[1;33m,\u001b[0m\u001b[1;36m2\u001b[0m\u001b[1;33m,\u001b[0m\u001b[1;36m3\u001b[0m\u001b[1;33m)\u001b[0m\u001b[1;33m\u001b[0m\u001b[1;33m\u001b[0m\u001b[0m\n\u001b[0m",
      "\u001b[1;31mTypeError\u001b[0m: combined_example() takes 2 positional arguments but 3 were given"
     ]
    }
   ],
   "source": [
    "combined_example(1,2,3)"
   ]
  },
  {
   "cell_type": "code",
   "execution_count": 141,
   "metadata": {},
   "outputs": [
    {
     "name": "stdout",
     "output_type": "stream",
     "text": [
      "1 2 3\n"
     ]
    }
   ],
   "source": [
    "combined_example(1, 2, kwd_only=3)"
   ]
  },
  {
   "cell_type": "code",
   "execution_count": 142,
   "metadata": {},
   "outputs": [
    {
     "name": "stdout",
     "output_type": "stream",
     "text": [
      "1 2 3\n"
     ]
    }
   ],
   "source": [
    "combined_example(1, standard=2, kwd_only=3)"
   ]
  },
  {
   "cell_type": "code",
   "execution_count": 143,
   "metadata": {},
   "outputs": [
    {
     "ename": "TypeError",
     "evalue": "combined_example() got some positional-only arguments passed as keyword arguments: 'pos_only'",
     "output_type": "error",
     "traceback": [
      "\u001b[1;31m---------------------------------------------------------------------------\u001b[0m",
      "\u001b[1;31mTypeError\u001b[0m                                 Traceback (most recent call last)",
      "\u001b[1;32m<ipython-input-143-a0fe0f8338e9>\u001b[0m in \u001b[0;36m<module>\u001b[1;34m\u001b[0m\n\u001b[1;32m----> 1\u001b[1;33m \u001b[0mcombined_example\u001b[0m\u001b[1;33m(\u001b[0m\u001b[0mpos_only\u001b[0m\u001b[1;33m=\u001b[0m\u001b[1;36m1\u001b[0m\u001b[1;33m,\u001b[0m \u001b[0mstandard\u001b[0m\u001b[1;33m=\u001b[0m\u001b[1;36m2\u001b[0m\u001b[1;33m,\u001b[0m \u001b[0mkwd_only\u001b[0m\u001b[1;33m=\u001b[0m\u001b[1;36m3\u001b[0m\u001b[1;33m)\u001b[0m\u001b[1;33m\u001b[0m\u001b[1;33m\u001b[0m\u001b[0m\n\u001b[0m",
      "\u001b[1;31mTypeError\u001b[0m: combined_example() got some positional-only arguments passed as keyword arguments: 'pos_only'"
     ]
    }
   ],
   "source": [
    "combined_example(pos_only=1, standard=2, kwd_only=3)"
   ]
  },
  {
   "cell_type": "code",
   "execution_count": 144,
   "metadata": {},
   "outputs": [],
   "source": [
    "def foo(name, **kwds):\n",
    "    return 'name' in kwds"
   ]
  },
  {
   "cell_type": "code",
   "execution_count": 145,
   "metadata": {},
   "outputs": [
    {
     "ename": "TypeError",
     "evalue": "foo() got multiple values for argument 'name'",
     "output_type": "error",
     "traceback": [
      "\u001b[1;31m---------------------------------------------------------------------------\u001b[0m",
      "\u001b[1;31mTypeError\u001b[0m                                 Traceback (most recent call last)",
      "\u001b[1;32m<ipython-input-145-4973700be595>\u001b[0m in \u001b[0;36m<module>\u001b[1;34m\u001b[0m\n\u001b[1;32m----> 1\u001b[1;33m \u001b[0mfoo\u001b[0m\u001b[1;33m(\u001b[0m\u001b[1;36m1\u001b[0m\u001b[1;33m,\u001b[0m \u001b[1;33m**\u001b[0m\u001b[1;33m{\u001b[0m\u001b[1;34m'name'\u001b[0m\u001b[1;33m:\u001b[0m\u001b[1;36m2\u001b[0m\u001b[1;33m}\u001b[0m\u001b[1;33m)\u001b[0m\u001b[1;33m\u001b[0m\u001b[1;33m\u001b[0m\u001b[0m\n\u001b[0m",
      "\u001b[1;31mTypeError\u001b[0m: foo() got multiple values for argument 'name'"
     ]
    }
   ],
   "source": [
    "foo(1, **{'name':2})"
   ]
  },
  {
   "cell_type": "code",
   "execution_count": 146,
   "metadata": {},
   "outputs": [],
   "source": [
    "def foo2(name, /, **kwds):\n",
    "    return 'name' in kwds"
   ]
  },
  {
   "cell_type": "code",
   "execution_count": 147,
   "metadata": {},
   "outputs": [
    {
     "data": {
      "text/plain": [
       "True"
      ]
     },
     "execution_count": 147,
     "metadata": {},
     "output_type": "execute_result"
    }
   ],
   "source": [
    "foo2(1, **{'name':2})"
   ]
  },
  {
   "cell_type": "code",
   "execution_count": 148,
   "metadata": {},
   "outputs": [],
   "source": [
    "def write_multiple_items(file, separator, *args):\n",
    "    file.write(separator.join(args))"
   ]
  },
  {
   "cell_type": "code",
   "execution_count": 149,
   "metadata": {},
   "outputs": [],
   "source": [
    "def concat(*args, sep='/'):\n",
    "    return sep.join(args)"
   ]
  },
  {
   "cell_type": "code",
   "execution_count": 150,
   "metadata": {},
   "outputs": [
    {
     "data": {
      "text/plain": [
       "'earth/mars/venus'"
      ]
     },
     "execution_count": 150,
     "metadata": {},
     "output_type": "execute_result"
    }
   ],
   "source": [
    "concat(\"earth\", \"mars\", \"venus\")"
   ]
  },
  {
   "cell_type": "code",
   "execution_count": 151,
   "metadata": {},
   "outputs": [
    {
     "data": {
      "text/plain": [
       "'earth.mars.venus'"
      ]
     },
     "execution_count": 151,
     "metadata": {},
     "output_type": "execute_result"
    }
   ],
   "source": [
    "concat(\"earth\", \"mars\", \"venus\", sep=\".\")"
   ]
  },
  {
   "cell_type": "code",
   "execution_count": 152,
   "metadata": {},
   "outputs": [
    {
     "data": {
      "text/plain": [
       "[3, 4, 5]"
      ]
     },
     "execution_count": 152,
     "metadata": {},
     "output_type": "execute_result"
    }
   ],
   "source": [
    "list(range(3,6))"
   ]
  },
  {
   "cell_type": "code",
   "execution_count": 153,
   "metadata": {},
   "outputs": [],
   "source": [
    "args = [3,6]"
   ]
  },
  {
   "cell_type": "code",
   "execution_count": 154,
   "metadata": {},
   "outputs": [
    {
     "data": {
      "text/plain": [
       "[3, 4, 5]"
      ]
     },
     "execution_count": 154,
     "metadata": {},
     "output_type": "execute_result"
    }
   ],
   "source": [
    "list(range(*args))"
   ]
  },
  {
   "cell_type": "code",
   "execution_count": 155,
   "metadata": {},
   "outputs": [],
   "source": [
    "def parrot(voltage, state='a stiff', action = \"voom\"):\n",
    "    print(\"--this parrot wouldn't\", action, end=' ')\n",
    "    print(\"if you put\", voltage, \"volts through it.\", end = ' ')\n",
    "    print(\"E's\", state, \"!\")"
   ]
  },
  {
   "cell_type": "code",
   "execution_count": 156,
   "metadata": {},
   "outputs": [],
   "source": [
    "d = {\"voltage\":\"four million\", \"state\":\"bleedin' demised\", \"action\":\"VOOM\"}"
   ]
  },
  {
   "cell_type": "code",
   "execution_count": 157,
   "metadata": {},
   "outputs": [
    {
     "name": "stdout",
     "output_type": "stream",
     "text": [
      "--this parrot wouldn't VOOM if you put four million volts through it. E's bleedin' demised !\n"
     ]
    }
   ],
   "source": [
    "parrot(**d)"
   ]
  },
  {
   "cell_type": "code",
   "execution_count": 158,
   "metadata": {},
   "outputs": [],
   "source": [
    "biggy = list(range(6,50))"
   ]
  },
  {
   "cell_type": "code",
   "execution_count": 159,
   "metadata": {},
   "outputs": [],
   "source": [
    "def make_incrementor(n):\n",
    "    return lambda x: x+n"
   ]
  },
  {
   "cell_type": "code",
   "execution_count": 160,
   "metadata": {},
   "outputs": [],
   "source": [
    "f = make_incrementor(42)"
   ]
  },
  {
   "cell_type": "code",
   "execution_count": 161,
   "metadata": {},
   "outputs": [
    {
     "data": {
      "text/plain": [
       "<function __main__.make_incrementor.<locals>.<lambda>(x)>"
      ]
     },
     "execution_count": 161,
     "metadata": {},
     "output_type": "execute_result"
    }
   ],
   "source": [
    "make_incrementor(42)"
   ]
  },
  {
   "cell_type": "code",
   "execution_count": 162,
   "metadata": {},
   "outputs": [
    {
     "data": {
      "text/plain": [
       "<function __main__.make_incrementor.<locals>.<lambda>(x)>"
      ]
     },
     "execution_count": 162,
     "metadata": {},
     "output_type": "execute_result"
    }
   ],
   "source": [
    "f"
   ]
  },
  {
   "cell_type": "code",
   "execution_count": 163,
   "metadata": {},
   "outputs": [
    {
     "data": {
      "text/plain": [
       "42"
      ]
     },
     "execution_count": 163,
     "metadata": {},
     "output_type": "execute_result"
    }
   ],
   "source": [
    "f(0)"
   ]
  },
  {
   "cell_type": "code",
   "execution_count": 164,
   "metadata": {},
   "outputs": [
    {
     "data": {
      "text/plain": [
       "43"
      ]
     },
     "execution_count": 164,
     "metadata": {},
     "output_type": "execute_result"
    }
   ],
   "source": [
    "f(1)"
   ]
  },
  {
   "cell_type": "code",
   "execution_count": 165,
   "metadata": {},
   "outputs": [],
   "source": [
    "pairs = [(1,'one'), (2, 'two'), (3, 'three'), (4, 'four')]"
   ]
  },
  {
   "cell_type": "code",
   "execution_count": 166,
   "metadata": {},
   "outputs": [],
   "source": [
    "pairs.sort(key=lambda pair:pair[1])"
   ]
  },
  {
   "cell_type": "code",
   "execution_count": 167,
   "metadata": {},
   "outputs": [
    {
     "data": {
      "text/plain": [
       "[(4, 'four'), (1, 'one'), (3, 'three'), (2, 'two')]"
      ]
     },
     "execution_count": 167,
     "metadata": {},
     "output_type": "execute_result"
    }
   ],
   "source": [
    "pairs"
   ]
  },
  {
   "cell_type": "code",
   "execution_count": 168,
   "metadata": {},
   "outputs": [
    {
     "data": {
      "text/plain": [
       "Type help() for interactive help, or help(object) for help about object."
      ]
     },
     "execution_count": 168,
     "metadata": {},
     "output_type": "execute_result"
    }
   ],
   "source": [
    "help"
   ]
  },
  {
   "cell_type": "code",
   "execution_count": 169,
   "metadata": {},
   "outputs": [],
   "source": [
    "def my_function():\n",
    "    \"\"\"Do nothing, but document it.\n",
    "    \n",
    "    No, really... it doesn't do anything.\n",
    "    \"\"\"\n",
    "    pass"
   ]
  },
  {
   "cell_type": "code",
   "execution_count": 170,
   "metadata": {},
   "outputs": [
    {
     "name": "stdout",
     "output_type": "stream",
     "text": [
      "Do nothing, but document it.\n",
      "    \n",
      "    No, really... it doesn't do anything.\n",
      "    \n"
     ]
    }
   ],
   "source": [
    "print(my_function.__doc__)"
   ]
  },
  {
   "cell_type": "code",
   "execution_count": 171,
   "metadata": {},
   "outputs": [],
   "source": [
    "def f(ham:str, eggs:str = 'eggs') -> str:\n",
    "    print(\"annotations:\", f.__annotations__)\n",
    "    print(\"arguments:\", ham, eggs)\n",
    "    return ham + ' and ' + eggs"
   ]
  },
  {
   "cell_type": "code",
   "execution_count": 172,
   "metadata": {},
   "outputs": [
    {
     "name": "stdout",
     "output_type": "stream",
     "text": [
      "annotations: {'ham': <class 'str'>, 'eggs': <class 'str'>, 'return': <class 'str'>}\n",
      "arguments: spam eggs\n"
     ]
    },
    {
     "data": {
      "text/plain": [
       "'spam and eggs'"
      ]
     },
     "execution_count": 172,
     "metadata": {},
     "output_type": "execute_result"
    }
   ],
   "source": [
    "f(\"spam\")"
   ]
  },
  {
   "cell_type": "markdown",
   "metadata": {},
   "source": [
    "### Chapter 5"
   ]
  },
  {
   "cell_type": "code",
   "execution_count": 173,
   "metadata": {},
   "outputs": [],
   "source": [
    "plist = []"
   ]
  },
  {
   "cell_type": "code",
   "execution_count": 174,
   "metadata": {},
   "outputs": [],
   "source": [
    "plist.append('x')"
   ]
  },
  {
   "cell_type": "code",
   "execution_count": 175,
   "metadata": {},
   "outputs": [
    {
     "data": {
      "text/plain": [
       "['x']"
      ]
     },
     "execution_count": 175,
     "metadata": {},
     "output_type": "execute_result"
    }
   ],
   "source": [
    "plist"
   ]
  },
  {
   "cell_type": "code",
   "execution_count": 176,
   "metadata": {},
   "outputs": [],
   "source": [
    "plist.append('y')"
   ]
  },
  {
   "cell_type": "code",
   "execution_count": 177,
   "metadata": {},
   "outputs": [
    {
     "data": {
      "text/plain": [
       "['x', 'y']"
      ]
     },
     "execution_count": 177,
     "metadata": {},
     "output_type": "execute_result"
    }
   ],
   "source": [
    "plist"
   ]
  },
  {
   "cell_type": "code",
   "execution_count": 178,
   "metadata": {},
   "outputs": [
    {
     "ename": "TypeError",
     "evalue": "append() takes exactly one argument (2 given)",
     "output_type": "error",
     "traceback": [
      "\u001b[1;31m---------------------------------------------------------------------------\u001b[0m",
      "\u001b[1;31mTypeError\u001b[0m                                 Traceback (most recent call last)",
      "\u001b[1;32m<ipython-input-178-da947cb1495e>\u001b[0m in \u001b[0;36m<module>\u001b[1;34m\u001b[0m\n\u001b[1;32m----> 1\u001b[1;33m \u001b[0mplist\u001b[0m\u001b[1;33m.\u001b[0m\u001b[0mappend\u001b[0m\u001b[1;33m(\u001b[0m\u001b[1;34m'f'\u001b[0m\u001b[1;33m,\u001b[0m \u001b[1;34m'u'\u001b[0m\u001b[1;33m)\u001b[0m\u001b[1;33m\u001b[0m\u001b[1;33m\u001b[0m\u001b[0m\n\u001b[0m",
      "\u001b[1;31mTypeError\u001b[0m: append() takes exactly one argument (2 given)"
     ]
    }
   ],
   "source": [
    "plist.append('f', 'u')"
   ]
  },
  {
   "cell_type": "code",
   "execution_count": 179,
   "metadata": {},
   "outputs": [],
   "source": [
    "plist.extend(['f','u'])"
   ]
  },
  {
   "cell_type": "code",
   "execution_count": 180,
   "metadata": {},
   "outputs": [
    {
     "data": {
      "text/plain": [
       "['x', 'y', 'f', 'u']"
      ]
     },
     "execution_count": 180,
     "metadata": {},
     "output_type": "execute_result"
    }
   ],
   "source": [
    "plist"
   ]
  },
  {
   "cell_type": "code",
   "execution_count": 181,
   "metadata": {},
   "outputs": [],
   "source": [
    "plist.extend(list('big'))"
   ]
  },
  {
   "cell_type": "code",
   "execution_count": 182,
   "metadata": {},
   "outputs": [
    {
     "data": {
      "text/plain": [
       "['x', 'y', 'f', 'u', 'b', 'i', 'g']"
      ]
     },
     "execution_count": 182,
     "metadata": {},
     "output_type": "execute_result"
    }
   ],
   "source": [
    "plist"
   ]
  },
  {
   "cell_type": "code",
   "execution_count": 183,
   "metadata": {},
   "outputs": [],
   "source": [
    "plist.extend(list('i want to hurry up and switch jobs asap'))"
   ]
  },
  {
   "cell_type": "code",
   "execution_count": 184,
   "metadata": {},
   "outputs": [],
   "source": [
    "plist.clear()"
   ]
  },
  {
   "cell_type": "code",
   "execution_count": 185,
   "metadata": {},
   "outputs": [],
   "source": [
    "plist.extend(list('I want to hurry up and switch jobs asap'.split()))"
   ]
  },
  {
   "cell_type": "code",
   "execution_count": 186,
   "metadata": {},
   "outputs": [
    {
     "data": {
      "text/plain": [
       "['I', 'want', 'to', 'hurry', 'up', 'and', 'switch', 'jobs', 'asap']"
      ]
     },
     "execution_count": 186,
     "metadata": {},
     "output_type": "execute_result"
    }
   ],
   "source": [
    "plist"
   ]
  },
  {
   "cell_type": "code",
   "execution_count": 187,
   "metadata": {},
   "outputs": [],
   "source": [
    "plist.insert(2, \"biggy\")"
   ]
  },
  {
   "cell_type": "code",
   "execution_count": 188,
   "metadata": {},
   "outputs": [
    {
     "data": {
      "text/plain": [
       "['I', 'want', 'biggy', 'to', 'hurry', 'up', 'and', 'switch', 'jobs', 'asap']"
      ]
     },
     "execution_count": 188,
     "metadata": {},
     "output_type": "execute_result"
    }
   ],
   "source": [
    "plist"
   ]
  },
  {
   "cell_type": "code",
   "execution_count": 189,
   "metadata": {},
   "outputs": [],
   "source": [
    "plist.remove('biggy')"
   ]
  },
  {
   "cell_type": "code",
   "execution_count": 190,
   "metadata": {},
   "outputs": [
    {
     "data": {
      "text/plain": [
       "['I', 'want', 'to', 'hurry', 'up', 'and', 'switch', 'jobs', 'asap']"
      ]
     },
     "execution_count": 190,
     "metadata": {},
     "output_type": "execute_result"
    }
   ],
   "source": [
    "plist"
   ]
  },
  {
   "cell_type": "code",
   "execution_count": 191,
   "metadata": {},
   "outputs": [],
   "source": [
    "crazylist = ['fizzy', 'drink']*5"
   ]
  },
  {
   "cell_type": "code",
   "execution_count": 192,
   "metadata": {},
   "outputs": [
    {
     "data": {
      "text/plain": [
       "['fizzy',\n",
       " 'drink',\n",
       " 'fizzy',\n",
       " 'drink',\n",
       " 'fizzy',\n",
       " 'drink',\n",
       " 'fizzy',\n",
       " 'drink',\n",
       " 'fizzy',\n",
       " 'drink']"
      ]
     },
     "execution_count": 192,
     "metadata": {},
     "output_type": "execute_result"
    }
   ],
   "source": [
    "crazylist"
   ]
  },
  {
   "cell_type": "code",
   "execution_count": 193,
   "metadata": {},
   "outputs": [],
   "source": [
    "crazylist.remove('fizzy')"
   ]
  },
  {
   "cell_type": "code",
   "execution_count": 194,
   "metadata": {},
   "outputs": [
    {
     "data": {
      "text/plain": [
       "['drink',\n",
       " 'fizzy',\n",
       " 'drink',\n",
       " 'fizzy',\n",
       " 'drink',\n",
       " 'fizzy',\n",
       " 'drink',\n",
       " 'fizzy',\n",
       " 'drink']"
      ]
     },
     "execution_count": 194,
     "metadata": {},
     "output_type": "execute_result"
    }
   ],
   "source": [
    "crazylist"
   ]
  },
  {
   "cell_type": "code",
   "execution_count": 195,
   "metadata": {},
   "outputs": [],
   "source": [
    "for flappy in crazylist:\n",
    "    if 'drink' in crazylist:\n",
    "        crazylist.remove('drink')"
   ]
  },
  {
   "cell_type": "code",
   "execution_count": 196,
   "metadata": {},
   "outputs": [
    {
     "data": {
      "text/plain": [
       "['fizzy', 'fizzy', 'fizzy', 'fizzy']"
      ]
     },
     "execution_count": 196,
     "metadata": {},
     "output_type": "execute_result"
    }
   ],
   "source": [
    "crazylist"
   ]
  },
  {
   "cell_type": "code",
   "execution_count": 197,
   "metadata": {},
   "outputs": [
    {
     "data": {
      "text/plain": [
       "'fizzy'"
      ]
     },
     "execution_count": 197,
     "metadata": {},
     "output_type": "execute_result"
    }
   ],
   "source": [
    "crazylist.pop()"
   ]
  },
  {
   "cell_type": "code",
   "execution_count": 198,
   "metadata": {},
   "outputs": [
    {
     "data": {
      "text/plain": [
       "['fizzy', 'fizzy', 'fizzy']"
      ]
     },
     "execution_count": 198,
     "metadata": {},
     "output_type": "execute_result"
    }
   ],
   "source": [
    "crazylist"
   ]
  },
  {
   "cell_type": "code",
   "execution_count": 199,
   "metadata": {},
   "outputs": [],
   "source": [
    "for shaft in crazylist:\n",
    "    crazylist.pop()"
   ]
  },
  {
   "cell_type": "code",
   "execution_count": 200,
   "metadata": {},
   "outputs": [
    {
     "data": {
      "text/plain": [
       "['fizzy']"
      ]
     },
     "execution_count": 200,
     "metadata": {},
     "output_type": "execute_result"
    }
   ],
   "source": [
    "crazylist"
   ]
  },
  {
   "cell_type": "code",
   "execution_count": 201,
   "metadata": {},
   "outputs": [
    {
     "data": {
      "text/plain": [
       "['I', 'want', 'to', 'hurry', 'up', 'and', 'switch', 'jobs', 'asap']"
      ]
     },
     "execution_count": 201,
     "metadata": {},
     "output_type": "execute_result"
    }
   ],
   "source": [
    "plist"
   ]
  },
  {
   "cell_type": "code",
   "execution_count": 202,
   "metadata": {},
   "outputs": [
    {
     "ename": "TypeError",
     "evalue": "'builtin_function_or_method' object is not subscriptable",
     "output_type": "error",
     "traceback": [
      "\u001b[1;31m---------------------------------------------------------------------------\u001b[0m",
      "\u001b[1;31mTypeError\u001b[0m                                 Traceback (most recent call last)",
      "\u001b[1;32m<ipython-input-202-6f073043f4c5>\u001b[0m in \u001b[0;36m<module>\u001b[1;34m\u001b[0m\n\u001b[1;32m----> 1\u001b[1;33m \u001b[0mplist\u001b[0m\u001b[1;33m.\u001b[0m\u001b[0mpop\u001b[0m\u001b[1;33m[\u001b[0m\u001b[1;36m6\u001b[0m\u001b[1;33m]\u001b[0m\u001b[1;33m\u001b[0m\u001b[1;33m\u001b[0m\u001b[0m\n\u001b[0m",
      "\u001b[1;31mTypeError\u001b[0m: 'builtin_function_or_method' object is not subscriptable"
     ]
    }
   ],
   "source": [
    "plist.pop[6]"
   ]
  },
  {
   "cell_type": "code",
   "execution_count": 203,
   "metadata": {},
   "outputs": [
    {
     "ename": "TypeError",
     "evalue": "'list' object cannot be interpreted as an integer",
     "output_type": "error",
     "traceback": [
      "\u001b[1;31m---------------------------------------------------------------------------\u001b[0m",
      "\u001b[1;31mTypeError\u001b[0m                                 Traceback (most recent call last)",
      "\u001b[1;32m<ipython-input-203-1f0bbfcc3dcd>\u001b[0m in \u001b[0;36m<module>\u001b[1;34m\u001b[0m\n\u001b[1;32m----> 1\u001b[1;33m \u001b[0mplist\u001b[0m\u001b[1;33m.\u001b[0m\u001b[0mpop\u001b[0m\u001b[1;33m(\u001b[0m\u001b[1;33m[\u001b[0m\u001b[1;36m6\u001b[0m\u001b[1;33m]\u001b[0m\u001b[1;33m)\u001b[0m\u001b[1;33m\u001b[0m\u001b[1;33m\u001b[0m\u001b[0m\n\u001b[0m",
      "\u001b[1;31mTypeError\u001b[0m: 'list' object cannot be interpreted as an integer"
     ]
    }
   ],
   "source": [
    "plist.pop([6])"
   ]
  },
  {
   "cell_type": "code",
   "execution_count": 204,
   "metadata": {},
   "outputs": [
    {
     "ename": "TypeError",
     "evalue": "'str' object cannot be interpreted as an integer",
     "output_type": "error",
     "traceback": [
      "\u001b[1;31m---------------------------------------------------------------------------\u001b[0m",
      "\u001b[1;31mTypeError\u001b[0m                                 Traceback (most recent call last)",
      "\u001b[1;32m<ipython-input-204-ca8e93a977b2>\u001b[0m in \u001b[0;36m<module>\u001b[1;34m\u001b[0m\n\u001b[1;32m----> 1\u001b[1;33m \u001b[0mplist\u001b[0m\u001b[1;33m.\u001b[0m\u001b[0mpop\u001b[0m\u001b[1;33m(\u001b[0m\u001b[0mplist\u001b[0m\u001b[1;33m[\u001b[0m\u001b[1;36m6\u001b[0m\u001b[1;33m]\u001b[0m\u001b[1;33m)\u001b[0m\u001b[1;33m\u001b[0m\u001b[1;33m\u001b[0m\u001b[0m\n\u001b[0m",
      "\u001b[1;31mTypeError\u001b[0m: 'str' object cannot be interpreted as an integer"
     ]
    }
   ],
   "source": [
    "plist.pop(plist[6])"
   ]
  },
  {
   "cell_type": "code",
   "execution_count": 205,
   "metadata": {},
   "outputs": [
    {
     "ename": "TypeError",
     "evalue": "'str' object cannot be interpreted as an integer",
     "output_type": "error",
     "traceback": [
      "\u001b[1;31m---------------------------------------------------------------------------\u001b[0m",
      "\u001b[1;31mTypeError\u001b[0m                                 Traceback (most recent call last)",
      "\u001b[1;32m<ipython-input-205-cef57de6f74a>\u001b[0m in \u001b[0;36m<module>\u001b[1;34m\u001b[0m\n\u001b[1;32m----> 1\u001b[1;33m \u001b[0mplist\u001b[0m\u001b[1;33m.\u001b[0m\u001b[0mpop\u001b[0m\u001b[1;33m(\u001b[0m\u001b[1;34m'up'\u001b[0m\u001b[1;33m)\u001b[0m\u001b[1;33m\u001b[0m\u001b[1;33m\u001b[0m\u001b[0m\n\u001b[0m",
      "\u001b[1;31mTypeError\u001b[0m: 'str' object cannot be interpreted as an integer"
     ]
    }
   ],
   "source": [
    "plist.pop('up')"
   ]
  },
  {
   "cell_type": "code",
   "execution_count": 206,
   "metadata": {},
   "outputs": [
    {
     "data": {
      "text/plain": [
       "'switch'"
      ]
     },
     "execution_count": 206,
     "metadata": {},
     "output_type": "execute_result"
    }
   ],
   "source": [
    "plist.pop(6)"
   ]
  },
  {
   "cell_type": "code",
   "execution_count": 207,
   "metadata": {},
   "outputs": [
    {
     "ename": "AttributeError",
     "evalue": "'list' object has no attribute 'max'",
     "output_type": "error",
     "traceback": [
      "\u001b[1;31m---------------------------------------------------------------------------\u001b[0m",
      "\u001b[1;31mAttributeError\u001b[0m                            Traceback (most recent call last)",
      "\u001b[1;32m<ipython-input-207-87fb9e89b186>\u001b[0m in \u001b[0;36m<module>\u001b[1;34m\u001b[0m\n\u001b[1;32m----> 1\u001b[1;33m \u001b[0mplist\u001b[0m\u001b[1;33m.\u001b[0m\u001b[0mpop\u001b[0m\u001b[1;33m(\u001b[0m\u001b[0mplist\u001b[0m\u001b[1;33m.\u001b[0m\u001b[0mmax\u001b[0m\u001b[1;33m(\u001b[0m\u001b[1;33m)\u001b[0m\u001b[1;33m)\u001b[0m\u001b[1;33m\u001b[0m\u001b[1;33m\u001b[0m\u001b[0m\n\u001b[0m",
      "\u001b[1;31mAttributeError\u001b[0m: 'list' object has no attribute 'max'"
     ]
    }
   ],
   "source": [
    "plist.pop(plist.max())"
   ]
  },
  {
   "cell_type": "code",
   "execution_count": 208,
   "metadata": {},
   "outputs": [
    {
     "ename": "TypeError",
     "evalue": "'str' object cannot be interpreted as an integer",
     "output_type": "error",
     "traceback": [
      "\u001b[1;31m---------------------------------------------------------------------------\u001b[0m",
      "\u001b[1;31mTypeError\u001b[0m                                 Traceback (most recent call last)",
      "\u001b[1;32m<ipython-input-208-5177519fd3b8>\u001b[0m in \u001b[0;36m<module>\u001b[1;34m\u001b[0m\n\u001b[1;32m----> 1\u001b[1;33m \u001b[0mplist\u001b[0m\u001b[1;33m.\u001b[0m\u001b[0mpop\u001b[0m\u001b[1;33m(\u001b[0m\u001b[0mmax\u001b[0m\u001b[1;33m(\u001b[0m\u001b[0mplist\u001b[0m\u001b[1;33m)\u001b[0m\u001b[1;33m)\u001b[0m\u001b[1;33m\u001b[0m\u001b[1;33m\u001b[0m\u001b[0m\n\u001b[0m",
      "\u001b[1;31mTypeError\u001b[0m: 'str' object cannot be interpreted as an integer"
     ]
    }
   ],
   "source": [
    "plist.pop(max(plist))"
   ]
  },
  {
   "cell_type": "code",
   "execution_count": 209,
   "metadata": {},
   "outputs": [
    {
     "data": {
      "text/plain": [
       "'want'"
      ]
     },
     "execution_count": 209,
     "metadata": {},
     "output_type": "execute_result"
    }
   ],
   "source": [
    "max(plist)"
   ]
  },
  {
   "cell_type": "code",
   "execution_count": 210,
   "metadata": {},
   "outputs": [
    {
     "data": {
      "text/plain": [
       "'I'"
      ]
     },
     "execution_count": 210,
     "metadata": {},
     "output_type": "execute_result"
    }
   ],
   "source": [
    "min(plist)"
   ]
  },
  {
   "cell_type": "code",
   "execution_count": 211,
   "metadata": {},
   "outputs": [
    {
     "data": {
      "text/plain": [
       "0"
      ]
     },
     "execution_count": 211,
     "metadata": {},
     "output_type": "execute_result"
    }
   ],
   "source": [
    "plist.index(min(plist))"
   ]
  },
  {
   "cell_type": "code",
   "execution_count": 212,
   "metadata": {},
   "outputs": [
    {
     "data": {
      "text/plain": [
       "1"
      ]
     },
     "execution_count": 212,
     "metadata": {},
     "output_type": "execute_result"
    }
   ],
   "source": [
    "plist.index(max(plist))"
   ]
  },
  {
   "cell_type": "code",
   "execution_count": 213,
   "metadata": {},
   "outputs": [],
   "source": [
    "deck = [1,2,3,4,5,6,7,8,9,10]*4"
   ]
  },
  {
   "cell_type": "code",
   "execution_count": 214,
   "metadata": {},
   "outputs": [
    {
     "data": {
      "text/plain": [
       "[1,\n",
       " 2,\n",
       " 3,\n",
       " 4,\n",
       " 5,\n",
       " 6,\n",
       " 7,\n",
       " 8,\n",
       " 9,\n",
       " 10,\n",
       " 1,\n",
       " 2,\n",
       " 3,\n",
       " 4,\n",
       " 5,\n",
       " 6,\n",
       " 7,\n",
       " 8,\n",
       " 9,\n",
       " 10,\n",
       " 1,\n",
       " 2,\n",
       " 3,\n",
       " 4,\n",
       " 5,\n",
       " 6,\n",
       " 7,\n",
       " 8,\n",
       " 9,\n",
       " 10,\n",
       " 1,\n",
       " 2,\n",
       " 3,\n",
       " 4,\n",
       " 5,\n",
       " 6,\n",
       " 7,\n",
       " 8,\n",
       " 9,\n",
       " 10]"
      ]
     },
     "execution_count": 214,
     "metadata": {},
     "output_type": "execute_result"
    }
   ],
   "source": [
    "deck"
   ]
  },
  {
   "cell_type": "code",
   "execution_count": 215,
   "metadata": {},
   "outputs": [],
   "source": [
    "#from itertools import permutations"
   ]
  },
  {
   "cell_type": "code",
   "execution_count": 216,
   "metadata": {},
   "outputs": [],
   "source": [
    "deck1 = [1,2,3,4,5,6,7,8,9,10]"
   ]
  },
  {
   "cell_type": "code",
   "execution_count": 217,
   "metadata": {},
   "outputs": [
    {
     "ename": "NameError",
     "evalue": "name 'permutations' is not defined",
     "output_type": "error",
     "traceback": [
      "\u001b[1;31m---------------------------------------------------------------------------\u001b[0m",
      "\u001b[1;31mNameError\u001b[0m                                 Traceback (most recent call last)",
      "\u001b[1;32m<ipython-input-217-176419277e1f>\u001b[0m in \u001b[0;36m<module>\u001b[1;34m\u001b[0m\n\u001b[1;32m----> 1\u001b[1;33m \u001b[0mdecklist\u001b[0m \u001b[1;33m=\u001b[0m \u001b[0mpermutations\u001b[0m\u001b[1;33m(\u001b[0m\u001b[0mdeck1\u001b[0m\u001b[1;33m,\u001b[0m \u001b[0mr\u001b[0m\u001b[1;33m=\u001b[0m\u001b[1;36m2\u001b[0m\u001b[1;33m)\u001b[0m\u001b[1;33m\u001b[0m\u001b[1;33m\u001b[0m\u001b[0m\n\u001b[0m",
      "\u001b[1;31mNameError\u001b[0m: name 'permutations' is not defined"
     ]
    }
   ],
   "source": [
    "decklist = permutations(deck1, r=2)"
   ]
  },
  {
   "cell_type": "code",
   "execution_count": 218,
   "metadata": {},
   "outputs": [
    {
     "ename": "NameError",
     "evalue": "name 'decklist' is not defined",
     "output_type": "error",
     "traceback": [
      "\u001b[1;31m---------------------------------------------------------------------------\u001b[0m",
      "\u001b[1;31mNameError\u001b[0m                                 Traceback (most recent call last)",
      "\u001b[1;32m<ipython-input-218-688cb3204c17>\u001b[0m in \u001b[0;36m<module>\u001b[1;34m\u001b[0m\n\u001b[1;32m----> 1\u001b[1;33m \u001b[0mdecklist\u001b[0m\u001b[1;33m\u001b[0m\u001b[1;33m\u001b[0m\u001b[0m\n\u001b[0m",
      "\u001b[1;31mNameError\u001b[0m: name 'decklist' is not defined"
     ]
    }
   ],
   "source": [
    "decklist"
   ]
  },
  {
   "cell_type": "code",
   "execution_count": 219,
   "metadata": {},
   "outputs": [
    {
     "ename": "NameError",
     "evalue": "name 'permutations' is not defined",
     "output_type": "error",
     "traceback": [
      "\u001b[1;31m---------------------------------------------------------------------------\u001b[0m",
      "\u001b[1;31mNameError\u001b[0m                                 Traceback (most recent call last)",
      "\u001b[1;32m<ipython-input-219-8f27b0817fd2>\u001b[0m in \u001b[0;36m<module>\u001b[1;34m\u001b[0m\n\u001b[1;32m----> 1\u001b[1;33m \u001b[0mtxt\u001b[0m\u001b[1;33m=\u001b[0m\u001b[0mpermutations\u001b[0m\u001b[1;33m(\u001b[0m\u001b[1;34m'SKI'\u001b[0m\u001b[1;33m)\u001b[0m\u001b[1;33m\u001b[0m\u001b[1;33m\u001b[0m\u001b[0m\n\u001b[0m\u001b[0;32m      2\u001b[0m \u001b[0mprint\u001b[0m\u001b[1;33m(\u001b[0m\u001b[0mtxt\u001b[0m\u001b[1;33m)\u001b[0m\u001b[1;33m\u001b[0m\u001b[1;33m\u001b[0m\u001b[0m\n\u001b[0;32m      3\u001b[0m \u001b[1;33m\u001b[0m\u001b[0m\n\u001b[0;32m      4\u001b[0m \u001b[1;32mfor\u001b[0m \u001b[0msingle_permutation\u001b[0m \u001b[1;32min\u001b[0m \u001b[0mtxt\u001b[0m\u001b[1;33m:\u001b[0m\u001b[1;33m\u001b[0m\u001b[1;33m\u001b[0m\u001b[0m\n\u001b[0;32m      5\u001b[0m     \u001b[0mprint\u001b[0m\u001b[1;33m(\u001b[0m\u001b[0msingle_permutation\u001b[0m\u001b[1;33m)\u001b[0m\u001b[1;33m\u001b[0m\u001b[1;33m\u001b[0m\u001b[0m\n",
      "\u001b[1;31mNameError\u001b[0m: name 'permutations' is not defined"
     ]
    }
   ],
   "source": [
    "txt=permutations('SKI')\n",
    "print(txt)\n",
    "\n",
    "for single_permutation in txt:\n",
    "    print(single_permutation)"
   ]
  },
  {
   "cell_type": "code",
   "execution_count": 220,
   "metadata": {},
   "outputs": [
    {
     "ename": "NameError",
     "evalue": "name 'permutations' is not defined",
     "output_type": "error",
     "traceback": [
      "\u001b[1;31m---------------------------------------------------------------------------\u001b[0m",
      "\u001b[1;31mNameError\u001b[0m                                 Traceback (most recent call last)",
      "\u001b[1;32m<ipython-input-220-c932674faa7d>\u001b[0m in \u001b[0;36m<module>\u001b[1;34m\u001b[0m\n\u001b[1;32m----> 1\u001b[1;33m \u001b[0mdeckcombi\u001b[0m \u001b[1;33m=\u001b[0m\u001b[0mpermutations\u001b[0m\u001b[1;33m(\u001b[0m\u001b[0mdeck1\u001b[0m\u001b[1;33m,\u001b[0m \u001b[0mr\u001b[0m\u001b[1;33m=\u001b[0m\u001b[1;36m2\u001b[0m\u001b[1;33m)\u001b[0m\u001b[1;33m\u001b[0m\u001b[1;33m\u001b[0m\u001b[0m\n\u001b[0m",
      "\u001b[1;31mNameError\u001b[0m: name 'permutations' is not defined"
     ]
    }
   ],
   "source": [
    "deckcombi =permutations(deck1, r=2)"
   ]
  },
  {
   "cell_type": "code",
   "execution_count": 221,
   "metadata": {},
   "outputs": [
    {
     "ename": "NameError",
     "evalue": "name 'deckcombi' is not defined",
     "output_type": "error",
     "traceback": [
      "\u001b[1;31m---------------------------------------------------------------------------\u001b[0m",
      "\u001b[1;31mNameError\u001b[0m                                 Traceback (most recent call last)",
      "\u001b[1;32m<ipython-input-221-6b24e3154c89>\u001b[0m in \u001b[0;36m<module>\u001b[1;34m\u001b[0m\n\u001b[1;32m----> 1\u001b[1;33m \u001b[0mprint\u001b[0m\u001b[1;33m(\u001b[0m\u001b[0mdeckcombi\u001b[0m\u001b[1;33m)\u001b[0m\u001b[1;33m\u001b[0m\u001b[1;33m\u001b[0m\u001b[0m\n\u001b[0m",
      "\u001b[1;31mNameError\u001b[0m: name 'deckcombi' is not defined"
     ]
    }
   ],
   "source": [
    "print(deckcombi)"
   ]
  },
  {
   "cell_type": "code",
   "execution_count": 222,
   "metadata": {},
   "outputs": [
    {
     "ename": "NameError",
     "evalue": "name 'deckcombi' is not defined",
     "output_type": "error",
     "traceback": [
      "\u001b[1;31m---------------------------------------------------------------------------\u001b[0m",
      "\u001b[1;31mNameError\u001b[0m                                 Traceback (most recent call last)",
      "\u001b[1;32m<ipython-input-222-eee4c6fd855c>\u001b[0m in \u001b[0;36m<module>\u001b[1;34m\u001b[0m\n\u001b[0;32m      1\u001b[0m \u001b[0mpossibilitylist\u001b[0m \u001b[1;33m=\u001b[0m\u001b[1;33m[\u001b[0m\u001b[1;33m]\u001b[0m\u001b[1;33m\u001b[0m\u001b[1;33m\u001b[0m\u001b[0m\n\u001b[1;32m----> 2\u001b[1;33m \u001b[1;32mfor\u001b[0m \u001b[0mboobs\u001b[0m \u001b[1;32min\u001b[0m \u001b[0mdeckcombi\u001b[0m\u001b[1;33m:\u001b[0m\u001b[1;33m\u001b[0m\u001b[1;33m\u001b[0m\u001b[0m\n\u001b[0m\u001b[0;32m      3\u001b[0m     \u001b[0mboobs\u001b[0m \u001b[1;33m=\u001b[0m \u001b[0mlist\u001b[0m\u001b[1;33m(\u001b[0m\u001b[0mboobs\u001b[0m\u001b[1;33m)\u001b[0m\u001b[1;33m\u001b[0m\u001b[1;33m\u001b[0m\u001b[0m\n\u001b[0;32m      4\u001b[0m     \u001b[0mpossibilitylist\u001b[0m\u001b[1;33m.\u001b[0m\u001b[0mappend\u001b[0m\u001b[1;33m(\u001b[0m\u001b[0mboobs\u001b[0m\u001b[1;33m)\u001b[0m\u001b[1;33m\u001b[0m\u001b[1;33m\u001b[0m\u001b[0m\n",
      "\u001b[1;31mNameError\u001b[0m: name 'deckcombi' is not defined"
     ]
    }
   ],
   "source": [
    "possibilitylist =[]\n",
    "for boobs in deckcombi:\n",
    "    boobs = list(boobs)\n",
    "    possibilitylist.append(boobs)"
   ]
  },
  {
   "cell_type": "code",
   "execution_count": 223,
   "metadata": {},
   "outputs": [
    {
     "data": {
      "text/plain": [
       "[]"
      ]
     },
     "execution_count": 223,
     "metadata": {},
     "output_type": "execute_result"
    }
   ],
   "source": [
    "possibilitylist"
   ]
  },
  {
   "cell_type": "code",
   "execution_count": 224,
   "metadata": {},
   "outputs": [
    {
     "data": {
      "text/plain": [
       "0"
      ]
     },
     "execution_count": 224,
     "metadata": {},
     "output_type": "execute_result"
    }
   ],
   "source": [
    "len(possibilitylist)"
   ]
  },
  {
   "cell_type": "markdown",
   "metadata": {},
   "source": [
    "a little detour fun kabu game"
   ]
  },
  {
   "cell_type": "code",
   "execution_count": 225,
   "metadata": {},
   "outputs": [],
   "source": [
    "from itertools import permutations\n",
    "import seaborn as sns"
   ]
  },
  {
   "cell_type": "code",
   "execution_count": 226,
   "metadata": {},
   "outputs": [],
   "source": [
    "deck = [1,2,3,4,5,6,7,8,9,10]*4"
   ]
  },
  {
   "cell_type": "code",
   "execution_count": 227,
   "metadata": {},
   "outputs": [
    {
     "name": "stdout",
     "output_type": "stream",
     "text": [
      "CARD ONE: \n"
     ]
    },
    {
     "ename": "ValueError",
     "evalue": "invalid literal for int() with base 10: ''",
     "output_type": "error",
     "traceback": [
      "\u001b[1;31m---------------------------------------------------------------------------\u001b[0m",
      "\u001b[1;31mValueError\u001b[0m                                Traceback (most recent call last)",
      "\u001b[1;32m<ipython-input-227-b2d0dffea79a>\u001b[0m in \u001b[0;36m<module>\u001b[1;34m\u001b[0m\n\u001b[1;32m----> 1\u001b[1;33m \u001b[0mc1\u001b[0m \u001b[1;33m=\u001b[0m \u001b[0mint\u001b[0m\u001b[1;33m(\u001b[0m\u001b[0minput\u001b[0m\u001b[1;33m(\u001b[0m\u001b[1;34m\"CARD ONE: \"\u001b[0m\u001b[1;33m)\u001b[0m\u001b[1;33m)\u001b[0m\u001b[1;33m\u001b[0m\u001b[1;33m\u001b[0m\u001b[0m\n\u001b[0m\u001b[0;32m      2\u001b[0m \u001b[0mc2\u001b[0m \u001b[1;33m=\u001b[0m \u001b[0mint\u001b[0m\u001b[1;33m(\u001b[0m\u001b[0minput\u001b[0m\u001b[1;33m(\u001b[0m\u001b[1;34m\"CARD TWO: \"\u001b[0m\u001b[1;33m)\u001b[0m\u001b[1;33m)\u001b[0m\u001b[1;33m\u001b[0m\u001b[1;33m\u001b[0m\u001b[0m\n\u001b[0;32m      3\u001b[0m \u001b[0mc3\u001b[0m \u001b[1;33m=\u001b[0m \u001b[0mint\u001b[0m\u001b[1;33m(\u001b[0m\u001b[0minput\u001b[0m\u001b[1;33m(\u001b[0m\u001b[1;34m\"CARD THREE: \"\u001b[0m\u001b[1;33m)\u001b[0m\u001b[1;33m)\u001b[0m\u001b[1;33m\u001b[0m\u001b[1;33m\u001b[0m\u001b[0m\n\u001b[0;32m      4\u001b[0m \u001b[0mc4\u001b[0m \u001b[1;33m=\u001b[0m \u001b[0mint\u001b[0m\u001b[1;33m(\u001b[0m\u001b[0minput\u001b[0m\u001b[1;33m(\u001b[0m\u001b[1;34m\"CARD FOUR: \"\u001b[0m\u001b[1;33m)\u001b[0m\u001b[1;33m)\u001b[0m\u001b[1;33m\u001b[0m\u001b[1;33m\u001b[0m\u001b[0m\n\u001b[0;32m      5\u001b[0m \u001b[0mopen4\u001b[0m \u001b[1;33m=\u001b[0m \u001b[1;33m[\u001b[0m\u001b[0mc1\u001b[0m\u001b[1;33m,\u001b[0m \u001b[0mc2\u001b[0m\u001b[1;33m,\u001b[0m \u001b[0mc3\u001b[0m\u001b[1;33m,\u001b[0m \u001b[0mc4\u001b[0m\u001b[1;33m]\u001b[0m\u001b[1;33m\u001b[0m\u001b[1;33m\u001b[0m\u001b[0m\n",
      "\u001b[1;31mValueError\u001b[0m: invalid literal for int() with base 10: ''"
     ]
    }
   ],
   "source": [
    "c1 = int(input(\"CARD ONE: \"))\n",
    "c2 = int(input(\"CARD TWO: \"))\n",
    "c3 = int(input(\"CARD THREE: \"))\n",
    "c4 = int(input(\"CARD FOUR: \"))\n",
    "open4 = [c1, c2, c3, c4]"
   ]
  },
  {
   "cell_type": "code",
   "execution_count": null,
   "metadata": {},
   "outputs": [],
   "source": [
    "open4"
   ]
  },
  {
   "cell_type": "code",
   "execution_count": null,
   "metadata": {},
   "outputs": [],
   "source": [
    "for i in open4:\n",
    "    deck.remove(i)"
   ]
  },
  {
   "cell_type": "code",
   "execution_count": null,
   "metadata": {},
   "outputs": [],
   "source": [
    "deck"
   ]
  },
  {
   "cell_type": "code",
   "execution_count": null,
   "metadata": {},
   "outputs": [],
   "source": [
    "deckcombi2 = permutations(deck, r=2)"
   ]
  },
  {
   "cell_type": "code",
   "execution_count": null,
   "metadata": {},
   "outputs": [],
   "source": [
    "shiz = []\n",
    "for combi in deckcombi2:\n",
    "    combi = list(combi)\n",
    "    shiz.append(combi)"
   ]
  },
  {
   "cell_type": "code",
   "execution_count": null,
   "metadata": {},
   "outputs": [],
   "source": [
    "len(shiz)"
   ]
  },
  {
   "cell_type": "code",
   "execution_count": 228,
   "metadata": {},
   "outputs": [
    {
     "ename": "NameError",
     "evalue": "name 'shiz' is not defined",
     "output_type": "error",
     "traceback": [
      "\u001b[1;31m---------------------------------------------------------------------------\u001b[0m",
      "\u001b[1;31mNameError\u001b[0m                                 Traceback (most recent call last)",
      "\u001b[1;32m<ipython-input-228-a4ce41773834>\u001b[0m in \u001b[0;36m<module>\u001b[1;34m\u001b[0m\n\u001b[1;32m----> 1\u001b[1;33m \u001b[0mshiz\u001b[0m\u001b[1;33m\u001b[0m\u001b[1;33m\u001b[0m\u001b[0m\n\u001b[0m",
      "\u001b[1;31mNameError\u001b[0m: name 'shiz' is not defined"
     ]
    }
   ],
   "source": [
    "shiz"
   ]
  },
  {
   "cell_type": "code",
   "execution_count": 229,
   "metadata": {},
   "outputs": [],
   "source": [
    "set9 = []\n",
    "set8 = []\n",
    "set7 = []\n",
    "set6 = []\n",
    "set5 = []\n",
    "set4 = []\n",
    "set3 = []\n",
    "set2 = []\n",
    "set1 = []\n",
    "set0 = []"
   ]
  },
  {
   "cell_type": "code",
   "execution_count": 230,
   "metadata": {},
   "outputs": [
    {
     "ename": "NameError",
     "evalue": "name 'shiz' is not defined",
     "output_type": "error",
     "traceback": [
      "\u001b[1;31m---------------------------------------------------------------------------\u001b[0m",
      "\u001b[1;31mNameError\u001b[0m                                 Traceback (most recent call last)",
      "\u001b[1;32m<ipython-input-230-4929c6622457>\u001b[0m in \u001b[0;36m<module>\u001b[1;34m\u001b[0m\n\u001b[1;32m----> 1\u001b[1;33m \u001b[1;32mfor\u001b[0m \u001b[0msetz\u001b[0m \u001b[1;32min\u001b[0m \u001b[0mshiz\u001b[0m\u001b[1;33m[\u001b[0m\u001b[1;33m:\u001b[0m\u001b[1;33m]\u001b[0m\u001b[1;33m:\u001b[0m\u001b[1;33m\u001b[0m\u001b[1;33m\u001b[0m\u001b[0m\n\u001b[0m\u001b[0;32m      2\u001b[0m     \u001b[1;32mif\u001b[0m \u001b[1;33m(\u001b[0m\u001b[0mc1\u001b[0m \u001b[1;33m+\u001b[0m \u001b[0msetz\u001b[0m\u001b[1;33m[\u001b[0m\u001b[1;36m0\u001b[0m\u001b[1;33m]\u001b[0m\u001b[1;33m)\u001b[0m\u001b[1;33m%\u001b[0m\u001b[1;36m10\u001b[0m \u001b[1;33m==\u001b[0m \u001b[1;36m9\u001b[0m \u001b[1;32mor\u001b[0m \u001b[1;33m(\u001b[0m\u001b[0mc1\u001b[0m \u001b[1;33m+\u001b[0m \u001b[0msum\u001b[0m\u001b[1;33m(\u001b[0m\u001b[0msetz\u001b[0m\u001b[1;33m)\u001b[0m\u001b[1;33m)\u001b[0m\u001b[1;33m%\u001b[0m\u001b[1;36m10\u001b[0m \u001b[1;33m==\u001b[0m \u001b[1;36m9\u001b[0m\u001b[1;33m:\u001b[0m\u001b[1;33m\u001b[0m\u001b[1;33m\u001b[0m\u001b[0m\n\u001b[0;32m      3\u001b[0m         \u001b[0mset9\u001b[0m\u001b[1;33m.\u001b[0m\u001b[0mappend\u001b[0m\u001b[1;33m(\u001b[0m\u001b[0msetz\u001b[0m\u001b[1;33m)\u001b[0m\u001b[1;33m\u001b[0m\u001b[1;33m\u001b[0m\u001b[0m\n\u001b[0;32m      4\u001b[0m         \u001b[0mshiz\u001b[0m\u001b[1;33m.\u001b[0m\u001b[0mremove\u001b[0m\u001b[1;33m(\u001b[0m\u001b[0msetz\u001b[0m\u001b[1;33m)\u001b[0m\u001b[1;33m\u001b[0m\u001b[1;33m\u001b[0m\u001b[0m\n\u001b[0;32m      5\u001b[0m     \u001b[1;32melif\u001b[0m \u001b[1;33m(\u001b[0m\u001b[0mc1\u001b[0m \u001b[1;33m+\u001b[0m \u001b[0msetz\u001b[0m\u001b[1;33m[\u001b[0m\u001b[1;36m0\u001b[0m\u001b[1;33m]\u001b[0m\u001b[1;33m)\u001b[0m\u001b[1;33m%\u001b[0m\u001b[1;36m10\u001b[0m \u001b[1;33m==\u001b[0m \u001b[1;36m8\u001b[0m \u001b[1;32mor\u001b[0m \u001b[1;33m(\u001b[0m\u001b[0mc1\u001b[0m \u001b[1;33m+\u001b[0m \u001b[0msum\u001b[0m\u001b[1;33m(\u001b[0m\u001b[0msetz\u001b[0m\u001b[1;33m)\u001b[0m\u001b[1;33m)\u001b[0m\u001b[1;33m%\u001b[0m\u001b[1;36m10\u001b[0m \u001b[1;33m==\u001b[0m \u001b[1;36m8\u001b[0m\u001b[1;33m:\u001b[0m\u001b[1;33m\u001b[0m\u001b[1;33m\u001b[0m\u001b[0m\n",
      "\u001b[1;31mNameError\u001b[0m: name 'shiz' is not defined"
     ]
    }
   ],
   "source": [
    "for setz in shiz[:]:\n",
    "    if (c1 + setz[0])%10 == 9 or (c1 + sum(setz))%10 == 9:\n",
    "        set9.append(setz)\n",
    "        shiz.remove(setz)\n",
    "    elif (c1 + setz[0])%10 == 8 or (c1 + sum(setz))%10 == 8:\n",
    "        set8.append(setz)\n",
    "        shiz.remove(setz)\n",
    "    elif (c1 + setz[0])%10 == 7 or (c1 + sum(setz))%10 == 7:\n",
    "        set7.append(setz)\n",
    "        shiz.remove(setz)\n",
    "    elif (c1 + setz[0])%10 == 6 or (c1 + sum(setz))%10 == 6:\n",
    "        set6.append(setz)\n",
    "        shiz.remove(setz)\n",
    "    elif (c1 + setz[0])%10 == 5 or (c1 + sum(setz))%10 == 5:\n",
    "        set5.append(setz)\n",
    "        shiz.remove(setz)\n",
    "    elif (c1 + setz[0])%10 == 4 or (c1 + sum(setz))%10 == 4:\n",
    "        set4.append(setz)\n",
    "        shiz.remove(setz)\n",
    "    elif (c1 + setz[0])%10 == 3 or (c1 + sum(setz))%10 == 3:\n",
    "        set3.append(setz)\n",
    "        shiz.remove(setz)\n",
    "    elif (c1 + setz[0])%10 == 2 or (c1 + sum(setz))%10 == 2:\n",
    "        set2.append(setz)\n",
    "        shiz.remove(setz)\n",
    "    elif (c1 + setz[0])%10 == 1 or (c1 + sum(setz))%10 == 1:\n",
    "        set1.append(setz)\n",
    "        shiz.remove(setz)\n",
    "    else:\n",
    "        set0.append(setz)\n",
    "        shiz.remove(setz)"
   ]
  },
  {
   "cell_type": "code",
   "execution_count": 231,
   "metadata": {},
   "outputs": [],
   "source": [
    "c1sets = [set9, set8, set7, set6, set5, set4, set3, set2, set1, set0]\n",
    "c1setsstring = ['set9', 'set8', 'set7', 'set6', 'set5', 'set4', 'set3', 'set2', 'set1', 'set0']\n",
    "c1setlen=[]"
   ]
  },
  {
   "cell_type": "code",
   "execution_count": 232,
   "metadata": {},
   "outputs": [
    {
     "name": "stdout",
     "output_type": "stream",
     "text": [
      "0\n",
      "0\n",
      "0\n",
      "0\n",
      "0\n",
      "0\n",
      "0\n",
      "0\n",
      "0\n",
      "0\n"
     ]
    }
   ],
   "source": [
    "for length in c1sets:\n",
    "    print(len(length))\n",
    "    c1setlen.append(len(length))"
   ]
  },
  {
   "cell_type": "code",
   "execution_count": 233,
   "metadata": {},
   "outputs": [
    {
     "data": {
      "text/plain": [
       "[0, 0, 0, 0, 0, 0, 0, 0, 0, 0]"
      ]
     },
     "execution_count": 233,
     "metadata": {},
     "output_type": "execute_result"
    }
   ],
   "source": [
    "c1setlen"
   ]
  },
  {
   "cell_type": "code",
   "execution_count": 234,
   "metadata": {},
   "outputs": [
    {
     "data": {
      "text/plain": [
       "<AxesSubplot:>"
      ]
     },
     "execution_count": 234,
     "metadata": {},
     "output_type": "execute_result"
    },
    {
     "data": {
      "image/png": "[encoded data removed]",
      "text/plain": [
       "<Figure size 432x288 with 1 Axes>"
      ]
     },
     "metadata": {
      "needs_background": "light"
     },
     "output_type": "display_data"
    }
   ],
   "source": [
    "sns.barplot(x=c1setsstring, y=c1setlen)"
   ]
  },
  {
   "cell_type": "code",
   "execution_count": 235,
   "metadata": {},
   "outputs": [
    {
     "data": {
      "text/plain": [
       "[]"
      ]
     },
     "execution_count": 235,
     "metadata": {},
     "output_type": "execute_result"
    }
   ],
   "source": [
    "set9"
   ]
  },
  {
   "cell_type": "markdown",
   "metadata": {},
   "source": [
    "resume tutorial practice"
   ]
  },
  {
   "cell_type": "code",
   "execution_count": 236,
   "metadata": {},
   "outputs": [],
   "source": [
    "shaz = list(\"I am going to change the fucking world\".split())"
   ]
  },
  {
   "cell_type": "code",
   "execution_count": 237,
   "metadata": {},
   "outputs": [
    {
     "data": {
      "text/plain": [
       "['I', 'am', 'going', 'to', 'change', 'the', 'fucking', 'world']"
      ]
     },
     "execution_count": 237,
     "metadata": {},
     "output_type": "execute_result"
    }
   ],
   "source": [
    "shaz"
   ]
  },
  {
   "cell_type": "code",
   "execution_count": 238,
   "metadata": {},
   "outputs": [
    {
     "data": {
      "text/plain": [
       "2"
      ]
     },
     "execution_count": 238,
     "metadata": {},
     "output_type": "execute_result"
    }
   ],
   "source": [
    "shaz.index('going')"
   ]
  },
  {
   "cell_type": "code",
   "execution_count": 239,
   "metadata": {},
   "outputs": [
    {
     "data": {
      "text/plain": [
       "1"
      ]
     },
     "execution_count": 239,
     "metadata": {},
     "output_type": "execute_result"
    }
   ],
   "source": [
    "shaz.count('going')"
   ]
  },
  {
   "cell_type": "code",
   "execution_count": 240,
   "metadata": {},
   "outputs": [
    {
     "data": {
      "text/plain": [
       "['I', 'am', 'change', 'fucking', 'going', 'the', 'to', 'world']"
      ]
     },
     "execution_count": 240,
     "metadata": {},
     "output_type": "execute_result"
    }
   ],
   "source": [
    "sorted(shaz)"
   ]
  },
  {
   "cell_type": "code",
   "execution_count": 241,
   "metadata": {},
   "outputs": [],
   "source": [
    "numbershaz = [2, 5, 7, 3.7]"
   ]
  },
  {
   "cell_type": "code",
   "execution_count": 242,
   "metadata": {},
   "outputs": [
    {
     "data": {
      "text/plain": [
       "[2, 3.7, 5, 7]"
      ]
     },
     "execution_count": 242,
     "metadata": {},
     "output_type": "execute_result"
    }
   ],
   "source": [
    "sorted(numbershaz)"
   ]
  },
  {
   "cell_type": "code",
   "execution_count": 243,
   "metadata": {},
   "outputs": [],
   "source": [
    "shaz.sort()"
   ]
  },
  {
   "cell_type": "code",
   "execution_count": 244,
   "metadata": {},
   "outputs": [
    {
     "data": {
      "text/plain": [
       "['I', 'am', 'change', 'fucking', 'going', 'the', 'to', 'world']"
      ]
     },
     "execution_count": 244,
     "metadata": {},
     "output_type": "execute_result"
    }
   ],
   "source": [
    "shaz"
   ]
  },
  {
   "cell_type": "code",
   "execution_count": 245,
   "metadata": {},
   "outputs": [],
   "source": [
    "shaz.reverse()"
   ]
  },
  {
   "cell_type": "code",
   "execution_count": 246,
   "metadata": {},
   "outputs": [
    {
     "data": {
      "text/plain": [
       "['world', 'to', 'the', 'going', 'fucking', 'change', 'am', 'I']"
      ]
     },
     "execution_count": 246,
     "metadata": {},
     "output_type": "execute_result"
    }
   ],
   "source": [
    "shaz"
   ]
  },
  {
   "cell_type": "code",
   "execution_count": 247,
   "metadata": {},
   "outputs": [
    {
     "data": {
      "text/plain": [
       "['world', 'to', 'the', 'going', 'fucking', 'change', 'am', 'I']"
      ]
     },
     "execution_count": 247,
     "metadata": {},
     "output_type": "execute_result"
    }
   ],
   "source": [
    "shaz.copy()"
   ]
  },
  {
   "cell_type": "code",
   "execution_count": 248,
   "metadata": {},
   "outputs": [],
   "source": [
    "fruits = ['orange', 'apple', 'pear', 'banana', 'kiwi', 'apple', 'banana']"
   ]
  },
  {
   "cell_type": "code",
   "execution_count": 249,
   "metadata": {},
   "outputs": [
    {
     "data": {
      "text/plain": [
       "2"
      ]
     },
     "execution_count": 249,
     "metadata": {},
     "output_type": "execute_result"
    }
   ],
   "source": [
    "fruits.count('apple')"
   ]
  },
  {
   "cell_type": "code",
   "execution_count": 250,
   "metadata": {},
   "outputs": [
    {
     "data": {
      "text/plain": [
       "0"
      ]
     },
     "execution_count": 250,
     "metadata": {},
     "output_type": "execute_result"
    }
   ],
   "source": [
    "fruits.count('tangerine')"
   ]
  },
  {
   "cell_type": "code",
   "execution_count": 251,
   "metadata": {},
   "outputs": [
    {
     "data": {
      "text/plain": [
       "3"
      ]
     },
     "execution_count": 251,
     "metadata": {},
     "output_type": "execute_result"
    }
   ],
   "source": [
    "fruits.index('banana')"
   ]
  },
  {
   "cell_type": "code",
   "execution_count": 252,
   "metadata": {},
   "outputs": [
    {
     "data": {
      "text/plain": [
       "6"
      ]
     },
     "execution_count": 252,
     "metadata": {},
     "output_type": "execute_result"
    }
   ],
   "source": [
    "fruits.index('banana',4)"
   ]
  },
  {
   "cell_type": "code",
   "execution_count": 253,
   "metadata": {},
   "outputs": [],
   "source": [
    "fruits.reverse()"
   ]
  },
  {
   "cell_type": "code",
   "execution_count": 254,
   "metadata": {},
   "outputs": [
    {
     "data": {
      "text/plain": [
       "['banana', 'apple', 'kiwi', 'banana', 'pear', 'apple', 'orange']"
      ]
     },
     "execution_count": 254,
     "metadata": {},
     "output_type": "execute_result"
    }
   ],
   "source": [
    "fruits"
   ]
  },
  {
   "cell_type": "code",
   "execution_count": 255,
   "metadata": {},
   "outputs": [],
   "source": [
    "fruits.append('grape')"
   ]
  },
  {
   "cell_type": "code",
   "execution_count": 256,
   "metadata": {},
   "outputs": [
    {
     "data": {
      "text/plain": [
       "['banana', 'apple', 'kiwi', 'banana', 'pear', 'apple', 'orange', 'grape']"
      ]
     },
     "execution_count": 256,
     "metadata": {},
     "output_type": "execute_result"
    }
   ],
   "source": [
    "fruits"
   ]
  },
  {
   "cell_type": "code",
   "execution_count": 257,
   "metadata": {},
   "outputs": [],
   "source": [
    "fruits.sort()"
   ]
  },
  {
   "cell_type": "code",
   "execution_count": 258,
   "metadata": {},
   "outputs": [
    {
     "data": {
      "text/plain": [
       "['apple', 'apple', 'banana', 'banana', 'grape', 'kiwi', 'orange', 'pear']"
      ]
     },
     "execution_count": 258,
     "metadata": {},
     "output_type": "execute_result"
    }
   ],
   "source": [
    "fruits"
   ]
  },
  {
   "cell_type": "code",
   "execution_count": 259,
   "metadata": {},
   "outputs": [
    {
     "data": {
      "text/plain": [
       "'pear'"
      ]
     },
     "execution_count": 259,
     "metadata": {},
     "output_type": "execute_result"
    }
   ],
   "source": [
    "fruits.pop()"
   ]
  },
  {
   "cell_type": "code",
   "execution_count": 260,
   "metadata": {},
   "outputs": [],
   "source": [
    "poopoo = [True, True, False, True, False]"
   ]
  },
  {
   "cell_type": "code",
   "execution_count": 261,
   "metadata": {},
   "outputs": [
    {
     "data": {
      "text/plain": [
       "[False, False, True, True, True]"
      ]
     },
     "execution_count": 261,
     "metadata": {},
     "output_type": "execute_result"
    }
   ],
   "source": [
    "sorted(poopoo)"
   ]
  },
  {
   "cell_type": "code",
   "execution_count": 262,
   "metadata": {},
   "outputs": [],
   "source": [
    "stack = [3,4,5]"
   ]
  },
  {
   "cell_type": "code",
   "execution_count": 263,
   "metadata": {},
   "outputs": [],
   "source": [
    "stack.append(6)"
   ]
  },
  {
   "cell_type": "code",
   "execution_count": 264,
   "metadata": {},
   "outputs": [
    {
     "data": {
      "text/plain": [
       "[3, 4, 5, 6]"
      ]
     },
     "execution_count": 264,
     "metadata": {},
     "output_type": "execute_result"
    }
   ],
   "source": [
    "stack"
   ]
  },
  {
   "cell_type": "code",
   "execution_count": 265,
   "metadata": {},
   "outputs": [],
   "source": [
    "stack.append(7)"
   ]
  },
  {
   "cell_type": "code",
   "execution_count": 266,
   "metadata": {},
   "outputs": [
    {
     "data": {
      "text/plain": [
       "[3, 4, 5, 6, 7]"
      ]
     },
     "execution_count": 266,
     "metadata": {},
     "output_type": "execute_result"
    }
   ],
   "source": [
    "stack"
   ]
  },
  {
   "cell_type": "code",
   "execution_count": 267,
   "metadata": {},
   "outputs": [
    {
     "data": {
      "text/plain": [
       "7"
      ]
     },
     "execution_count": 267,
     "metadata": {},
     "output_type": "execute_result"
    }
   ],
   "source": [
    "stack.pop()"
   ]
  },
  {
   "cell_type": "code",
   "execution_count": 268,
   "metadata": {},
   "outputs": [
    {
     "data": {
      "text/plain": [
       "[3, 4, 5, 6]"
      ]
     },
     "execution_count": 268,
     "metadata": {},
     "output_type": "execute_result"
    }
   ],
   "source": [
    "stack"
   ]
  },
  {
   "cell_type": "code",
   "execution_count": 269,
   "metadata": {},
   "outputs": [
    {
     "data": {
      "text/plain": [
       "6"
      ]
     },
     "execution_count": 269,
     "metadata": {},
     "output_type": "execute_result"
    }
   ],
   "source": [
    "stack.pop()"
   ]
  },
  {
   "cell_type": "code",
   "execution_count": 270,
   "metadata": {},
   "outputs": [
    {
     "data": {
      "text/plain": [
       "5"
      ]
     },
     "execution_count": 270,
     "metadata": {},
     "output_type": "execute_result"
    }
   ],
   "source": [
    "stack.pop()"
   ]
  },
  {
   "cell_type": "code",
   "execution_count": 271,
   "metadata": {},
   "outputs": [
    {
     "data": {
      "text/plain": [
       "[3, 4]"
      ]
     },
     "execution_count": 271,
     "metadata": {},
     "output_type": "execute_result"
    }
   ],
   "source": [
    "stack"
   ]
  },
  {
   "cell_type": "code",
   "execution_count": 272,
   "metadata": {},
   "outputs": [],
   "source": [
    "from collections import deque"
   ]
  },
  {
   "cell_type": "code",
   "execution_count": 273,
   "metadata": {},
   "outputs": [],
   "source": [
    "queue = deque(['Eric', 'John', 'Michael'])"
   ]
  },
  {
   "cell_type": "code",
   "execution_count": 274,
   "metadata": {},
   "outputs": [],
   "source": [
    "queue.append('Terry')"
   ]
  },
  {
   "cell_type": "code",
   "execution_count": 275,
   "metadata": {},
   "outputs": [],
   "source": [
    "queue.append('Graham')"
   ]
  },
  {
   "cell_type": "code",
   "execution_count": 276,
   "metadata": {},
   "outputs": [
    {
     "data": {
      "text/plain": [
       "'Eric'"
      ]
     },
     "execution_count": 276,
     "metadata": {},
     "output_type": "execute_result"
    }
   ],
   "source": [
    "queue.popleft()"
   ]
  },
  {
   "cell_type": "code",
   "execution_count": 277,
   "metadata": {},
   "outputs": [
    {
     "data": {
      "text/plain": [
       "'John'"
      ]
     },
     "execution_count": 277,
     "metadata": {},
     "output_type": "execute_result"
    }
   ],
   "source": [
    "queue.popleft()"
   ]
  },
  {
   "cell_type": "code",
   "execution_count": 278,
   "metadata": {},
   "outputs": [
    {
     "data": {
      "text/plain": [
       "['__add__',\n",
       " '__bool__',\n",
       " '__class__',\n",
       " '__contains__',\n",
       " '__copy__',\n",
       " '__delattr__',\n",
       " '__delitem__',\n",
       " '__dir__',\n",
       " '__doc__',\n",
       " '__eq__',\n",
       " '__format__',\n",
       " '__ge__',\n",
       " '__getattribute__',\n",
       " '__getitem__',\n",
       " '__gt__',\n",
       " '__hash__',\n",
       " '__iadd__',\n",
       " '__imul__',\n",
       " '__init__',\n",
       " '__init_subclass__',\n",
       " '__iter__',\n",
       " '__le__',\n",
       " '__len__',\n",
       " '__lt__',\n",
       " '__mul__',\n",
       " '__ne__',\n",
       " '__new__',\n",
       " '__reduce__',\n",
       " '__reduce_ex__',\n",
       " '__repr__',\n",
       " '__reversed__',\n",
       " '__rmul__',\n",
       " '__setattr__',\n",
       " '__setitem__',\n",
       " '__sizeof__',\n",
       " '__str__',\n",
       " '__subclasshook__',\n",
       " 'append',\n",
       " 'appendleft',\n",
       " 'clear',\n",
       " 'copy',\n",
       " 'count',\n",
       " 'extend',\n",
       " 'extendleft',\n",
       " 'index',\n",
       " 'insert',\n",
       " 'maxlen',\n",
       " 'pop',\n",
       " 'popleft',\n",
       " 'remove',\n",
       " 'reverse',\n",
       " 'rotate']"
      ]
     },
     "execution_count": 278,
     "metadata": {},
     "output_type": "execute_result"
    }
   ],
   "source": [
    "dir(queue)"
   ]
  },
  {
   "cell_type": "code",
   "execution_count": 279,
   "metadata": {},
   "outputs": [],
   "source": [
    "squares = []"
   ]
  },
  {
   "cell_type": "code",
   "execution_count": 280,
   "metadata": {},
   "outputs": [],
   "source": [
    "for fuckadeadbody in range(10):\n",
    "    squares.append(fuckadeadbody**2)"
   ]
  },
  {
   "cell_type": "code",
   "execution_count": 281,
   "metadata": {},
   "outputs": [
    {
     "data": {
      "text/plain": [
       "9"
      ]
     },
     "execution_count": 281,
     "metadata": {},
     "output_type": "execute_result"
    }
   ],
   "source": [
    "fuckadeadbody"
   ]
  },
  {
   "cell_type": "code",
   "execution_count": 282,
   "metadata": {},
   "outputs": [
    {
     "data": {
      "text/plain": [
       "[0, 1, 4, 9, 16, 25, 36, 49, 64, 81]"
      ]
     },
     "execution_count": 282,
     "metadata": {},
     "output_type": "execute_result"
    }
   ],
   "source": [
    "squares"
   ]
  },
  {
   "cell_type": "code",
   "execution_count": 283,
   "metadata": {},
   "outputs": [],
   "source": [
    "squares3 = [slab**2 for slab in range(10)]"
   ]
  },
  {
   "cell_type": "code",
   "execution_count": 284,
   "metadata": {
    "scrolled": true
   },
   "outputs": [
    {
     "ename": "NameError",
     "evalue": "name 'slab' is not defined",
     "output_type": "error",
     "traceback": [
      "\u001b[1;31m---------------------------------------------------------------------------\u001b[0m",
      "\u001b[1;31mNameError\u001b[0m                                 Traceback (most recent call last)",
      "\u001b[1;32m<ipython-input-284-046f9b0be9e5>\u001b[0m in \u001b[0;36m<module>\u001b[1;34m\u001b[0m\n\u001b[1;32m----> 1\u001b[1;33m \u001b[0mslab\u001b[0m\u001b[1;33m\u001b[0m\u001b[1;33m\u001b[0m\u001b[0m\n\u001b[0m",
      "\u001b[1;31mNameError\u001b[0m: name 'slab' is not defined"
     ]
    }
   ],
   "source": [
    "slab"
   ]
  },
  {
   "cell_type": "code",
   "execution_count": 285,
   "metadata": {},
   "outputs": [
    {
     "data": {
      "text/plain": [
       "[(range(5, 10), 3),\n",
       " (range(5, 10), 4),\n",
       " (range(5, 10), 3),\n",
       " (range(5, 10), 1),\n",
       " (range(5, 10), 4),\n",
       " (range(5, 10), 1),\n",
       " (range(5, 10), 4)]"
      ]
     },
     "execution_count": 285,
     "metadata": {},
     "output_type": "execute_result"
    }
   ],
   "source": [
    "[(x,y) for slab in [1,2,3] for y in [3,1,4] if slab!=y]"
   ]
  },
  {
   "cell_type": "code",
   "execution_count": 286,
   "metadata": {},
   "outputs": [
    {
     "data": {
      "text/plain": [
       "[0, 1, 4, 9, 16, 25, 36, 49, 64, 81]"
      ]
     },
     "execution_count": 286,
     "metadata": {},
     "output_type": "execute_result"
    }
   ],
   "source": [
    "squares"
   ]
  },
  {
   "cell_type": "code",
   "execution_count": 287,
   "metadata": {},
   "outputs": [],
   "source": [
    "squares2 = list(map(lambda x: x**2, range(10)))"
   ]
  },
  {
   "cell_type": "code",
   "execution_count": 288,
   "metadata": {},
   "outputs": [
    {
     "data": {
      "text/plain": [
       "[0, 1, 4, 9, 16, 25, 36, 49, 64, 81]"
      ]
     },
     "execution_count": 288,
     "metadata": {},
     "output_type": "execute_result"
    }
   ],
   "source": [
    "squares2"
   ]
  },
  {
   "cell_type": "code",
   "execution_count": 289,
   "metadata": {},
   "outputs": [
    {
     "data": {
      "text/plain": [
       "[0, 1, 4, 9, 16, 25, 36, 49, 64, 81]"
      ]
     },
     "execution_count": 289,
     "metadata": {},
     "output_type": "execute_result"
    }
   ],
   "source": [
    "squares3"
   ]
  },
  {
   "cell_type": "code",
   "execution_count": 290,
   "metadata": {},
   "outputs": [],
   "source": [
    "combs = []\n",
    "for x in [1,2,3]:\n",
    "    for y in [3,1,4]:\n",
    "        if x!=y:\n",
    "            combs.append((x,y))"
   ]
  },
  {
   "cell_type": "code",
   "execution_count": 291,
   "metadata": {},
   "outputs": [
    {
     "data": {
      "text/plain": [
       "[(1, 3), (1, 4), (2, 3), (2, 1), (2, 4), (3, 1), (3, 4)]"
      ]
     },
     "execution_count": 291,
     "metadata": {},
     "output_type": "execute_result"
    }
   ],
   "source": [
    "combs"
   ]
  },
  {
   "cell_type": "code",
   "execution_count": 292,
   "metadata": {},
   "outputs": [],
   "source": [
    "vec = [-4,-2,0,2,4]"
   ]
  },
  {
   "cell_type": "code",
   "execution_count": 293,
   "metadata": {},
   "outputs": [
    {
     "data": {
      "text/plain": [
       "[-8, -4, 0, 4, 8]"
      ]
     },
     "execution_count": 293,
     "metadata": {},
     "output_type": "execute_result"
    }
   ],
   "source": [
    "[x*2 for x in vec]"
   ]
  },
  {
   "cell_type": "code",
   "execution_count": 294,
   "metadata": {},
   "outputs": [
    {
     "data": {
      "text/plain": [
       "[0, 2, 4]"
      ]
     },
     "execution_count": 294,
     "metadata": {},
     "output_type": "execute_result"
    }
   ],
   "source": [
    "[x for x in vec if x>=0]"
   ]
  },
  {
   "cell_type": "code",
   "execution_count": 295,
   "metadata": {},
   "outputs": [
    {
     "data": {
      "text/plain": [
       "<generator object <genexpr> at 0x000001E2A3D79200>"
      ]
     },
     "execution_count": 295,
     "metadata": {},
     "output_type": "execute_result"
    }
   ],
   "source": [
    "(abs(x) for x in vec)"
   ]
  },
  {
   "cell_type": "code",
   "execution_count": 296,
   "metadata": {},
   "outputs": [
    {
     "data": {
      "text/plain": [
       "[4, 2, 0, 2, 4]"
      ]
     },
     "execution_count": 296,
     "metadata": {},
     "output_type": "execute_result"
    }
   ],
   "source": [
    "[abs(x) for x in vec]"
   ]
  },
  {
   "cell_type": "code",
   "execution_count": 297,
   "metadata": {},
   "outputs": [],
   "source": [
    "freshfruit = ['   banana', '    loganberry    ', 'passion fruit      ']"
   ]
  },
  {
   "cell_type": "code",
   "execution_count": 298,
   "metadata": {},
   "outputs": [
    {
     "data": {
      "text/plain": [
       "['banana', 'loganberry', 'passion fruit']"
      ]
     },
     "execution_count": 298,
     "metadata": {},
     "output_type": "execute_result"
    }
   ],
   "source": [
    "[x.strip() for x in freshfruit]"
   ]
  },
  {
   "cell_type": "code",
   "execution_count": 299,
   "metadata": {},
   "outputs": [
    {
     "data": {
      "text/plain": [
       "[(0, 0), (1, 1), (2, 4), (3, 9), (4, 16), (5, 25)]"
      ]
     },
     "execution_count": 299,
     "metadata": {},
     "output_type": "execute_result"
    }
   ],
   "source": [
    "[(x,x**2) for x in range(6)]"
   ]
  },
  {
   "cell_type": "code",
   "execution_count": 300,
   "metadata": {},
   "outputs": [],
   "source": [
    "vec = [[1,2,3], [4,5,6],[7,8,9]]"
   ]
  },
  {
   "cell_type": "code",
   "execution_count": 301,
   "metadata": {},
   "outputs": [
    {
     "data": {
      "text/plain": [
       "[1, 2, 3, 4, 5, 6, 7, 8, 9]"
      ]
     },
     "execution_count": 301,
     "metadata": {},
     "output_type": "execute_result"
    }
   ],
   "source": [
    "[num for elem in vec for num in elem]"
   ]
  },
  {
   "cell_type": "code",
   "execution_count": 302,
   "metadata": {},
   "outputs": [],
   "source": [
    "from math import pi"
   ]
  },
  {
   "cell_type": "code",
   "execution_count": 303,
   "metadata": {},
   "outputs": [
    {
     "data": {
      "text/plain": [
       "['3.1', '3.14', '3.142', '3.1416', '3.14159']"
      ]
     },
     "execution_count": 303,
     "metadata": {},
     "output_type": "execute_result"
    }
   ],
   "source": [
    "[str(round(pi,i)) for i in range(1,6)]"
   ]
  },
  {
   "cell_type": "code",
   "execution_count": 304,
   "metadata": {},
   "outputs": [],
   "source": [
    "matrix =[\n",
    "    [1,2,3,4],\n",
    "    [5,6,7,8],\n",
    "    [9,10,11,12]\n",
    "]"
   ]
  },
  {
   "cell_type": "code",
   "execution_count": 305,
   "metadata": {},
   "outputs": [
    {
     "data": {
      "text/plain": [
       "[[1, 5, 9], [2, 6, 10], [3, 7, 11], [4, 8, 12]]"
      ]
     },
     "execution_count": 305,
     "metadata": {},
     "output_type": "execute_result"
    }
   ],
   "source": [
    "[[row[i] for row in matrix] for i in range(4)]"
   ]
  },
  {
   "cell_type": "code",
   "execution_count": 306,
   "metadata": {},
   "outputs": [],
   "source": [
    "transposed = []\n",
    "for i in range(4):\n",
    "    transposed.append([row[i] for row in matrix])"
   ]
  },
  {
   "cell_type": "code",
   "execution_count": 307,
   "metadata": {},
   "outputs": [
    {
     "data": {
      "text/plain": [
       "[[1, 5, 9], [2, 6, 10], [3, 7, 11], [4, 8, 12]]"
      ]
     },
     "execution_count": 307,
     "metadata": {},
     "output_type": "execute_result"
    }
   ],
   "source": [
    "transposed"
   ]
  },
  {
   "cell_type": "code",
   "execution_count": 308,
   "metadata": {},
   "outputs": [],
   "source": [
    "transposed2 = []\n",
    "for i in range(4):\n",
    "    transposed_row = []\n",
    "    for row in matrix:\n",
    "        transposed_row.append(row[i])\n",
    "    transposed2.append(transposed_row)"
   ]
  },
  {
   "cell_type": "code",
   "execution_count": 309,
   "metadata": {},
   "outputs": [
    {
     "data": {
      "text/plain": [
       "[[1, 5, 9], [2, 6, 10], [3, 7, 11], [4, 8, 12]]"
      ]
     },
     "execution_count": 309,
     "metadata": {},
     "output_type": "execute_result"
    }
   ],
   "source": [
    "transposed2"
   ]
  },
  {
   "cell_type": "code",
   "execution_count": 310,
   "metadata": {},
   "outputs": [
    {
     "data": {
      "text/plain": [
       "[(1, 5, 9), (2, 6, 10), (3, 7, 11), (4, 8, 12)]"
      ]
     },
     "execution_count": 310,
     "metadata": {},
     "output_type": "execute_result"
    }
   ],
   "source": [
    "list(zip(*matrix))"
   ]
  },
  {
   "cell_type": "code",
   "execution_count": 311,
   "metadata": {},
   "outputs": [],
   "source": [
    "a = [-1, 1, 66.25, 333, 333, 1234.5]"
   ]
  },
  {
   "cell_type": "code",
   "execution_count": 312,
   "metadata": {},
   "outputs": [],
   "source": [
    "del a[0]"
   ]
  },
  {
   "cell_type": "code",
   "execution_count": 313,
   "metadata": {},
   "outputs": [
    {
     "data": {
      "text/plain": [
       "[1, 66.25, 333, 333, 1234.5]"
      ]
     },
     "execution_count": 313,
     "metadata": {},
     "output_type": "execute_result"
    }
   ],
   "source": [
    "a"
   ]
  },
  {
   "cell_type": "code",
   "execution_count": 314,
   "metadata": {},
   "outputs": [],
   "source": [
    "del a[2:4]"
   ]
  },
  {
   "cell_type": "code",
   "execution_count": 315,
   "metadata": {},
   "outputs": [
    {
     "data": {
      "text/plain": [
       "[1, 66.25, 1234.5]"
      ]
     },
     "execution_count": 315,
     "metadata": {},
     "output_type": "execute_result"
    }
   ],
   "source": [
    "a"
   ]
  },
  {
   "cell_type": "code",
   "execution_count": 316,
   "metadata": {},
   "outputs": [],
   "source": [
    "a1 = [-1, 1, 66.25, 333, 333, [56, 20], 4, {69:42}]"
   ]
  },
  {
   "cell_type": "code",
   "execution_count": 317,
   "metadata": {},
   "outputs": [],
   "source": [
    "del a1[3]"
   ]
  },
  {
   "cell_type": "code",
   "execution_count": 318,
   "metadata": {},
   "outputs": [
    {
     "data": {
      "text/plain": [
       "[-1, 1, 66.25, 333, [56, 20], 4, {69: 42}]"
      ]
     },
     "execution_count": 318,
     "metadata": {},
     "output_type": "execute_result"
    }
   ],
   "source": [
    "a1"
   ]
  },
  {
   "cell_type": "code",
   "execution_count": 319,
   "metadata": {},
   "outputs": [],
   "source": [
    "del a1[4]"
   ]
  },
  {
   "cell_type": "code",
   "execution_count": 320,
   "metadata": {},
   "outputs": [
    {
     "data": {
      "text/plain": [
       "[-1, 1, 66.25, 333, 4, {69: 42}]"
      ]
     },
     "execution_count": 320,
     "metadata": {},
     "output_type": "execute_result"
    }
   ],
   "source": [
    "a1"
   ]
  },
  {
   "cell_type": "code",
   "execution_count": 321,
   "metadata": {},
   "outputs": [
    {
     "data": {
      "text/plain": [
       "{69: 42}"
      ]
     },
     "execution_count": 321,
     "metadata": {},
     "output_type": "execute_result"
    }
   ],
   "source": [
    "a1[-1]"
   ]
  },
  {
   "cell_type": "code",
   "execution_count": 322,
   "metadata": {},
   "outputs": [],
   "source": [
    "del a"
   ]
  },
  {
   "cell_type": "code",
   "execution_count": 323,
   "metadata": {},
   "outputs": [
    {
     "ename": "NameError",
     "evalue": "name 'a' is not defined",
     "output_type": "error",
     "traceback": [
      "\u001b[1;31m---------------------------------------------------------------------------\u001b[0m",
      "\u001b[1;31mNameError\u001b[0m                                 Traceback (most recent call last)",
      "\u001b[1;32m<ipython-input-323-3f786850e387>\u001b[0m in \u001b[0;36m<module>\u001b[1;34m\u001b[0m\n\u001b[1;32m----> 1\u001b[1;33m \u001b[0ma\u001b[0m\u001b[1;33m\u001b[0m\u001b[1;33m\u001b[0m\u001b[0m\n\u001b[0m",
      "\u001b[1;31mNameError\u001b[0m: name 'a' is not defined"
     ]
    }
   ],
   "source": [
    "a"
   ]
  },
  {
   "cell_type": "code",
   "execution_count": 324,
   "metadata": {},
   "outputs": [
    {
     "data": {
      "text/plain": [
       "True"
      ]
     },
     "execution_count": 324,
     "metadata": {},
     "output_type": "execute_result"
    }
   ],
   "source": [
    "(1,2,3) < (1,2,4)"
   ]
  },
  {
   "cell_type": "code",
   "execution_count": 325,
   "metadata": {},
   "outputs": [
    {
     "data": {
      "text/plain": [
       "True"
      ]
     },
     "execution_count": 325,
     "metadata": {},
     "output_type": "execute_result"
    }
   ],
   "source": [
    "(1,3,5) < (5, 3, 1)"
   ]
  },
  {
   "cell_type": "code",
   "execution_count": 326,
   "metadata": {},
   "outputs": [
    {
     "data": {
      "text/plain": [
       "False"
      ]
     },
     "execution_count": 326,
     "metadata": {},
     "output_type": "execute_result"
    }
   ],
   "source": [
    "(1,2,3,4) < (1,2,3)"
   ]
  },
  {
   "cell_type": "code",
   "execution_count": 327,
   "metadata": {},
   "outputs": [
    {
     "data": {
      "text/plain": [
       "True"
      ]
     },
     "execution_count": 327,
     "metadata": {},
     "output_type": "execute_result"
    }
   ],
   "source": [
    "(1,2,3,4) < (1,2,4)"
   ]
  },
  {
   "cell_type": "code",
   "execution_count": 328,
   "metadata": {},
   "outputs": [],
   "source": [
    "t = 12345, 54321, 'hello'"
   ]
  },
  {
   "cell_type": "code",
   "execution_count": 329,
   "metadata": {},
   "outputs": [
    {
     "data": {
      "text/plain": [
       "(12345, 54321, 'hello')"
      ]
     },
     "execution_count": 329,
     "metadata": {},
     "output_type": "execute_result"
    }
   ],
   "source": [
    "t"
   ]
  },
  {
   "cell_type": "code",
   "execution_count": 330,
   "metadata": {},
   "outputs": [],
   "source": [
    "u = t, (1,2,3,4,5)"
   ]
  },
  {
   "cell_type": "code",
   "execution_count": 331,
   "metadata": {},
   "outputs": [
    {
     "data": {
      "text/plain": [
       "((12345, 54321, 'hello'), (1, 2, 3, 4, 5))"
      ]
     },
     "execution_count": 331,
     "metadata": {},
     "output_type": "execute_result"
    }
   ],
   "source": [
    "u"
   ]
  },
  {
   "cell_type": "code",
   "execution_count": 332,
   "metadata": {},
   "outputs": [
    {
     "data": {
      "text/plain": [
       "(12345, 54321, 'hello', 1, 2, 3, 4, 5)"
      ]
     },
     "execution_count": 332,
     "metadata": {},
     "output_type": "execute_result"
    }
   ],
   "source": [
    "(12345, 54321, 'hello') + (1,2,3,4,5)"
   ]
  },
  {
   "cell_type": "code",
   "execution_count": 333,
   "metadata": {},
   "outputs": [
    {
     "data": {
      "text/plain": [
       "[12345, 54321, 6, 12345, 54321, 6, 12345, 54321, 6, 12345, 54321, 6]"
      ]
     },
     "execution_count": 333,
     "metadata": {},
     "output_type": "execute_result"
    }
   ],
   "source": [
    "[12345, 54321, 6] * 4"
   ]
  },
  {
   "cell_type": "code",
   "execution_count": 334,
   "metadata": {},
   "outputs": [
    {
     "ename": "TypeError",
     "evalue": "'tuple' object does not support item assignment",
     "output_type": "error",
     "traceback": [
      "\u001b[1;31m---------------------------------------------------------------------------\u001b[0m",
      "\u001b[1;31mTypeError\u001b[0m                                 Traceback (most recent call last)",
      "\u001b[1;32m<ipython-input-334-59c60ba744dd>\u001b[0m in \u001b[0;36m<module>\u001b[1;34m\u001b[0m\n\u001b[1;32m----> 1\u001b[1;33m \u001b[0mt\u001b[0m\u001b[1;33m[\u001b[0m\u001b[1;36m0\u001b[0m\u001b[1;33m]\u001b[0m \u001b[1;33m=\u001b[0m \u001b[1;36m8888\u001b[0m\u001b[1;33m\u001b[0m\u001b[1;33m\u001b[0m\u001b[0m\n\u001b[0m",
      "\u001b[1;31mTypeError\u001b[0m: 'tuple' object does not support item assignment"
     ]
    }
   ],
   "source": [
    "t[0] = 8888"
   ]
  },
  {
   "cell_type": "code",
   "execution_count": 335,
   "metadata": {},
   "outputs": [],
   "source": [
    "v = ([1,2,3], [3,2,1])"
   ]
  },
  {
   "cell_type": "code",
   "execution_count": 336,
   "metadata": {},
   "outputs": [
    {
     "data": {
      "text/plain": [
       "[3, 2, 1]"
      ]
     },
     "execution_count": 336,
     "metadata": {},
     "output_type": "execute_result"
    }
   ],
   "source": [
    "v[1]"
   ]
  },
  {
   "cell_type": "code",
   "execution_count": 337,
   "metadata": {},
   "outputs": [],
   "source": [
    "tuplelist = [(1,2,3), (4,5,6), (7,8,9)]"
   ]
  },
  {
   "cell_type": "code",
   "execution_count": 338,
   "metadata": {},
   "outputs": [
    {
     "data": {
      "text/plain": [
       "(4, 5, 6)"
      ]
     },
     "execution_count": 338,
     "metadata": {},
     "output_type": "execute_result"
    }
   ],
   "source": [
    "tuplelist[1]"
   ]
  },
  {
   "cell_type": "code",
   "execution_count": 339,
   "metadata": {},
   "outputs": [],
   "source": [
    "tuplelist[1] = (7,7,7)"
   ]
  },
  {
   "cell_type": "code",
   "execution_count": 340,
   "metadata": {},
   "outputs": [
    {
     "data": {
      "text/plain": [
       "[(1, 2, 3), (7, 7, 7), (7, 8, 9)]"
      ]
     },
     "execution_count": 340,
     "metadata": {},
     "output_type": "execute_result"
    }
   ],
   "source": [
    "tuplelist"
   ]
  },
  {
   "cell_type": "code",
   "execution_count": 341,
   "metadata": {},
   "outputs": [],
   "source": [
    "empty = ()"
   ]
  },
  {
   "cell_type": "code",
   "execution_count": 342,
   "metadata": {},
   "outputs": [],
   "source": [
    "singleton = 'hello',"
   ]
  },
  {
   "cell_type": "code",
   "execution_count": 343,
   "metadata": {},
   "outputs": [
    {
     "data": {
      "text/plain": [
       "0"
      ]
     },
     "execution_count": 343,
     "metadata": {},
     "output_type": "execute_result"
    }
   ],
   "source": [
    "len(empty)"
   ]
  },
  {
   "cell_type": "code",
   "execution_count": 344,
   "metadata": {},
   "outputs": [
    {
     "data": {
      "text/plain": [
       "1"
      ]
     },
     "execution_count": 344,
     "metadata": {},
     "output_type": "execute_result"
    }
   ],
   "source": [
    "len(singleton)"
   ]
  },
  {
   "cell_type": "code",
   "execution_count": 345,
   "metadata": {},
   "outputs": [
    {
     "data": {
      "text/plain": [
       "('hello',)"
      ]
     },
     "execution_count": 345,
     "metadata": {},
     "output_type": "execute_result"
    }
   ],
   "source": [
    "singleton"
   ]
  },
  {
   "cell_type": "code",
   "execution_count": 346,
   "metadata": {},
   "outputs": [],
   "source": [
    "x,y,z = t"
   ]
  },
  {
   "cell_type": "code",
   "execution_count": 347,
   "metadata": {},
   "outputs": [
    {
     "data": {
      "text/plain": [
       "12345"
      ]
     },
     "execution_count": 347,
     "metadata": {},
     "output_type": "execute_result"
    }
   ],
   "source": [
    "x"
   ]
  },
  {
   "cell_type": "code",
   "execution_count": 348,
   "metadata": {},
   "outputs": [
    {
     "data": {
      "text/plain": [
       "54321"
      ]
     },
     "execution_count": 348,
     "metadata": {},
     "output_type": "execute_result"
    }
   ],
   "source": [
    "y"
   ]
  },
  {
   "cell_type": "code",
   "execution_count": 349,
   "metadata": {},
   "outputs": [
    {
     "data": {
      "text/plain": [
       "'hello'"
      ]
     },
     "execution_count": 349,
     "metadata": {},
     "output_type": "execute_result"
    }
   ],
   "source": [
    "z"
   ]
  },
  {
   "cell_type": "code",
   "execution_count": 350,
   "metadata": {},
   "outputs": [],
   "source": [
    "basket = {'apple', 'orange', 'apple', 'pear', 'orange', 'banana'}"
   ]
  },
  {
   "cell_type": "code",
   "execution_count": 351,
   "metadata": {},
   "outputs": [
    {
     "data": {
      "text/plain": [
       "{'apple', 'banana', 'orange', 'pear'}"
      ]
     },
     "execution_count": 351,
     "metadata": {},
     "output_type": "execute_result"
    }
   ],
   "source": [
    "basket"
   ]
  },
  {
   "cell_type": "code",
   "execution_count": 352,
   "metadata": {},
   "outputs": [
    {
     "data": {
      "text/plain": [
       "True"
      ]
     },
     "execution_count": 352,
     "metadata": {},
     "output_type": "execute_result"
    }
   ],
   "source": [
    "'orange' in basket"
   ]
  },
  {
   "cell_type": "code",
   "execution_count": 353,
   "metadata": {},
   "outputs": [
    {
     "data": {
      "text/plain": [
       "True"
      ]
     },
     "execution_count": 353,
     "metadata": {},
     "output_type": "execute_result"
    }
   ],
   "source": [
    "'orange   '.strip() in basket"
   ]
  },
  {
   "cell_type": "code",
   "execution_count": 354,
   "metadata": {},
   "outputs": [
    {
     "data": {
      "text/plain": [
       "False"
      ]
     },
     "execution_count": 354,
     "metadata": {},
     "output_type": "execute_result"
    }
   ],
   "source": [
    "'crabgrass' in basket"
   ]
  },
  {
   "cell_type": "code",
   "execution_count": 355,
   "metadata": {},
   "outputs": [],
   "source": [
    "a = set('abracadabra')"
   ]
  },
  {
   "cell_type": "code",
   "execution_count": 356,
   "metadata": {},
   "outputs": [
    {
     "data": {
      "text/plain": [
       "{'a', 'b', 'c', 'd', 'r'}"
      ]
     },
     "execution_count": 356,
     "metadata": {},
     "output_type": "execute_result"
    }
   ],
   "source": [
    "a"
   ]
  },
  {
   "cell_type": "code",
   "execution_count": 357,
   "metadata": {},
   "outputs": [],
   "source": [
    "b = set('alacazam')"
   ]
  },
  {
   "cell_type": "code",
   "execution_count": 358,
   "metadata": {},
   "outputs": [
    {
     "data": {
      "text/plain": [
       "{'a', 'c', 'l', 'm', 'z'}"
      ]
     },
     "execution_count": 358,
     "metadata": {},
     "output_type": "execute_result"
    }
   ],
   "source": [
    "b"
   ]
  },
  {
   "cell_type": "code",
   "execution_count": 359,
   "metadata": {},
   "outputs": [
    {
     "data": {
      "text/plain": [
       "{'b', 'd', 'r'}"
      ]
     },
     "execution_count": 359,
     "metadata": {},
     "output_type": "execute_result"
    }
   ],
   "source": [
    "a-b"
   ]
  },
  {
   "cell_type": "code",
   "execution_count": 360,
   "metadata": {},
   "outputs": [
    {
     "data": {
      "text/plain": [
       "{'a', 'b', 'c', 'd', 'r'}"
      ]
     },
     "execution_count": 360,
     "metadata": {},
     "output_type": "execute_result"
    }
   ],
   "source": [
    "a"
   ]
  },
  {
   "cell_type": "code",
   "execution_count": 361,
   "metadata": {},
   "outputs": [
    {
     "data": {
      "text/plain": [
       "{'a', 'c', 'l', 'm', 'z'}"
      ]
     },
     "execution_count": 361,
     "metadata": {},
     "output_type": "execute_result"
    }
   ],
   "source": [
    "b"
   ]
  },
  {
   "cell_type": "code",
   "execution_count": 362,
   "metadata": {},
   "outputs": [
    {
     "data": {
      "text/plain": [
       "{'b', 'd', 'r'}"
      ]
     },
     "execution_count": 362,
     "metadata": {},
     "output_type": "execute_result"
    }
   ],
   "source": [
    "a-b"
   ]
  },
  {
   "cell_type": "code",
   "execution_count": 363,
   "metadata": {},
   "outputs": [
    {
     "data": {
      "text/plain": [
       "{'a', 'b', 'c', 'd', 'l', 'm', 'r', 'z'}"
      ]
     },
     "execution_count": 363,
     "metadata": {},
     "output_type": "execute_result"
    }
   ],
   "source": [
    "a|b"
   ]
  },
  {
   "cell_type": "code",
   "execution_count": 364,
   "metadata": {},
   "outputs": [
    {
     "data": {
      "text/plain": [
       "{'a', 'c'}"
      ]
     },
     "execution_count": 364,
     "metadata": {},
     "output_type": "execute_result"
    }
   ],
   "source": [
    "a&b"
   ]
  },
  {
   "cell_type": "code",
   "execution_count": 365,
   "metadata": {},
   "outputs": [
    {
     "data": {
      "text/plain": [
       "{'b', 'd', 'l', 'm', 'r', 'z'}"
      ]
     },
     "execution_count": 365,
     "metadata": {},
     "output_type": "execute_result"
    }
   ],
   "source": [
    "a^b"
   ]
  },
  {
   "cell_type": "code",
   "execution_count": 366,
   "metadata": {},
   "outputs": [],
   "source": [
    "a = {x for x in 'abracadabra' if x not in 'abc'}"
   ]
  },
  {
   "cell_type": "code",
   "execution_count": 367,
   "metadata": {},
   "outputs": [
    {
     "data": {
      "text/plain": [
       "{'d', 'r'}"
      ]
     },
     "execution_count": 367,
     "metadata": {},
     "output_type": "execute_result"
    }
   ],
   "source": [
    "a"
   ]
  },
  {
   "cell_type": "code",
   "execution_count": 368,
   "metadata": {},
   "outputs": [],
   "source": [
    "aa = set(x for x in 'abracadabra' if x not in 'abc')"
   ]
  },
  {
   "cell_type": "code",
   "execution_count": 369,
   "metadata": {},
   "outputs": [
    {
     "data": {
      "text/plain": [
       "{'d', 'r'}"
      ]
     },
     "execution_count": 369,
     "metadata": {},
     "output_type": "execute_result"
    }
   ],
   "source": [
    "aa"
   ]
  },
  {
   "cell_type": "code",
   "execution_count": 370,
   "metadata": {},
   "outputs": [],
   "source": [
    "trickdeck = [1,2,3,4,5,6,7,8,9,10]*4"
   ]
  },
  {
   "cell_type": "code",
   "execution_count": 371,
   "metadata": {},
   "outputs": [],
   "source": [
    "trickycount = []"
   ]
  },
  {
   "cell_type": "code",
   "execution_count": 372,
   "metadata": {},
   "outputs": [],
   "source": [
    "kombiiii = permutations(trickdeck, r=4)"
   ]
  },
  {
   "cell_type": "code",
   "execution_count": 373,
   "metadata": {},
   "outputs": [],
   "source": [
    "trickycount = [x for x in kombiiii]"
   ]
  },
  {
   "cell_type": "code",
   "execution_count": 374,
   "metadata": {},
   "outputs": [
    {
     "data": {
      "text/plain": [
       "[(1, 2, 3, 4),\n",
       " (1, 2, 3, 5),\n",
       " (1, 2, 3, 6),\n",
       " (1, 2, 3, 7),\n",
       " (1, 2, 3, 8),\n",
       " (1, 2, 3, 9),\n",
       " (1, 2, 3, 10),\n",
       " (1, 2, 3, 1),\n",
       " (1, 2, 3, 2),\n",
       " (1, 2, 3, 3),\n",
       " (1, 2, 3, 4),\n",
       " (1, 2, 3, 5),\n",
       " (1, 2, 3, 6),\n",
       " (1, 2, 3, 7),\n",
       " (1, 2, 3, 8),\n",
       " (1, 2, 3, 9),\n",
       " (1, 2, 3, 10),\n",
       " (1, 2, 3, 1),\n",
       " (1, 2, 3, 2),\n",
       " (1, 2, 3, 3),\n",
       " (1, 2, 3, 4),\n",
       " (1, 2, 3, 5),\n",
       " (1, 2, 3, 6),\n",
       " (1, 2, 3, 7),\n",
       " (1, 2, 3, 8),\n",
       " (1, 2, 3, 9),\n",
       " (1, 2, 3, 10),\n",
       " (1, 2, 3, 1),\n",
       " (1, 2, 3, 2),\n",
       " (1, 2, 3, 3),\n",
       " (1, 2, 3, 4),\n",
       " (1, 2, 3, 5),\n",
       " (1, 2, 3, 6),\n",
       " (1, 2, 3, 7),\n",
       " (1, 2, 3, 8),\n",
       " (1, 2, 3, 9),\n",
       " (1, 2, 3, 10),\n",
       " (1, 2, 4, 3),\n",
       " (1, 2, 4, 5),\n",
       " (1, 2, 4, 6),\n",
       " (1, 2, 4, 7),\n",
       " (1, 2, 4, 8),\n",
       " (1, 2, 4, 9),\n",
       " (1, 2, 4, 10),\n",
       " (1, 2, 4, 1),\n",
       " (1, 2, 4, 2),\n",
       " (1, 2, 4, 3),\n",
       " (1, 2, 4, 4),\n",
       " (1, 2, 4, 5),\n",
       " (1, 2, 4, 6),\n",
       " (1, 2, 4, 7),\n",
       " (1, 2, 4, 8),\n",
       " (1, 2, 4, 9),\n",
       " (1, 2, 4, 10),\n",
       " (1, 2, 4, 1),\n",
       " (1, 2, 4, 2),\n",
       " (1, 2, 4, 3),\n",
       " (1, 2, 4, 4),\n",
       " (1, 2, 4, 5),\n",
       " (1, 2, 4, 6),\n",
       " (1, 2, 4, 7),\n",
       " (1, 2, 4, 8),\n",
       " (1, 2, 4, 9),\n",
       " (1, 2, 4, 10),\n",
       " (1, 2, 4, 1),\n",
       " (1, 2, 4, 2),\n",
       " (1, 2, 4, 3),\n",
       " (1, 2, 4, 4),\n",
       " (1, 2, 4, 5),\n",
       " (1, 2, 4, 6),\n",
       " (1, 2, 4, 7),\n",
       " (1, 2, 4, 8),\n",
       " (1, 2, 4, 9),\n",
       " (1, 2, 4, 10),\n",
       " (1, 2, 5, 3),\n",
       " (1, 2, 5, 4),\n",
       " (1, 2, 5, 6),\n",
       " (1, 2, 5, 7),\n",
       " (1, 2, 5, 8),\n",
       " (1, 2, 5, 9),\n",
       " (1, 2, 5, 10),\n",
       " (1, 2, 5, 1),\n",
       " (1, 2, 5, 2),\n",
       " (1, 2, 5, 3),\n",
       " (1, 2, 5, 4),\n",
       " (1, 2, 5, 5),\n",
       " (1, 2, 5, 6),\n",
       " (1, 2, 5, 7),\n",
       " (1, 2, 5, 8),\n",
       " (1, 2, 5, 9),\n",
       " (1, 2, 5, 10),\n",
       " (1, 2, 5, 1),\n",
       " (1, 2, 5, 2),\n",
       " (1, 2, 5, 3),\n",
       " (1, 2, 5, 4),\n",
       " (1, 2, 5, 5),\n",
       " (1, 2, 5, 6),\n",
       " (1, 2, 5, 7),\n",
       " (1, 2, 5, 8),\n",
       " (1, 2, 5, 9),\n",
       " (1, 2, 5, 10),\n",
       " (1, 2, 5, 1),\n",
       " (1, 2, 5, 2),\n",
       " (1, 2, 5, 3),\n",
       " (1, 2, 5, 4),\n",
       " (1, 2, 5, 5),\n",
       " (1, 2, 5, 6),\n",
       " (1, 2, 5, 7),\n",
       " (1, 2, 5, 8),\n",
       " (1, 2, 5, 9),\n",
       " (1, 2, 5, 10),\n",
       " (1, 2, 6, 3),\n",
       " (1, 2, 6, 4),\n",
       " (1, 2, 6, 5),\n",
       " (1, 2, 6, 7),\n",
       " (1, 2, 6, 8),\n",
       " (1, 2, 6, 9),\n",
       " (1, 2, 6, 10),\n",
       " (1, 2, 6, 1),\n",
       " (1, 2, 6, 2),\n",
       " (1, 2, 6, 3),\n",
       " (1, 2, 6, 4),\n",
       " (1, 2, 6, 5),\n",
       " (1, 2, 6, 6),\n",
       " (1, 2, 6, 7),\n",
       " (1, 2, 6, 8),\n",
       " (1, 2, 6, 9),\n",
       " (1, 2, 6, 10),\n",
       " (1, 2, 6, 1),\n",
       " (1, 2, 6, 2),\n",
       " (1, 2, 6, 3),\n",
       " (1, 2, 6, 4),\n",
       " (1, 2, 6, 5),\n",
       " (1, 2, 6, 6),\n",
       " (1, 2, 6, 7),\n",
       " (1, 2, 6, 8),\n",
       " (1, 2, 6, 9),\n",
       " (1, 2, 6, 10),\n",
       " (1, 2, 6, 1),\n",
       " (1, 2, 6, 2),\n",
       " (1, 2, 6, 3),\n",
       " (1, 2, 6, 4),\n",
       " (1, 2, 6, 5),\n",
       " (1, 2, 6, 6),\n",
       " (1, 2, 6, 7),\n",
       " (1, 2, 6, 8),\n",
       " (1, 2, 6, 9),\n",
       " (1, 2, 6, 10),\n",
       " (1, 2, 7, 3),\n",
       " (1, 2, 7, 4),\n",
       " (1, 2, 7, 5),\n",
       " (1, 2, 7, 6),\n",
       " (1, 2, 7, 8),\n",
       " (1, 2, 7, 9),\n",
       " (1, 2, 7, 10),\n",
       " (1, 2, 7, 1),\n",
       " (1, 2, 7, 2),\n",
       " (1, 2, 7, 3),\n",
       " (1, 2, 7, 4),\n",
       " (1, 2, 7, 5),\n",
       " (1, 2, 7, 6),\n",
       " (1, 2, 7, 7),\n",
       " (1, 2, 7, 8),\n",
       " (1, 2, 7, 9),\n",
       " (1, 2, 7, 10),\n",
       " (1, 2, 7, 1),\n",
       " (1, 2, 7, 2),\n",
       " (1, 2, 7, 3),\n",
       " (1, 2, 7, 4),\n",
       " (1, 2, 7, 5),\n",
       " (1, 2, 7, 6),\n",
       " (1, 2, 7, 7),\n",
       " (1, 2, 7, 8),\n",
       " (1, 2, 7, 9),\n",
       " (1, 2, 7, 10),\n",
       " (1, 2, 7, 1),\n",
       " (1, 2, 7, 2),\n",
       " (1, 2, 7, 3),\n",
       " (1, 2, 7, 4),\n",
       " (1, 2, 7, 5),\n",
       " (1, 2, 7, 6),\n",
       " (1, 2, 7, 7),\n",
       " (1, 2, 7, 8),\n",
       " (1, 2, 7, 9),\n",
       " (1, 2, 7, 10),\n",
       " (1, 2, 8, 3),\n",
       " (1, 2, 8, 4),\n",
       " (1, 2, 8, 5),\n",
       " (1, 2, 8, 6),\n",
       " (1, 2, 8, 7),\n",
       " (1, 2, 8, 9),\n",
       " (1, 2, 8, 10),\n",
       " (1, 2, 8, 1),\n",
       " (1, 2, 8, 2),\n",
       " (1, 2, 8, 3),\n",
       " (1, 2, 8, 4),\n",
       " (1, 2, 8, 5),\n",
       " (1, 2, 8, 6),\n",
       " (1, 2, 8, 7),\n",
       " (1, 2, 8, 8),\n",
       " (1, 2, 8, 9),\n",
       " (1, 2, 8, 10),\n",
       " (1, 2, 8, 1),\n",
       " (1, 2, 8, 2),\n",
       " (1, 2, 8, 3),\n",
       " (1, 2, 8, 4),\n",
       " (1, 2, 8, 5),\n",
       " (1, 2, 8, 6),\n",
       " (1, 2, 8, 7),\n",
       " (1, 2, 8, 8),\n",
       " (1, 2, 8, 9),\n",
       " (1, 2, 8, 10),\n",
       " (1, 2, 8, 1),\n",
       " (1, 2, 8, 2),\n",
       " (1, 2, 8, 3),\n",
       " (1, 2, 8, 4),\n",
       " (1, 2, 8, 5),\n",
       " (1, 2, 8, 6),\n",
       " (1, 2, 8, 7),\n",
       " (1, 2, 8, 8),\n",
       " (1, 2, 8, 9),\n",
       " (1, 2, 8, 10),\n",
       " (1, 2, 9, 3),\n",
       " (1, 2, 9, 4),\n",
       " (1, 2, 9, 5),\n",
       " (1, 2, 9, 6),\n",
       " (1, 2, 9, 7),\n",
       " (1, 2, 9, 8),\n",
       " (1, 2, 9, 10),\n",
       " (1, 2, 9, 1),\n",
       " (1, 2, 9, 2),\n",
       " (1, 2, 9, 3),\n",
       " (1, 2, 9, 4),\n",
       " (1, 2, 9, 5),\n",
       " (1, 2, 9, 6),\n",
       " (1, 2, 9, 7),\n",
       " (1, 2, 9, 8),\n",
       " (1, 2, 9, 9),\n",
       " (1, 2, 9, 10),\n",
       " (1, 2, 9, 1),\n",
       " (1, 2, 9, 2),\n",
       " (1, 2, 9, 3),\n",
       " (1, 2, 9, 4),\n",
       " (1, 2, 9, 5),\n",
       " (1, 2, 9, 6),\n",
       " (1, 2, 9, 7),\n",
       " (1, 2, 9, 8),\n",
       " (1, 2, 9, 9),\n",
       " (1, 2, 9, 10),\n",
       " (1, 2, 9, 1),\n",
       " (1, 2, 9, 2),\n",
       " (1, 2, 9, 3),\n",
       " (1, 2, 9, 4),\n",
       " (1, 2, 9, 5),\n",
       " (1, 2, 9, 6),\n",
       " (1, 2, 9, 7),\n",
       " (1, 2, 9, 8),\n",
       " (1, 2, 9, 9),\n",
       " (1, 2, 9, 10),\n",
       " (1, 2, 10, 3),\n",
       " (1, 2, 10, 4),\n",
       " (1, 2, 10, 5),\n",
       " (1, 2, 10, 6),\n",
       " (1, 2, 10, 7),\n",
       " (1, 2, 10, 8),\n",
       " (1, 2, 10, 9),\n",
       " (1, 2, 10, 1),\n",
       " (1, 2, 10, 2),\n",
       " (1, 2, 10, 3),\n",
       " (1, 2, 10, 4),\n",
       " (1, 2, 10, 5),\n",
       " (1, 2, 10, 6),\n",
       " (1, 2, 10, 7),\n",
       " (1, 2, 10, 8),\n",
       " (1, 2, 10, 9),\n",
       " (1, 2, 10, 10),\n",
       " (1, 2, 10, 1),\n",
       " (1, 2, 10, 2),\n",
       " (1, 2, 10, 3),\n",
       " (1, 2, 10, 4),\n",
       " (1, 2, 10, 5),\n",
       " (1, 2, 10, 6),\n",
       " (1, 2, 10, 7),\n",
       " (1, 2, 10, 8),\n",
       " (1, 2, 10, 9),\n",
       " (1, 2, 10, 10),\n",
       " (1, 2, 10, 1),\n",
       " (1, 2, 10, 2),\n",
       " (1, 2, 10, 3),\n",
       " (1, 2, 10, 4),\n",
       " (1, 2, 10, 5),\n",
       " (1, 2, 10, 6),\n",
       " (1, 2, 10, 7),\n",
       " (1, 2, 10, 8),\n",
       " (1, 2, 10, 9),\n",
       " (1, 2, 10, 10),\n",
       " (1, 2, 1, 3),\n",
       " (1, 2, 1, 4),\n",
       " (1, 2, 1, 5),\n",
       " (1, 2, 1, 6),\n",
       " (1, 2, 1, 7),\n",
       " (1, 2, 1, 8),\n",
       " (1, 2, 1, 9),\n",
       " (1, 2, 1, 10),\n",
       " (1, 2, 1, 2),\n",
       " (1, 2, 1, 3),\n",
       " (1, 2, 1, 4),\n",
       " (1, 2, 1, 5),\n",
       " (1, 2, 1, 6),\n",
       " (1, 2, 1, 7),\n",
       " (1, 2, 1, 8),\n",
       " (1, 2, 1, 9),\n",
       " (1, 2, 1, 10),\n",
       " (1, 2, 1, 1),\n",
       " (1, 2, 1, 2),\n",
       " (1, 2, 1, 3),\n",
       " (1, 2, 1, 4),\n",
       " (1, 2, 1, 5),\n",
       " (1, 2, 1, 6),\n",
       " (1, 2, 1, 7),\n",
       " (1, 2, 1, 8),\n",
       " (1, 2, 1, 9),\n",
       " (1, 2, 1, 10),\n",
       " (1, 2, 1, 1),\n",
       " (1, 2, 1, 2),\n",
       " (1, 2, 1, 3),\n",
       " (1, 2, 1, 4),\n",
       " (1, 2, 1, 5),\n",
       " (1, 2, 1, 6),\n",
       " (1, 2, 1, 7),\n",
       " (1, 2, 1, 8),\n",
       " (1, 2, 1, 9),\n",
       " (1, 2, 1, 10),\n",
       " (1, 2, 2, 3),\n",
       " (1, 2, 2, 4),\n",
       " (1, 2, 2, 5),\n",
       " (1, 2, 2, 6),\n",
       " (1, 2, 2, 7),\n",
       " (1, 2, 2, 8),\n",
       " (1, 2, 2, 9),\n",
       " (1, 2, 2, 10),\n",
       " (1, 2, 2, 1),\n",
       " (1, 2, 2, 3),\n",
       " (1, 2, 2, 4),\n",
       " (1, 2, 2, 5),\n",
       " (1, 2, 2, 6),\n",
       " (1, 2, 2, 7),\n",
       " (1, 2, 2, 8),\n",
       " (1, 2, 2, 9),\n",
       " (1, 2, 2, 10),\n",
       " (1, 2, 2, 1),\n",
       " (1, 2, 2, 2),\n",
       " (1, 2, 2, 3),\n",
       " (1, 2, 2, 4),\n",
       " (1, 2, 2, 5),\n",
       " (1, 2, 2, 6),\n",
       " (1, 2, 2, 7),\n",
       " (1, 2, 2, 8),\n",
       " (1, 2, 2, 9),\n",
       " (1, 2, 2, 10),\n",
       " (1, 2, 2, 1),\n",
       " (1, 2, 2, 2),\n",
       " (1, 2, 2, 3),\n",
       " (1, 2, 2, 4),\n",
       " (1, 2, 2, 5),\n",
       " (1, 2, 2, 6),\n",
       " (1, 2, 2, 7),\n",
       " (1, 2, 2, 8),\n",
       " (1, 2, 2, 9),\n",
       " (1, 2, 2, 10),\n",
       " (1, 2, 3, 3),\n",
       " (1, 2, 3, 4),\n",
       " (1, 2, 3, 5),\n",
       " (1, 2, 3, 6),\n",
       " (1, 2, 3, 7),\n",
       " (1, 2, 3, 8),\n",
       " (1, 2, 3, 9),\n",
       " (1, 2, 3, 10),\n",
       " (1, 2, 3, 1),\n",
       " (1, 2, 3, 2),\n",
       " (1, 2, 3, 4),\n",
       " (1, 2, 3, 5),\n",
       " (1, 2, 3, 6),\n",
       " (1, 2, 3, 7),\n",
       " (1, 2, 3, 8),\n",
       " (1, 2, 3, 9),\n",
       " (1, 2, 3, 10),\n",
       " (1, 2, 3, 1),\n",
       " (1, 2, 3, 2),\n",
       " (1, 2, 3, 3),\n",
       " (1, 2, 3, 4),\n",
       " (1, 2, 3, 5),\n",
       " (1, 2, 3, 6),\n",
       " (1, 2, 3, 7),\n",
       " (1, 2, 3, 8),\n",
       " (1, 2, 3, 9),\n",
       " (1, 2, 3, 10),\n",
       " (1, 2, 3, 1),\n",
       " (1, 2, 3, 2),\n",
       " (1, 2, 3, 3),\n",
       " (1, 2, 3, 4),\n",
       " (1, 2, 3, 5),\n",
       " (1, 2, 3, 6),\n",
       " (1, 2, 3, 7),\n",
       " (1, 2, 3, 8),\n",
       " (1, 2, 3, 9),\n",
       " (1, 2, 3, 10),\n",
       " (1, 2, 4, 3),\n",
       " (1, 2, 4, 4),\n",
       " (1, 2, 4, 5),\n",
       " (1, 2, 4, 6),\n",
       " (1, 2, 4, 7),\n",
       " (1, 2, 4, 8),\n",
       " (1, 2, 4, 9),\n",
       " (1, 2, 4, 10),\n",
       " (1, 2, 4, 1),\n",
       " (1, 2, 4, 2),\n",
       " (1, 2, 4, 3),\n",
       " (1, 2, 4, 5),\n",
       " (1, 2, 4, 6),\n",
       " (1, 2, 4, 7),\n",
       " (1, 2, 4, 8),\n",
       " (1, 2, 4, 9),\n",
       " (1, 2, 4, 10),\n",
       " (1, 2, 4, 1),\n",
       " (1, 2, 4, 2),\n",
       " (1, 2, 4, 3),\n",
       " (1, 2, 4, 4),\n",
       " (1, 2, 4, 5),\n",
       " (1, 2, 4, 6),\n",
       " (1, 2, 4, 7),\n",
       " (1, 2, 4, 8),\n",
       " (1, 2, 4, 9),\n",
       " (1, 2, 4, 10),\n",
       " (1, 2, 4, 1),\n",
       " (1, 2, 4, 2),\n",
       " (1, 2, 4, 3),\n",
       " (1, 2, 4, 4),\n",
       " (1, 2, 4, 5),\n",
       " (1, 2, 4, 6),\n",
       " (1, 2, 4, 7),\n",
       " (1, 2, 4, 8),\n",
       " (1, 2, 4, 9),\n",
       " (1, 2, 4, 10),\n",
       " (1, 2, 5, 3),\n",
       " (1, 2, 5, 4),\n",
       " (1, 2, 5, 5),\n",
       " (1, 2, 5, 6),\n",
       " (1, 2, 5, 7),\n",
       " (1, 2, 5, 8),\n",
       " (1, 2, 5, 9),\n",
       " (1, 2, 5, 10),\n",
       " (1, 2, 5, 1),\n",
       " (1, 2, 5, 2),\n",
       " (1, 2, 5, 3),\n",
       " (1, 2, 5, 4),\n",
       " (1, 2, 5, 6),\n",
       " (1, 2, 5, 7),\n",
       " (1, 2, 5, 8),\n",
       " (1, 2, 5, 9),\n",
       " (1, 2, 5, 10),\n",
       " (1, 2, 5, 1),\n",
       " (1, 2, 5, 2),\n",
       " (1, 2, 5, 3),\n",
       " (1, 2, 5, 4),\n",
       " (1, 2, 5, 5),\n",
       " (1, 2, 5, 6),\n",
       " (1, 2, 5, 7),\n",
       " (1, 2, 5, 8),\n",
       " (1, 2, 5, 9),\n",
       " (1, 2, 5, 10),\n",
       " (1, 2, 5, 1),\n",
       " (1, 2, 5, 2),\n",
       " (1, 2, 5, 3),\n",
       " (1, 2, 5, 4),\n",
       " (1, 2, 5, 5),\n",
       " (1, 2, 5, 6),\n",
       " (1, 2, 5, 7),\n",
       " (1, 2, 5, 8),\n",
       " (1, 2, 5, 9),\n",
       " (1, 2, 5, 10),\n",
       " (1, 2, 6, 3),\n",
       " (1, 2, 6, 4),\n",
       " (1, 2, 6, 5),\n",
       " (1, 2, 6, 6),\n",
       " (1, 2, 6, 7),\n",
       " (1, 2, 6, 8),\n",
       " (1, 2, 6, 9),\n",
       " (1, 2, 6, 10),\n",
       " (1, 2, 6, 1),\n",
       " (1, 2, 6, 2),\n",
       " (1, 2, 6, 3),\n",
       " (1, 2, 6, 4),\n",
       " (1, 2, 6, 5),\n",
       " (1, 2, 6, 7),\n",
       " (1, 2, 6, 8),\n",
       " (1, 2, 6, 9),\n",
       " (1, 2, 6, 10),\n",
       " (1, 2, 6, 1),\n",
       " (1, 2, 6, 2),\n",
       " (1, 2, 6, 3),\n",
       " (1, 2, 6, 4),\n",
       " (1, 2, 6, 5),\n",
       " (1, 2, 6, 6),\n",
       " (1, 2, 6, 7),\n",
       " (1, 2, 6, 8),\n",
       " (1, 2, 6, 9),\n",
       " (1, 2, 6, 10),\n",
       " (1, 2, 6, 1),\n",
       " (1, 2, 6, 2),\n",
       " (1, 2, 6, 3),\n",
       " (1, 2, 6, 4),\n",
       " (1, 2, 6, 5),\n",
       " (1, 2, 6, 6),\n",
       " (1, 2, 6, 7),\n",
       " (1, 2, 6, 8),\n",
       " (1, 2, 6, 9),\n",
       " (1, 2, 6, 10),\n",
       " (1, 2, 7, 3),\n",
       " (1, 2, 7, 4),\n",
       " (1, 2, 7, 5),\n",
       " (1, 2, 7, 6),\n",
       " (1, 2, 7, 7),\n",
       " (1, 2, 7, 8),\n",
       " (1, 2, 7, 9),\n",
       " (1, 2, 7, 10),\n",
       " (1, 2, 7, 1),\n",
       " (1, 2, 7, 2),\n",
       " (1, 2, 7, 3),\n",
       " (1, 2, 7, 4),\n",
       " (1, 2, 7, 5),\n",
       " (1, 2, 7, 6),\n",
       " (1, 2, 7, 8),\n",
       " (1, 2, 7, 9),\n",
       " (1, 2, 7, 10),\n",
       " (1, 2, 7, 1),\n",
       " (1, 2, 7, 2),\n",
       " (1, 2, 7, 3),\n",
       " (1, 2, 7, 4),\n",
       " (1, 2, 7, 5),\n",
       " (1, 2, 7, 6),\n",
       " (1, 2, 7, 7),\n",
       " (1, 2, 7, 8),\n",
       " (1, 2, 7, 9),\n",
       " (1, 2, 7, 10),\n",
       " (1, 2, 7, 1),\n",
       " (1, 2, 7, 2),\n",
       " (1, 2, 7, 3),\n",
       " (1, 2, 7, 4),\n",
       " (1, 2, 7, 5),\n",
       " (1, 2, 7, 6),\n",
       " (1, 2, 7, 7),\n",
       " (1, 2, 7, 8),\n",
       " (1, 2, 7, 9),\n",
       " (1, 2, 7, 10),\n",
       " (1, 2, 8, 3),\n",
       " (1, 2, 8, 4),\n",
       " (1, 2, 8, 5),\n",
       " (1, 2, 8, 6),\n",
       " (1, 2, 8, 7),\n",
       " (1, 2, 8, 8),\n",
       " (1, 2, 8, 9),\n",
       " (1, 2, 8, 10),\n",
       " (1, 2, 8, 1),\n",
       " (1, 2, 8, 2),\n",
       " (1, 2, 8, 3),\n",
       " (1, 2, 8, 4),\n",
       " (1, 2, 8, 5),\n",
       " (1, 2, 8, 6),\n",
       " (1, 2, 8, 7),\n",
       " (1, 2, 8, 9),\n",
       " (1, 2, 8, 10),\n",
       " (1, 2, 8, 1),\n",
       " (1, 2, 8, 2),\n",
       " (1, 2, 8, 3),\n",
       " (1, 2, 8, 4),\n",
       " (1, 2, 8, 5),\n",
       " (1, 2, 8, 6),\n",
       " (1, 2, 8, 7),\n",
       " (1, 2, 8, 8),\n",
       " (1, 2, 8, 9),\n",
       " (1, 2, 8, 10),\n",
       " (1, 2, 8, 1),\n",
       " (1, 2, 8, 2),\n",
       " (1, 2, 8, 3),\n",
       " (1, 2, 8, 4),\n",
       " (1, 2, 8, 5),\n",
       " (1, 2, 8, 6),\n",
       " (1, 2, 8, 7),\n",
       " (1, 2, 8, 8),\n",
       " (1, 2, 8, 9),\n",
       " (1, 2, 8, 10),\n",
       " (1, 2, 9, 3),\n",
       " (1, 2, 9, 4),\n",
       " (1, 2, 9, 5),\n",
       " (1, 2, 9, 6),\n",
       " (1, 2, 9, 7),\n",
       " (1, 2, 9, 8),\n",
       " (1, 2, 9, 9),\n",
       " (1, 2, 9, 10),\n",
       " (1, 2, 9, 1),\n",
       " (1, 2, 9, 2),\n",
       " (1, 2, 9, 3),\n",
       " (1, 2, 9, 4),\n",
       " (1, 2, 9, 5),\n",
       " (1, 2, 9, 6),\n",
       " (1, 2, 9, 7),\n",
       " (1, 2, 9, 8),\n",
       " (1, 2, 9, 10),\n",
       " (1, 2, 9, 1),\n",
       " (1, 2, 9, 2),\n",
       " (1, 2, 9, 3),\n",
       " (1, 2, 9, 4),\n",
       " (1, 2, 9, 5),\n",
       " (1, 2, 9, 6),\n",
       " (1, 2, 9, 7),\n",
       " (1, 2, 9, 8),\n",
       " (1, 2, 9, 9),\n",
       " (1, 2, 9, 10),\n",
       " (1, 2, 9, 1),\n",
       " (1, 2, 9, 2),\n",
       " (1, 2, 9, 3),\n",
       " (1, 2, 9, 4),\n",
       " (1, 2, 9, 5),\n",
       " (1, 2, 9, 6),\n",
       " (1, 2, 9, 7),\n",
       " (1, 2, 9, 8),\n",
       " (1, 2, 9, 9),\n",
       " (1, 2, 9, 10),\n",
       " (1, 2, 10, 3),\n",
       " (1, 2, 10, 4),\n",
       " (1, 2, 10, 5),\n",
       " (1, 2, 10, 6),\n",
       " (1, 2, 10, 7),\n",
       " (1, 2, 10, 8),\n",
       " (1, 2, 10, 9),\n",
       " (1, 2, 10, 10),\n",
       " (1, 2, 10, 1),\n",
       " (1, 2, 10, 2),\n",
       " (1, 2, 10, 3),\n",
       " (1, 2, 10, 4),\n",
       " (1, 2, 10, 5),\n",
       " (1, 2, 10, 6),\n",
       " (1, 2, 10, 7),\n",
       " (1, 2, 10, 8),\n",
       " (1, 2, 10, 9),\n",
       " (1, 2, 10, 1),\n",
       " (1, 2, 10, 2),\n",
       " (1, 2, 10, 3),\n",
       " (1, 2, 10, 4),\n",
       " (1, 2, 10, 5),\n",
       " (1, 2, 10, 6),\n",
       " (1, 2, 10, 7),\n",
       " (1, 2, 10, 8),\n",
       " (1, 2, 10, 9),\n",
       " (1, 2, 10, 10),\n",
       " (1, 2, 10, 1),\n",
       " (1, 2, 10, 2),\n",
       " (1, 2, 10, 3),\n",
       " (1, 2, 10, 4),\n",
       " (1, 2, 10, 5),\n",
       " (1, 2, 10, 6),\n",
       " (1, 2, 10, 7),\n",
       " (1, 2, 10, 8),\n",
       " (1, 2, 10, 9),\n",
       " (1, 2, 10, 10),\n",
       " (1, 2, 1, 3),\n",
       " (1, 2, 1, 4),\n",
       " (1, 2, 1, 5),\n",
       " (1, 2, 1, 6),\n",
       " (1, 2, 1, 7),\n",
       " (1, 2, 1, 8),\n",
       " (1, 2, 1, 9),\n",
       " (1, 2, 1, 10),\n",
       " (1, 2, 1, 1),\n",
       " (1, 2, 1, 2),\n",
       " (1, 2, 1, 3),\n",
       " (1, 2, 1, 4),\n",
       " (1, 2, 1, 5),\n",
       " (1, 2, 1, 6),\n",
       " (1, 2, 1, 7),\n",
       " (1, 2, 1, 8),\n",
       " (1, 2, 1, 9),\n",
       " (1, 2, 1, 10),\n",
       " (1, 2, 1, 2),\n",
       " (1, 2, 1, 3),\n",
       " (1, 2, 1, 4),\n",
       " (1, 2, 1, 5),\n",
       " (1, 2, 1, 6),\n",
       " (1, 2, 1, 7),\n",
       " (1, 2, 1, 8),\n",
       " (1, 2, 1, 9),\n",
       " (1, 2, 1, 10),\n",
       " (1, 2, 1, 1),\n",
       " (1, 2, 1, 2),\n",
       " (1, 2, 1, 3),\n",
       " (1, 2, 1, 4),\n",
       " (1, 2, 1, 5),\n",
       " (1, 2, 1, 6),\n",
       " (1, 2, 1, 7),\n",
       " (1, 2, 1, 8),\n",
       " (1, 2, 1, 9),\n",
       " (1, 2, 1, 10),\n",
       " (1, 2, 2, 3),\n",
       " (1, 2, 2, 4),\n",
       " (1, 2, 2, 5),\n",
       " (1, 2, 2, 6),\n",
       " (1, 2, 2, 7),\n",
       " (1, 2, 2, 8),\n",
       " (1, 2, 2, 9),\n",
       " (1, 2, 2, 10),\n",
       " (1, 2, 2, 1),\n",
       " (1, 2, 2, 2),\n",
       " (1, 2, 2, 3),\n",
       " (1, 2, 2, 4),\n",
       " (1, 2, 2, 5),\n",
       " (1, 2, 2, 6),\n",
       " (1, 2, 2, 7),\n",
       " (1, 2, 2, 8),\n",
       " (1, 2, 2, 9),\n",
       " (1, 2, 2, 10),\n",
       " (1, 2, 2, 1),\n",
       " (1, 2, 2, 3),\n",
       " (1, 2, 2, 4),\n",
       " (1, 2, 2, 5),\n",
       " (1, 2, 2, 6),\n",
       " (1, 2, 2, 7),\n",
       " (1, 2, 2, 8),\n",
       " (1, 2, 2, 9),\n",
       " (1, 2, 2, 10),\n",
       " (1, 2, 2, 1),\n",
       " (1, 2, 2, 2),\n",
       " (1, 2, 2, 3),\n",
       " (1, 2, 2, 4),\n",
       " (1, 2, 2, 5),\n",
       " (1, 2, 2, 6),\n",
       " (1, 2, 2, 7),\n",
       " (1, 2, 2, 8),\n",
       " (1, 2, 2, 9),\n",
       " (1, 2, 2, 10),\n",
       " (1, 2, 3, 3),\n",
       " (1, 2, 3, 4),\n",
       " (1, 2, 3, 5),\n",
       " (1, 2, 3, 6),\n",
       " (1, 2, 3, 7),\n",
       " (1, 2, 3, 8),\n",
       " (1, 2, 3, 9),\n",
       " (1, 2, 3, 10),\n",
       " (1, 2, 3, 1),\n",
       " (1, 2, 3, 2),\n",
       " (1, 2, 3, 3),\n",
       " (1, 2, 3, 4),\n",
       " (1, 2, 3, 5),\n",
       " (1, 2, 3, 6),\n",
       " (1, 2, 3, 7),\n",
       " (1, 2, 3, 8),\n",
       " (1, 2, 3, 9),\n",
       " (1, 2, 3, 10),\n",
       " (1, 2, 3, 1),\n",
       " (1, 2, 3, 2),\n",
       " (1, 2, 3, 4),\n",
       " (1, 2, 3, 5),\n",
       " (1, 2, 3, 6),\n",
       " (1, 2, 3, 7),\n",
       " (1, 2, 3, 8),\n",
       " (1, 2, 3, 9),\n",
       " (1, 2, 3, 10),\n",
       " (1, 2, 3, 1),\n",
       " (1, 2, 3, 2),\n",
       " (1, 2, 3, 3),\n",
       " (1, 2, 3, 4),\n",
       " (1, 2, 3, 5),\n",
       " (1, 2, 3, 6),\n",
       " (1, 2, 3, 7),\n",
       " (1, 2, 3, 8),\n",
       " (1, 2, 3, 9),\n",
       " (1, 2, 3, 10),\n",
       " (1, 2, 4, 3),\n",
       " (1, 2, 4, 4),\n",
       " (1, 2, 4, 5),\n",
       " (1, 2, 4, 6),\n",
       " (1, 2, 4, 7),\n",
       " (1, 2, 4, 8),\n",
       " (1, 2, 4, 9),\n",
       " (1, 2, 4, 10),\n",
       " (1, 2, 4, 1),\n",
       " (1, 2, 4, 2),\n",
       " (1, 2, 4, 3),\n",
       " (1, 2, 4, 4),\n",
       " (1, 2, 4, 5),\n",
       " (1, 2, 4, 6),\n",
       " (1, 2, 4, 7),\n",
       " (1, 2, 4, 8),\n",
       " (1, 2, 4, 9),\n",
       " (1, 2, 4, 10),\n",
       " (1, 2, 4, 1),\n",
       " (1, 2, 4, 2),\n",
       " (1, 2, 4, 3),\n",
       " (1, 2, 4, 5),\n",
       " (1, 2, 4, 6),\n",
       " (1, 2, 4, 7),\n",
       " (1, 2, 4, 8),\n",
       " (1, 2, 4, 9),\n",
       " (1, 2, 4, 10),\n",
       " (1, 2, 4, 1),\n",
       " (1, 2, 4, 2),\n",
       " (1, 2, 4, 3),\n",
       " (1, 2, 4, 4),\n",
       " (1, 2, 4, 5),\n",
       " (1, 2, 4, 6),\n",
       " (1, 2, 4, 7),\n",
       " (1, 2, 4, 8),\n",
       " (1, 2, 4, 9),\n",
       " (1, 2, 4, 10),\n",
       " (1, 2, 5, 3),\n",
       " (1, 2, 5, 4),\n",
       " (1, 2, 5, 5),\n",
       " (1, 2, 5, 6),\n",
       " (1, 2, 5, 7),\n",
       " (1, 2, 5, 8),\n",
       " (1, 2, 5, 9),\n",
       " (1, 2, 5, 10),\n",
       " (1, 2, 5, 1),\n",
       " (1, 2, 5, 2),\n",
       " (1, 2, 5, 3),\n",
       " (1, 2, 5, 4),\n",
       " (1, 2, 5, 5),\n",
       " (1, 2, 5, 6),\n",
       " (1, 2, 5, 7),\n",
       " (1, 2, 5, 8),\n",
       " (1, 2, 5, 9),\n",
       " (1, 2, 5, 10),\n",
       " (1, 2, 5, 1),\n",
       " (1, 2, 5, 2),\n",
       " (1, 2, 5, 3),\n",
       " (1, 2, 5, 4),\n",
       " (1, 2, 5, 6),\n",
       " (1, 2, 5, 7),\n",
       " (1, 2, 5, 8),\n",
       " (1, 2, 5, 9),\n",
       " (1, 2, 5, 10),\n",
       " (1, 2, 5, 1),\n",
       " (1, 2, 5, 2),\n",
       " (1, 2, 5, 3),\n",
       " (1, 2, 5, 4),\n",
       " (1, 2, 5, 5),\n",
       " (1, 2, 5, 6),\n",
       " (1, 2, 5, 7),\n",
       " (1, 2, 5, 8),\n",
       " (1, 2, 5, 9),\n",
       " (1, 2, 5, 10),\n",
       " (1, 2, 6, 3),\n",
       " (1, 2, 6, 4),\n",
       " (1, 2, 6, 5),\n",
       " (1, 2, 6, 6),\n",
       " (1, 2, 6, 7),\n",
       " (1, 2, 6, 8),\n",
       " (1, 2, 6, 9),\n",
       " (1, 2, 6, 10),\n",
       " (1, 2, 6, 1),\n",
       " (1, 2, 6, 2),\n",
       " (1, 2, 6, 3),\n",
       " (1, 2, 6, 4),\n",
       " (1, 2, 6, 5),\n",
       " (1, 2, 6, 6),\n",
       " (1, 2, 6, 7),\n",
       " (1, 2, 6, 8),\n",
       " (1, 2, 6, 9),\n",
       " (1, 2, 6, 10),\n",
       " (1, 2, 6, 1),\n",
       " (1, 2, 6, 2),\n",
       " (1, 2, 6, 3),\n",
       " (1, 2, 6, 4),\n",
       " (1, 2, 6, 5),\n",
       " (1, 2, 6, 7),\n",
       " (1, 2, 6, 8),\n",
       " (1, 2, 6, 9),\n",
       " (1, 2, 6, 10),\n",
       " (1, 2, 6, 1),\n",
       " (1, 2, 6, 2),\n",
       " (1, 2, 6, 3),\n",
       " (1, 2, 6, 4),\n",
       " (1, 2, 6, 5),\n",
       " (1, 2, 6, 6),\n",
       " (1, 2, 6, 7),\n",
       " (1, 2, 6, 8),\n",
       " (1, 2, 6, 9),\n",
       " (1, 2, 6, 10),\n",
       " (1, 2, 7, 3),\n",
       " (1, 2, 7, 4),\n",
       " (1, 2, 7, 5),\n",
       " (1, 2, 7, 6),\n",
       " (1, 2, 7, 7),\n",
       " (1, 2, 7, 8),\n",
       " (1, 2, 7, 9),\n",
       " (1, 2, 7, 10),\n",
       " (1, 2, 7, 1),\n",
       " (1, 2, 7, 2),\n",
       " (1, 2, 7, 3),\n",
       " (1, 2, 7, 4),\n",
       " (1, 2, 7, 5),\n",
       " (1, 2, 7, 6),\n",
       " (1, 2, 7, 7),\n",
       " (1, 2, 7, 8),\n",
       " (1, 2, 7, 9),\n",
       " (1, 2, 7, 10),\n",
       " (1, 2, 7, 1),\n",
       " (1, 2, 7, 2),\n",
       " (1, 2, 7, 3),\n",
       " (1, 2, 7, 4),\n",
       " (1, 2, 7, 5),\n",
       " (1, 2, 7, 6),\n",
       " (1, 2, 7, 8),\n",
       " (1, 2, 7, 9),\n",
       " (1, 2, 7, 10),\n",
       " (1, 2, 7, 1),\n",
       " (1, 2, 7, 2),\n",
       " (1, 2, 7, 3),\n",
       " (1, 2, 7, 4),\n",
       " (1, 2, 7, 5),\n",
       " (1, 2, 7, 6),\n",
       " (1, 2, 7, 7),\n",
       " (1, 2, 7, 8),\n",
       " (1, 2, 7, 9),\n",
       " (1, 2, 7, 10),\n",
       " (1, 2, 8, 3),\n",
       " (1, 2, 8, 4),\n",
       " (1, 2, 8, 5),\n",
       " (1, 2, 8, 6),\n",
       " (1, 2, 8, 7),\n",
       " (1, 2, 8, 8),\n",
       " (1, 2, 8, 9),\n",
       " (1, 2, 8, 10),\n",
       " (1, 2, 8, 1),\n",
       " (1, 2, 8, 2),\n",
       " (1, 2, 8, 3),\n",
       " (1, 2, 8, 4),\n",
       " (1, 2, 8, 5),\n",
       " (1, 2, 8, 6),\n",
       " (1, 2, 8, 7),\n",
       " (1, 2, 8, 8),\n",
       " (1, 2, 8, 9),\n",
       " (1, 2, 8, 10),\n",
       " (1, 2, 8, 1),\n",
       " (1, 2, 8, 2),\n",
       " (1, 2, 8, 3),\n",
       " (1, 2, 8, 4),\n",
       " (1, 2, 8, 5),\n",
       " (1, 2, 8, 6),\n",
       " (1, 2, 8, 7),\n",
       " (1, 2, 8, 9),\n",
       " (1, 2, 8, 10),\n",
       " (1, 2, 8, 1),\n",
       " (1, 2, 8, 2),\n",
       " (1, 2, 8, 3),\n",
       " (1, 2, 8, 4),\n",
       " (1, 2, 8, 5),\n",
       " (1, 2, 8, 6),\n",
       " (1, 2, 8, 7),\n",
       " (1, 2, 8, 8),\n",
       " (1, 2, 8, 9),\n",
       " (1, 2, 8, 10),\n",
       " (1, 2, 9, 3),\n",
       " (1, 2, 9, 4),\n",
       " (1, 2, 9, 5),\n",
       " (1, 2, 9, 6),\n",
       " (1, 2, 9, 7),\n",
       " (1, 2, 9, 8),\n",
       " (1, 2, 9, 9),\n",
       " (1, 2, 9, 10),\n",
       " (1, 2, 9, 1),\n",
       " (1, 2, 9, 2),\n",
       " (1, 2, 9, 3),\n",
       " (1, 2, 9, 4),\n",
       " (1, 2, 9, 5),\n",
       " (1, 2, 9, 6),\n",
       " (1, 2, 9, 7),\n",
       " (1, 2, 9, 8),\n",
       " (1, 2, 9, 9),\n",
       " (1, 2, 9, 10),\n",
       " (1, 2, 9, 1),\n",
       " (1, 2, 9, 2),\n",
       " (1, 2, 9, 3),\n",
       " (1, 2, 9, 4),\n",
       " (1, 2, 9, 5),\n",
       " (1, 2, 9, 6),\n",
       " (1, 2, 9, 7),\n",
       " (1, 2, 9, 8),\n",
       " (1, 2, 9, 10),\n",
       " (1, 2, 9, 1),\n",
       " (1, 2, 9, 2),\n",
       " (1, 2, 9, 3),\n",
       " (1, 2, 9, 4),\n",
       " (1, 2, 9, 5),\n",
       " (1, 2, 9, 6),\n",
       " (1, 2, 9, 7),\n",
       " (1, 2, 9, 8),\n",
       " (1, 2, 9, 9),\n",
       " (1, 2, 9, 10),\n",
       " (1, 2, 10, 3),\n",
       " ...]"
      ]
     },
     "execution_count": 374,
     "metadata": {},
     "output_type": "execute_result"
    }
   ],
   "source": [
    "trickycount"
   ]
  },
  {
   "cell_type": "code",
   "execution_count": 375,
   "metadata": {},
   "outputs": [
    {
     "data": {
      "text/plain": [
       "2193360"
      ]
     },
     "execution_count": 375,
     "metadata": {},
     "output_type": "execute_result"
    }
   ],
   "source": [
    "len(trickycount)"
   ]
  },
  {
   "cell_type": "code",
   "execution_count": 376,
   "metadata": {},
   "outputs": [],
   "source": [
    "trickycount1 = set(trickycount)"
   ]
  },
  {
   "cell_type": "code",
   "execution_count": 377,
   "metadata": {},
   "outputs": [
    {
     "data": {
      "text/plain": [
       "10000"
      ]
     },
     "execution_count": 377,
     "metadata": {},
     "output_type": "execute_result"
    }
   ],
   "source": [
    "len(trickycount1)"
   ]
  },
  {
   "cell_type": "code",
   "execution_count": 378,
   "metadata": {},
   "outputs": [],
   "source": [
    "trickycountlist = [list(x) for x in trickycount1]"
   ]
  },
  {
   "cell_type": "code",
   "execution_count": 379,
   "metadata": {},
   "outputs": [
    {
     "data": {
      "text/plain": [
       "[[1, 1, 1, 1],\n",
       " [1, 1, 1, 2],\n",
       " [1, 1, 1, 3],\n",
       " [1, 1, 1, 4],\n",
       " [1, 1, 1, 5],\n",
       " [1, 1, 1, 6],\n",
       " [1, 1, 1, 7],\n",
       " [1, 1, 1, 8],\n",
       " [1, 1, 1, 9],\n",
       " [1, 1, 1, 10],\n",
       " [1, 1, 2, 1],\n",
       " [1, 1, 2, 2],\n",
       " [1, 1, 2, 3],\n",
       " [1, 1, 2, 4],\n",
       " [1, 1, 2, 5],\n",
       " [1, 1, 2, 6],\n",
       " [1, 1, 2, 7],\n",
       " [1, 1, 2, 8],\n",
       " [1, 1, 2, 9],\n",
       " [1, 1, 2, 10],\n",
       " [1, 1, 3, 1],\n",
       " [1, 1, 3, 2],\n",
       " [1, 1, 3, 3],\n",
       " [1, 1, 3, 4],\n",
       " [1, 1, 3, 5],\n",
       " [1, 1, 3, 6],\n",
       " [1, 1, 3, 7],\n",
       " [1, 1, 3, 8],\n",
       " [1, 1, 3, 9],\n",
       " [1, 1, 3, 10],\n",
       " [1, 1, 4, 1],\n",
       " [1, 1, 4, 2],\n",
       " [1, 1, 4, 3],\n",
       " [1, 1, 4, 4],\n",
       " [1, 1, 4, 5],\n",
       " [1, 1, 4, 6],\n",
       " [1, 1, 4, 7],\n",
       " [1, 1, 4, 8],\n",
       " [1, 1, 4, 9],\n",
       " [1, 1, 4, 10],\n",
       " [1, 1, 5, 1],\n",
       " [1, 1, 5, 2],\n",
       " [1, 1, 5, 3],\n",
       " [1, 1, 5, 4],\n",
       " [1, 1, 5, 5],\n",
       " [1, 1, 5, 6],\n",
       " [1, 1, 5, 7],\n",
       " [1, 1, 5, 8],\n",
       " [1, 1, 5, 9],\n",
       " [1, 1, 5, 10],\n",
       " [1, 1, 6, 1],\n",
       " [1, 1, 6, 2],\n",
       " [1, 1, 6, 3],\n",
       " [1, 1, 6, 4],\n",
       " [1, 1, 6, 5],\n",
       " [1, 1, 6, 6],\n",
       " [1, 1, 6, 7],\n",
       " [1, 1, 6, 8],\n",
       " [1, 1, 6, 9],\n",
       " [1, 1, 6, 10],\n",
       " [1, 1, 7, 1],\n",
       " [1, 1, 7, 2],\n",
       " [1, 1, 7, 3],\n",
       " [1, 1, 7, 4],\n",
       " [1, 1, 7, 5],\n",
       " [1, 1, 7, 6],\n",
       " [1, 1, 7, 7],\n",
       " [1, 1, 7, 8],\n",
       " [1, 1, 7, 9],\n",
       " [1, 1, 7, 10],\n",
       " [1, 1, 8, 1],\n",
       " [1, 1, 8, 2],\n",
       " [1, 1, 8, 3],\n",
       " [1, 1, 8, 4],\n",
       " [1, 1, 8, 5],\n",
       " [1, 1, 8, 6],\n",
       " [1, 1, 8, 7],\n",
       " [1, 1, 8, 8],\n",
       " [1, 1, 8, 9],\n",
       " [1, 1, 8, 10],\n",
       " [1, 1, 9, 1],\n",
       " [1, 1, 9, 2],\n",
       " [1, 1, 9, 3],\n",
       " [1, 1, 9, 4],\n",
       " [1, 1, 9, 5],\n",
       " [1, 1, 9, 6],\n",
       " [1, 1, 9, 7],\n",
       " [1, 1, 9, 8],\n",
       " [1, 1, 9, 9],\n",
       " [1, 1, 9, 10],\n",
       " [1, 1, 10, 1],\n",
       " [1, 1, 10, 2],\n",
       " [1, 1, 10, 3],\n",
       " [1, 1, 10, 4],\n",
       " [1, 1, 10, 5],\n",
       " [1, 1, 10, 6],\n",
       " [1, 1, 10, 7],\n",
       " [1, 1, 10, 8],\n",
       " [1, 1, 10, 9],\n",
       " [1, 1, 10, 10],\n",
       " [1, 2, 1, 1],\n",
       " [1, 2, 1, 2],\n",
       " [1, 2, 1, 3],\n",
       " [1, 2, 1, 4],\n",
       " [1, 2, 1, 5],\n",
       " [1, 2, 1, 6],\n",
       " [1, 2, 1, 7],\n",
       " [1, 2, 1, 8],\n",
       " [1, 2, 1, 9],\n",
       " [1, 2, 1, 10],\n",
       " [1, 2, 2, 1],\n",
       " [1, 2, 2, 2],\n",
       " [1, 2, 2, 3],\n",
       " [1, 2, 2, 4],\n",
       " [1, 2, 2, 5],\n",
       " [1, 2, 2, 6],\n",
       " [1, 2, 2, 7],\n",
       " [1, 2, 2, 8],\n",
       " [1, 2, 2, 9],\n",
       " [1, 2, 2, 10],\n",
       " [1, 2, 3, 1],\n",
       " [1, 2, 3, 2],\n",
       " [1, 2, 3, 3],\n",
       " [1, 2, 3, 4],\n",
       " [1, 2, 3, 5],\n",
       " [1, 2, 3, 6],\n",
       " [1, 2, 3, 7],\n",
       " [1, 2, 3, 8],\n",
       " [1, 2, 3, 9],\n",
       " [1, 2, 3, 10],\n",
       " [1, 2, 4, 1],\n",
       " [1, 2, 4, 2],\n",
       " [1, 2, 4, 3],\n",
       " [1, 2, 4, 4],\n",
       " [1, 2, 4, 5],\n",
       " [1, 2, 4, 6],\n",
       " [1, 2, 4, 7],\n",
       " [1, 2, 4, 8],\n",
       " [1, 2, 4, 9],\n",
       " [1, 2, 4, 10],\n",
       " [1, 2, 5, 1],\n",
       " [1, 2, 5, 2],\n",
       " [1, 2, 5, 3],\n",
       " [1, 2, 5, 4],\n",
       " [1, 2, 5, 5],\n",
       " [1, 2, 5, 6],\n",
       " [1, 2, 5, 7],\n",
       " [1, 2, 5, 8],\n",
       " [1, 2, 5, 9],\n",
       " [1, 2, 5, 10],\n",
       " [1, 2, 6, 1],\n",
       " [1, 2, 6, 2],\n",
       " [1, 2, 6, 3],\n",
       " [1, 2, 6, 4],\n",
       " [1, 2, 6, 5],\n",
       " [1, 2, 6, 6],\n",
       " [1, 2, 6, 7],\n",
       " [1, 2, 6, 8],\n",
       " [1, 2, 6, 9],\n",
       " [1, 2, 6, 10],\n",
       " [1, 2, 7, 1],\n",
       " [1, 2, 7, 2],\n",
       " [1, 2, 7, 3],\n",
       " [1, 2, 7, 4],\n",
       " [1, 2, 7, 5],\n",
       " [1, 2, 7, 6],\n",
       " [1, 2, 7, 7],\n",
       " [1, 2, 7, 8],\n",
       " [1, 2, 7, 9],\n",
       " [1, 2, 7, 10],\n",
       " [1, 2, 8, 1],\n",
       " [1, 2, 8, 2],\n",
       " [1, 2, 8, 3],\n",
       " [1, 2, 8, 4],\n",
       " [1, 2, 8, 5],\n",
       " [1, 2, 8, 6],\n",
       " [1, 2, 8, 7],\n",
       " [1, 2, 8, 8],\n",
       " [1, 2, 8, 9],\n",
       " [1, 2, 8, 10],\n",
       " [1, 2, 9, 1],\n",
       " [1, 2, 9, 2],\n",
       " [1, 2, 9, 3],\n",
       " [1, 2, 9, 4],\n",
       " [1, 2, 9, 5],\n",
       " [1, 2, 9, 6],\n",
       " [1, 2, 9, 7],\n",
       " [1, 2, 9, 8],\n",
       " [1, 2, 9, 9],\n",
       " [1, 2, 9, 10],\n",
       " [1, 2, 10, 1],\n",
       " [1, 2, 10, 2],\n",
       " [1, 2, 10, 3],\n",
       " [1, 2, 10, 4],\n",
       " [1, 2, 10, 5],\n",
       " [1, 2, 10, 6],\n",
       " [1, 2, 10, 7],\n",
       " [1, 2, 10, 8],\n",
       " [1, 2, 10, 9],\n",
       " [1, 2, 10, 10],\n",
       " [1, 3, 1, 1],\n",
       " [1, 3, 1, 2],\n",
       " [1, 3, 1, 3],\n",
       " [1, 3, 1, 4],\n",
       " [1, 3, 1, 5],\n",
       " [1, 3, 1, 6],\n",
       " [1, 3, 1, 7],\n",
       " [1, 3, 1, 8],\n",
       " [1, 3, 1, 9],\n",
       " [1, 3, 1, 10],\n",
       " [1, 3, 2, 1],\n",
       " [1, 3, 2, 2],\n",
       " [1, 3, 2, 3],\n",
       " [1, 3, 2, 4],\n",
       " [1, 3, 2, 5],\n",
       " [1, 3, 2, 6],\n",
       " [1, 3, 2, 7],\n",
       " [1, 3, 2, 8],\n",
       " [1, 3, 2, 9],\n",
       " [1, 3, 2, 10],\n",
       " [1, 3, 3, 1],\n",
       " [1, 3, 3, 2],\n",
       " [1, 3, 3, 3],\n",
       " [1, 3, 3, 4],\n",
       " [1, 3, 3, 5],\n",
       " [1, 3, 3, 6],\n",
       " [1, 3, 3, 7],\n",
       " [1, 3, 3, 8],\n",
       " [1, 3, 3, 9],\n",
       " [1, 3, 3, 10],\n",
       " [1, 3, 4, 1],\n",
       " [1, 3, 4, 2],\n",
       " [1, 3, 4, 3],\n",
       " [1, 3, 4, 4],\n",
       " [1, 3, 4, 5],\n",
       " [1, 3, 4, 6],\n",
       " [1, 3, 4, 7],\n",
       " [1, 3, 4, 8],\n",
       " [1, 3, 4, 9],\n",
       " [1, 3, 4, 10],\n",
       " [1, 3, 5, 1],\n",
       " [1, 3, 5, 2],\n",
       " [1, 3, 5, 3],\n",
       " [1, 3, 5, 4],\n",
       " [1, 3, 5, 5],\n",
       " [1, 3, 5, 6],\n",
       " [1, 3, 5, 7],\n",
       " [1, 3, 5, 8],\n",
       " [1, 3, 5, 9],\n",
       " [1, 3, 5, 10],\n",
       " [1, 3, 6, 1],\n",
       " [1, 3, 6, 2],\n",
       " [1, 3, 6, 3],\n",
       " [1, 3, 6, 4],\n",
       " [1, 3, 6, 5],\n",
       " [1, 3, 6, 6],\n",
       " [1, 3, 6, 7],\n",
       " [1, 3, 6, 8],\n",
       " [1, 3, 6, 9],\n",
       " [1, 3, 6, 10],\n",
       " [1, 3, 7, 1],\n",
       " [1, 3, 7, 2],\n",
       " [1, 3, 7, 3],\n",
       " [1, 3, 7, 4],\n",
       " [1, 3, 7, 5],\n",
       " [1, 3, 7, 6],\n",
       " [1, 3, 7, 7],\n",
       " [1, 3, 7, 8],\n",
       " [1, 3, 7, 9],\n",
       " [1, 3, 7, 10],\n",
       " [1, 3, 8, 1],\n",
       " [1, 3, 8, 2],\n",
       " [1, 3, 8, 3],\n",
       " [1, 3, 8, 4],\n",
       " [1, 3, 8, 5],\n",
       " [1, 3, 8, 6],\n",
       " [1, 3, 8, 7],\n",
       " [1, 3, 8, 8],\n",
       " [1, 3, 8, 9],\n",
       " [1, 3, 8, 10],\n",
       " [1, 3, 9, 1],\n",
       " [1, 3, 9, 2],\n",
       " [1, 3, 9, 3],\n",
       " [1, 3, 9, 4],\n",
       " [1, 3, 9, 5],\n",
       " [1, 3, 9, 6],\n",
       " [1, 3, 9, 7],\n",
       " [1, 3, 9, 8],\n",
       " [1, 3, 9, 9],\n",
       " [1, 3, 9, 10],\n",
       " [1, 3, 10, 1],\n",
       " [1, 3, 10, 2],\n",
       " [1, 3, 10, 3],\n",
       " [1, 3, 10, 4],\n",
       " [1, 3, 10, 5],\n",
       " [1, 3, 10, 6],\n",
       " [1, 3, 10, 7],\n",
       " [1, 3, 10, 8],\n",
       " [1, 3, 10, 9],\n",
       " [1, 3, 10, 10],\n",
       " [1, 4, 1, 1],\n",
       " [1, 4, 1, 2],\n",
       " [1, 4, 1, 3],\n",
       " [1, 4, 1, 4],\n",
       " [1, 4, 1, 5],\n",
       " [1, 4, 1, 6],\n",
       " [1, 4, 1, 7],\n",
       " [1, 4, 1, 8],\n",
       " [1, 4, 1, 9],\n",
       " [1, 4, 1, 10],\n",
       " [1, 4, 2, 1],\n",
       " [1, 4, 2, 2],\n",
       " [1, 4, 2, 3],\n",
       " [1, 4, 2, 4],\n",
       " [1, 4, 2, 5],\n",
       " [1, 4, 2, 6],\n",
       " [1, 4, 2, 7],\n",
       " [1, 4, 2, 8],\n",
       " [1, 4, 2, 9],\n",
       " [1, 4, 2, 10],\n",
       " [1, 4, 3, 1],\n",
       " [1, 4, 3, 2],\n",
       " [1, 4, 3, 3],\n",
       " [1, 4, 3, 4],\n",
       " [1, 4, 3, 5],\n",
       " [1, 4, 3, 6],\n",
       " [1, 4, 3, 7],\n",
       " [1, 4, 3, 8],\n",
       " [1, 4, 3, 9],\n",
       " [1, 4, 3, 10],\n",
       " [1, 4, 4, 1],\n",
       " [1, 4, 4, 2],\n",
       " [1, 4, 4, 3],\n",
       " [1, 4, 4, 4],\n",
       " [1, 4, 4, 5],\n",
       " [1, 4, 4, 6],\n",
       " [1, 4, 4, 7],\n",
       " [1, 4, 4, 8],\n",
       " [1, 4, 4, 9],\n",
       " [1, 4, 4, 10],\n",
       " [1, 4, 5, 1],\n",
       " [1, 4, 5, 2],\n",
       " [1, 4, 5, 3],\n",
       " [1, 4, 5, 4],\n",
       " [1, 4, 5, 5],\n",
       " [1, 4, 5, 6],\n",
       " [1, 4, 5, 7],\n",
       " [1, 4, 5, 8],\n",
       " [1, 4, 5, 9],\n",
       " [1, 4, 5, 10],\n",
       " [1, 4, 6, 1],\n",
       " [1, 4, 6, 2],\n",
       " [1, 4, 6, 3],\n",
       " [1, 4, 6, 4],\n",
       " [1, 4, 6, 5],\n",
       " [1, 4, 6, 6],\n",
       " [1, 4, 6, 7],\n",
       " [1, 4, 6, 8],\n",
       " [1, 4, 6, 9],\n",
       " [1, 4, 6, 10],\n",
       " [1, 4, 7, 1],\n",
       " [1, 4, 7, 2],\n",
       " [1, 4, 7, 3],\n",
       " [1, 4, 7, 4],\n",
       " [1, 4, 7, 5],\n",
       " [1, 4, 7, 6],\n",
       " [1, 4, 7, 7],\n",
       " [1, 4, 7, 8],\n",
       " [1, 4, 7, 9],\n",
       " [1, 4, 7, 10],\n",
       " [1, 4, 8, 1],\n",
       " [1, 4, 8, 2],\n",
       " [1, 4, 8, 3],\n",
       " [1, 4, 8, 4],\n",
       " [1, 4, 8, 5],\n",
       " [1, 4, 8, 6],\n",
       " [1, 4, 8, 7],\n",
       " [1, 4, 8, 8],\n",
       " [1, 4, 8, 9],\n",
       " [1, 4, 8, 10],\n",
       " [1, 4, 9, 1],\n",
       " [1, 4, 9, 2],\n",
       " [1, 4, 9, 3],\n",
       " [1, 4, 9, 4],\n",
       " [1, 4, 9, 5],\n",
       " [1, 4, 9, 6],\n",
       " [1, 4, 9, 7],\n",
       " [1, 4, 9, 8],\n",
       " [1, 4, 9, 9],\n",
       " [1, 4, 9, 10],\n",
       " [1, 4, 10, 1],\n",
       " [1, 4, 10, 2],\n",
       " [1, 4, 10, 3],\n",
       " [1, 4, 10, 4],\n",
       " [1, 4, 10, 5],\n",
       " [1, 4, 10, 6],\n",
       " [1, 4, 10, 7],\n",
       " [1, 4, 10, 8],\n",
       " [1, 4, 10, 9],\n",
       " [1, 4, 10, 10],\n",
       " [1, 5, 1, 1],\n",
       " [1, 5, 1, 2],\n",
       " [1, 5, 1, 3],\n",
       " [1, 5, 1, 4],\n",
       " [1, 5, 1, 5],\n",
       " [1, 5, 1, 6],\n",
       " [1, 5, 1, 7],\n",
       " [1, 5, 1, 8],\n",
       " [1, 5, 1, 9],\n",
       " [1, 5, 1, 10],\n",
       " [1, 5, 2, 1],\n",
       " [1, 5, 2, 2],\n",
       " [1, 5, 2, 3],\n",
       " [1, 5, 2, 4],\n",
       " [1, 5, 2, 5],\n",
       " [1, 5, 2, 6],\n",
       " [1, 5, 2, 7],\n",
       " [1, 5, 2, 8],\n",
       " [1, 5, 2, 9],\n",
       " [1, 5, 2, 10],\n",
       " [1, 5, 3, 1],\n",
       " [1, 5, 3, 2],\n",
       " [1, 5, 3, 3],\n",
       " [1, 5, 3, 4],\n",
       " [1, 5, 3, 5],\n",
       " [1, 5, 3, 6],\n",
       " [1, 5, 3, 7],\n",
       " [1, 5, 3, 8],\n",
       " [1, 5, 3, 9],\n",
       " [1, 5, 3, 10],\n",
       " [1, 5, 4, 1],\n",
       " [1, 5, 4, 2],\n",
       " [1, 5, 4, 3],\n",
       " [1, 5, 4, 4],\n",
       " [1, 5, 4, 5],\n",
       " [1, 5, 4, 6],\n",
       " [1, 5, 4, 7],\n",
       " [1, 5, 4, 8],\n",
       " [1, 5, 4, 9],\n",
       " [1, 5, 4, 10],\n",
       " [1, 5, 5, 1],\n",
       " [1, 5, 5, 2],\n",
       " [1, 5, 5, 3],\n",
       " [1, 5, 5, 4],\n",
       " [1, 5, 5, 5],\n",
       " [1, 5, 5, 6],\n",
       " [1, 5, 5, 7],\n",
       " [1, 5, 5, 8],\n",
       " [1, 5, 5, 9],\n",
       " [1, 5, 5, 10],\n",
       " [1, 5, 6, 1],\n",
       " [1, 5, 6, 2],\n",
       " [1, 5, 6, 3],\n",
       " [1, 5, 6, 4],\n",
       " [1, 5, 6, 5],\n",
       " [1, 5, 6, 6],\n",
       " [1, 5, 6, 7],\n",
       " [1, 5, 6, 8],\n",
       " [1, 5, 6, 9],\n",
       " [1, 5, 6, 10],\n",
       " [1, 5, 7, 1],\n",
       " [1, 5, 7, 2],\n",
       " [1, 5, 7, 3],\n",
       " [1, 5, 7, 4],\n",
       " [1, 5, 7, 5],\n",
       " [1, 5, 7, 6],\n",
       " [1, 5, 7, 7],\n",
       " [1, 5, 7, 8],\n",
       " [1, 5, 7, 9],\n",
       " [1, 5, 7, 10],\n",
       " [1, 5, 8, 1],\n",
       " [1, 5, 8, 2],\n",
       " [1, 5, 8, 3],\n",
       " [1, 5, 8, 4],\n",
       " [1, 5, 8, 5],\n",
       " [1, 5, 8, 6],\n",
       " [1, 5, 8, 7],\n",
       " [1, 5, 8, 8],\n",
       " [1, 5, 8, 9],\n",
       " [1, 5, 8, 10],\n",
       " [1, 5, 9, 1],\n",
       " [1, 5, 9, 2],\n",
       " [1, 5, 9, 3],\n",
       " [1, 5, 9, 4],\n",
       " [1, 5, 9, 5],\n",
       " [1, 5, 9, 6],\n",
       " [1, 5, 9, 7],\n",
       " [1, 5, 9, 8],\n",
       " [1, 5, 9, 9],\n",
       " [1, 5, 9, 10],\n",
       " [1, 5, 10, 1],\n",
       " [1, 5, 10, 2],\n",
       " [1, 5, 10, 3],\n",
       " [1, 5, 10, 4],\n",
       " [1, 5, 10, 5],\n",
       " [1, 5, 10, 6],\n",
       " [1, 5, 10, 7],\n",
       " [1, 5, 10, 8],\n",
       " [1, 5, 10, 9],\n",
       " [1, 5, 10, 10],\n",
       " [1, 6, 1, 1],\n",
       " [1, 6, 1, 2],\n",
       " [1, 6, 1, 3],\n",
       " [1, 6, 1, 4],\n",
       " [1, 6, 1, 5],\n",
       " [1, 6, 1, 6],\n",
       " [1, 6, 1, 7],\n",
       " [1, 6, 1, 8],\n",
       " [1, 6, 1, 9],\n",
       " [1, 6, 1, 10],\n",
       " [1, 6, 2, 1],\n",
       " [1, 6, 2, 2],\n",
       " [1, 6, 2, 3],\n",
       " [1, 6, 2, 4],\n",
       " [1, 6, 2, 5],\n",
       " [1, 6, 2, 6],\n",
       " [1, 6, 2, 7],\n",
       " [1, 6, 2, 8],\n",
       " [1, 6, 2, 9],\n",
       " [1, 6, 2, 10],\n",
       " [1, 6, 3, 1],\n",
       " [1, 6, 3, 2],\n",
       " [1, 6, 3, 3],\n",
       " [1, 6, 3, 4],\n",
       " [1, 6, 3, 5],\n",
       " [1, 6, 3, 6],\n",
       " [1, 6, 3, 7],\n",
       " [1, 6, 3, 8],\n",
       " [1, 6, 3, 9],\n",
       " [1, 6, 3, 10],\n",
       " [1, 6, 4, 1],\n",
       " [1, 6, 4, 2],\n",
       " [1, 6, 4, 3],\n",
       " [1, 6, 4, 4],\n",
       " [1, 6, 4, 5],\n",
       " [1, 6, 4, 6],\n",
       " [1, 6, 4, 7],\n",
       " [1, 6, 4, 8],\n",
       " [1, 6, 4, 9],\n",
       " [1, 6, 4, 10],\n",
       " [1, 6, 5, 1],\n",
       " [1, 6, 5, 2],\n",
       " [1, 6, 5, 3],\n",
       " [1, 6, 5, 4],\n",
       " [1, 6, 5, 5],\n",
       " [1, 6, 5, 6],\n",
       " [1, 6, 5, 7],\n",
       " [1, 6, 5, 8],\n",
       " [1, 6, 5, 9],\n",
       " [1, 6, 5, 10],\n",
       " [1, 6, 6, 1],\n",
       " [1, 6, 6, 2],\n",
       " [1, 6, 6, 3],\n",
       " [1, 6, 6, 4],\n",
       " [1, 6, 6, 5],\n",
       " [1, 6, 6, 6],\n",
       " [1, 6, 6, 7],\n",
       " [1, 6, 6, 8],\n",
       " [1, 6, 6, 9],\n",
       " [1, 6, 6, 10],\n",
       " [1, 6, 7, 1],\n",
       " [1, 6, 7, 2],\n",
       " [1, 6, 7, 3],\n",
       " [1, 6, 7, 4],\n",
       " [1, 6, 7, 5],\n",
       " [1, 6, 7, 6],\n",
       " [1, 6, 7, 7],\n",
       " [1, 6, 7, 8],\n",
       " [1, 6, 7, 9],\n",
       " [1, 6, 7, 10],\n",
       " [1, 6, 8, 1],\n",
       " [1, 6, 8, 2],\n",
       " [1, 6, 8, 3],\n",
       " [1, 6, 8, 4],\n",
       " [1, 6, 8, 5],\n",
       " [1, 6, 8, 6],\n",
       " [1, 6, 8, 7],\n",
       " [1, 6, 8, 8],\n",
       " [1, 6, 8, 9],\n",
       " [1, 6, 8, 10],\n",
       " [1, 6, 9, 1],\n",
       " [1, 6, 9, 2],\n",
       " [1, 6, 9, 3],\n",
       " [1, 6, 9, 4],\n",
       " [1, 6, 9, 5],\n",
       " [1, 6, 9, 6],\n",
       " [1, 6, 9, 7],\n",
       " [1, 6, 9, 8],\n",
       " [1, 6, 9, 9],\n",
       " [1, 6, 9, 10],\n",
       " [1, 6, 10, 1],\n",
       " [1, 6, 10, 2],\n",
       " [1, 6, 10, 3],\n",
       " [1, 6, 10, 4],\n",
       " [1, 6, 10, 5],\n",
       " [1, 6, 10, 6],\n",
       " [1, 6, 10, 7],\n",
       " [1, 6, 10, 8],\n",
       " [1, 6, 10, 9],\n",
       " [1, 6, 10, 10],\n",
       " [1, 7, 1, 1],\n",
       " [1, 7, 1, 2],\n",
       " [1, 7, 1, 3],\n",
       " [1, 7, 1, 4],\n",
       " [1, 7, 1, 5],\n",
       " [1, 7, 1, 6],\n",
       " [1, 7, 1, 7],\n",
       " [1, 7, 1, 8],\n",
       " [1, 7, 1, 9],\n",
       " [1, 7, 1, 10],\n",
       " [1, 7, 2, 1],\n",
       " [1, 7, 2, 2],\n",
       " [1, 7, 2, 3],\n",
       " [1, 7, 2, 4],\n",
       " [1, 7, 2, 5],\n",
       " [1, 7, 2, 6],\n",
       " [1, 7, 2, 7],\n",
       " [1, 7, 2, 8],\n",
       " [1, 7, 2, 9],\n",
       " [1, 7, 2, 10],\n",
       " [1, 7, 3, 1],\n",
       " [1, 7, 3, 2],\n",
       " [1, 7, 3, 3],\n",
       " [1, 7, 3, 4],\n",
       " [1, 7, 3, 5],\n",
       " [1, 7, 3, 6],\n",
       " [1, 7, 3, 7],\n",
       " [1, 7, 3, 8],\n",
       " [1, 7, 3, 9],\n",
       " [1, 7, 3, 10],\n",
       " [1, 7, 4, 1],\n",
       " [1, 7, 4, 2],\n",
       " [1, 7, 4, 3],\n",
       " [1, 7, 4, 4],\n",
       " [1, 7, 4, 5],\n",
       " [1, 7, 4, 6],\n",
       " [1, 7, 4, 7],\n",
       " [1, 7, 4, 8],\n",
       " [1, 7, 4, 9],\n",
       " [1, 7, 4, 10],\n",
       " [1, 7, 5, 1],\n",
       " [1, 7, 5, 2],\n",
       " [1, 7, 5, 3],\n",
       " [1, 7, 5, 4],\n",
       " [1, 7, 5, 5],\n",
       " [1, 7, 5, 6],\n",
       " [1, 7, 5, 7],\n",
       " [1, 7, 5, 8],\n",
       " [1, 7, 5, 9],\n",
       " [1, 7, 5, 10],\n",
       " [1, 7, 6, 1],\n",
       " [1, 7, 6, 2],\n",
       " [1, 7, 6, 3],\n",
       " [1, 7, 6, 4],\n",
       " [1, 7, 6, 5],\n",
       " [1, 7, 6, 6],\n",
       " [1, 7, 6, 7],\n",
       " [1, 7, 6, 8],\n",
       " [1, 7, 6, 9],\n",
       " [1, 7, 6, 10],\n",
       " [1, 7, 7, 1],\n",
       " [1, 7, 7, 2],\n",
       " [1, 7, 7, 3],\n",
       " [1, 7, 7, 4],\n",
       " [1, 7, 7, 5],\n",
       " [1, 7, 7, 6],\n",
       " [1, 7, 7, 7],\n",
       " [1, 7, 7, 8],\n",
       " [1, 7, 7, 9],\n",
       " [1, 7, 7, 10],\n",
       " [1, 7, 8, 1],\n",
       " [1, 7, 8, 2],\n",
       " [1, 7, 8, 3],\n",
       " [1, 7, 8, 4],\n",
       " [1, 7, 8, 5],\n",
       " [1, 7, 8, 6],\n",
       " [1, 7, 8, 7],\n",
       " [1, 7, 8, 8],\n",
       " [1, 7, 8, 9],\n",
       " [1, 7, 8, 10],\n",
       " [1, 7, 9, 1],\n",
       " [1, 7, 9, 2],\n",
       " [1, 7, 9, 3],\n",
       " [1, 7, 9, 4],\n",
       " [1, 7, 9, 5],\n",
       " [1, 7, 9, 6],\n",
       " [1, 7, 9, 7],\n",
       " [1, 7, 9, 8],\n",
       " [1, 7, 9, 9],\n",
       " [1, 7, 9, 10],\n",
       " [1, 7, 10, 1],\n",
       " [1, 7, 10, 2],\n",
       " [1, 7, 10, 3],\n",
       " [1, 7, 10, 4],\n",
       " [1, 7, 10, 5],\n",
       " [1, 7, 10, 6],\n",
       " [1, 7, 10, 7],\n",
       " [1, 7, 10, 8],\n",
       " [1, 7, 10, 9],\n",
       " [1, 7, 10, 10],\n",
       " [1, 8, 1, 1],\n",
       " [1, 8, 1, 2],\n",
       " [1, 8, 1, 3],\n",
       " [1, 8, 1, 4],\n",
       " [1, 8, 1, 5],\n",
       " [1, 8, 1, 6],\n",
       " [1, 8, 1, 7],\n",
       " [1, 8, 1, 8],\n",
       " [1, 8, 1, 9],\n",
       " [1, 8, 1, 10],\n",
       " [1, 8, 2, 1],\n",
       " [1, 8, 2, 2],\n",
       " [1, 8, 2, 3],\n",
       " [1, 8, 2, 4],\n",
       " [1, 8, 2, 5],\n",
       " [1, 8, 2, 6],\n",
       " [1, 8, 2, 7],\n",
       " [1, 8, 2, 8],\n",
       " [1, 8, 2, 9],\n",
       " [1, 8, 2, 10],\n",
       " [1, 8, 3, 1],\n",
       " [1, 8, 3, 2],\n",
       " [1, 8, 3, 3],\n",
       " [1, 8, 3, 4],\n",
       " [1, 8, 3, 5],\n",
       " [1, 8, 3, 6],\n",
       " [1, 8, 3, 7],\n",
       " [1, 8, 3, 8],\n",
       " [1, 8, 3, 9],\n",
       " [1, 8, 3, 10],\n",
       " [1, 8, 4, 1],\n",
       " [1, 8, 4, 2],\n",
       " [1, 8, 4, 3],\n",
       " [1, 8, 4, 4],\n",
       " [1, 8, 4, 5],\n",
       " [1, 8, 4, 6],\n",
       " [1, 8, 4, 7],\n",
       " [1, 8, 4, 8],\n",
       " [1, 8, 4, 9],\n",
       " [1, 8, 4, 10],\n",
       " [1, 8, 5, 1],\n",
       " [1, 8, 5, 2],\n",
       " [1, 8, 5, 3],\n",
       " [1, 8, 5, 4],\n",
       " [1, 8, 5, 5],\n",
       " [1, 8, 5, 6],\n",
       " [1, 8, 5, 7],\n",
       " [1, 8, 5, 8],\n",
       " [1, 8, 5, 9],\n",
       " [1, 8, 5, 10],\n",
       " [1, 8, 6, 1],\n",
       " [1, 8, 6, 2],\n",
       " [1, 8, 6, 3],\n",
       " [1, 8, 6, 4],\n",
       " [1, 8, 6, 5],\n",
       " [1, 8, 6, 6],\n",
       " [1, 8, 6, 7],\n",
       " [1, 8, 6, 8],\n",
       " [1, 8, 6, 9],\n",
       " [1, 8, 6, 10],\n",
       " [1, 8, 7, 1],\n",
       " [1, 8, 7, 2],\n",
       " [1, 8, 7, 3],\n",
       " [1, 8, 7, 4],\n",
       " [1, 8, 7, 5],\n",
       " [1, 8, 7, 6],\n",
       " [1, 8, 7, 7],\n",
       " [1, 8, 7, 8],\n",
       " [1, 8, 7, 9],\n",
       " [1, 8, 7, 10],\n",
       " [1, 8, 8, 1],\n",
       " [1, 8, 8, 2],\n",
       " [1, 8, 8, 3],\n",
       " [1, 8, 8, 4],\n",
       " [1, 8, 8, 5],\n",
       " [1, 8, 8, 6],\n",
       " [1, 8, 8, 7],\n",
       " [1, 8, 8, 8],\n",
       " [1, 8, 8, 9],\n",
       " [1, 8, 8, 10],\n",
       " [1, 8, 9, 1],\n",
       " [1, 8, 9, 2],\n",
       " [1, 8, 9, 3],\n",
       " [1, 8, 9, 4],\n",
       " [1, 8, 9, 5],\n",
       " [1, 8, 9, 6],\n",
       " [1, 8, 9, 7],\n",
       " [1, 8, 9, 8],\n",
       " [1, 8, 9, 9],\n",
       " [1, 8, 9, 10],\n",
       " [1, 8, 10, 1],\n",
       " [1, 8, 10, 2],\n",
       " [1, 8, 10, 3],\n",
       " [1, 8, 10, 4],\n",
       " [1, 8, 10, 5],\n",
       " [1, 8, 10, 6],\n",
       " [1, 8, 10, 7],\n",
       " [1, 8, 10, 8],\n",
       " [1, 8, 10, 9],\n",
       " [1, 8, 10, 10],\n",
       " [1, 9, 1, 1],\n",
       " [1, 9, 1, 2],\n",
       " [1, 9, 1, 3],\n",
       " [1, 9, 1, 4],\n",
       " [1, 9, 1, 5],\n",
       " [1, 9, 1, 6],\n",
       " [1, 9, 1, 7],\n",
       " [1, 9, 1, 8],\n",
       " [1, 9, 1, 9],\n",
       " [1, 9, 1, 10],\n",
       " [1, 9, 2, 1],\n",
       " [1, 9, 2, 2],\n",
       " [1, 9, 2, 3],\n",
       " [1, 9, 2, 4],\n",
       " [1, 9, 2, 5],\n",
       " [1, 9, 2, 6],\n",
       " [1, 9, 2, 7],\n",
       " [1, 9, 2, 8],\n",
       " [1, 9, 2, 9],\n",
       " [1, 9, 2, 10],\n",
       " [1, 9, 3, 1],\n",
       " [1, 9, 3, 2],\n",
       " [1, 9, 3, 3],\n",
       " [1, 9, 3, 4],\n",
       " [1, 9, 3, 5],\n",
       " [1, 9, 3, 6],\n",
       " [1, 9, 3, 7],\n",
       " [1, 9, 3, 8],\n",
       " [1, 9, 3, 9],\n",
       " [1, 9, 3, 10],\n",
       " [1, 9, 4, 1],\n",
       " [1, 9, 4, 2],\n",
       " [1, 9, 4, 3],\n",
       " [1, 9, 4, 4],\n",
       " [1, 9, 4, 5],\n",
       " [1, 9, 4, 6],\n",
       " [1, 9, 4, 7],\n",
       " [1, 9, 4, 8],\n",
       " [1, 9, 4, 9],\n",
       " [1, 9, 4, 10],\n",
       " [1, 9, 5, 1],\n",
       " [1, 9, 5, 2],\n",
       " [1, 9, 5, 3],\n",
       " [1, 9, 5, 4],\n",
       " [1, 9, 5, 5],\n",
       " [1, 9, 5, 6],\n",
       " [1, 9, 5, 7],\n",
       " [1, 9, 5, 8],\n",
       " [1, 9, 5, 9],\n",
       " [1, 9, 5, 10],\n",
       " [1, 9, 6, 1],\n",
       " [1, 9, 6, 2],\n",
       " [1, 9, 6, 3],\n",
       " [1, 9, 6, 4],\n",
       " [1, 9, 6, 5],\n",
       " [1, 9, 6, 6],\n",
       " [1, 9, 6, 7],\n",
       " [1, 9, 6, 8],\n",
       " [1, 9, 6, 9],\n",
       " [1, 9, 6, 10],\n",
       " [1, 9, 7, 1],\n",
       " [1, 9, 7, 2],\n",
       " [1, 9, 7, 3],\n",
       " [1, 9, 7, 4],\n",
       " [1, 9, 7, 5],\n",
       " [1, 9, 7, 6],\n",
       " [1, 9, 7, 7],\n",
       " [1, 9, 7, 8],\n",
       " [1, 9, 7, 9],\n",
       " [1, 9, 7, 10],\n",
       " [1, 9, 8, 1],\n",
       " [1, 9, 8, 2],\n",
       " [1, 9, 8, 3],\n",
       " [1, 9, 8, 4],\n",
       " [1, 9, 8, 5],\n",
       " [1, 9, 8, 6],\n",
       " [1, 9, 8, 7],\n",
       " [1, 9, 8, 8],\n",
       " [1, 9, 8, 9],\n",
       " [1, 9, 8, 10],\n",
       " [1, 9, 9, 1],\n",
       " [1, 9, 9, 2],\n",
       " [1, 9, 9, 3],\n",
       " [1, 9, 9, 4],\n",
       " [1, 9, 9, 5],\n",
       " [1, 9, 9, 6],\n",
       " [1, 9, 9, 7],\n",
       " [1, 9, 9, 8],\n",
       " [1, 9, 9, 9],\n",
       " [1, 9, 9, 10],\n",
       " [1, 9, 10, 1],\n",
       " [1, 9, 10, 2],\n",
       " [1, 9, 10, 3],\n",
       " [1, 9, 10, 4],\n",
       " [1, 9, 10, 5],\n",
       " [1, 9, 10, 6],\n",
       " [1, 9, 10, 7],\n",
       " [1, 9, 10, 8],\n",
       " [1, 9, 10, 9],\n",
       " [1, 9, 10, 10],\n",
       " [1, 10, 1, 1],\n",
       " [1, 10, 1, 2],\n",
       " [1, 10, 1, 3],\n",
       " [1, 10, 1, 4],\n",
       " [1, 10, 1, 5],\n",
       " [1, 10, 1, 6],\n",
       " [1, 10, 1, 7],\n",
       " [1, 10, 1, 8],\n",
       " [1, 10, 1, 9],\n",
       " [1, 10, 1, 10],\n",
       " [1, 10, 2, 1],\n",
       " [1, 10, 2, 2],\n",
       " [1, 10, 2, 3],\n",
       " [1, 10, 2, 4],\n",
       " [1, 10, 2, 5],\n",
       " [1, 10, 2, 6],\n",
       " [1, 10, 2, 7],\n",
       " [1, 10, 2, 8],\n",
       " [1, 10, 2, 9],\n",
       " [1, 10, 2, 10],\n",
       " [1, 10, 3, 1],\n",
       " [1, 10, 3, 2],\n",
       " [1, 10, 3, 3],\n",
       " [1, 10, 3, 4],\n",
       " [1, 10, 3, 5],\n",
       " [1, 10, 3, 6],\n",
       " [1, 10, 3, 7],\n",
       " [1, 10, 3, 8],\n",
       " [1, 10, 3, 9],\n",
       " [1, 10, 3, 10],\n",
       " [1, 10, 4, 1],\n",
       " [1, 10, 4, 2],\n",
       " [1, 10, 4, 3],\n",
       " [1, 10, 4, 4],\n",
       " [1, 10, 4, 5],\n",
       " [1, 10, 4, 6],\n",
       " [1, 10, 4, 7],\n",
       " [1, 10, 4, 8],\n",
       " [1, 10, 4, 9],\n",
       " [1, 10, 4, 10],\n",
       " [1, 10, 5, 1],\n",
       " [1, 10, 5, 2],\n",
       " [1, 10, 5, 3],\n",
       " [1, 10, 5, 4],\n",
       " [1, 10, 5, 5],\n",
       " [1, 10, 5, 6],\n",
       " [1, 10, 5, 7],\n",
       " [1, 10, 5, 8],\n",
       " [1, 10, 5, 9],\n",
       " [1, 10, 5, 10],\n",
       " [1, 10, 6, 1],\n",
       " [1, 10, 6, 2],\n",
       " [1, 10, 6, 3],\n",
       " [1, 10, 6, 4],\n",
       " [1, 10, 6, 5],\n",
       " [1, 10, 6, 6],\n",
       " [1, 10, 6, 7],\n",
       " [1, 10, 6, 8],\n",
       " [1, 10, 6, 9],\n",
       " [1, 10, 6, 10],\n",
       " [1, 10, 7, 1],\n",
       " [1, 10, 7, 2],\n",
       " [1, 10, 7, 3],\n",
       " [1, 10, 7, 4],\n",
       " [1, 10, 7, 5],\n",
       " [1, 10, 7, 6],\n",
       " [1, 10, 7, 7],\n",
       " [1, 10, 7, 8],\n",
       " [1, 10, 7, 9],\n",
       " [1, 10, 7, 10],\n",
       " [1, 10, 8, 1],\n",
       " [1, 10, 8, 2],\n",
       " [1, 10, 8, 3],\n",
       " [1, 10, 8, 4],\n",
       " [1, 10, 8, 5],\n",
       " [1, 10, 8, 6],\n",
       " [1, 10, 8, 7],\n",
       " [1, 10, 8, 8],\n",
       " [1, 10, 8, 9],\n",
       " [1, 10, 8, 10],\n",
       " [1, 10, 9, 1],\n",
       " [1, 10, 9, 2],\n",
       " [1, 10, 9, 3],\n",
       " [1, 10, 9, 4],\n",
       " [1, 10, 9, 5],\n",
       " [1, 10, 9, 6],\n",
       " [1, 10, 9, 7],\n",
       " [1, 10, 9, 8],\n",
       " [1, 10, 9, 9],\n",
       " [1, 10, 9, 10],\n",
       " [1, 10, 10, 1],\n",
       " [1, 10, 10, 2],\n",
       " [1, 10, 10, 3],\n",
       " [1, 10, 10, 4],\n",
       " [1, 10, 10, 5],\n",
       " [1, 10, 10, 6],\n",
       " [1, 10, 10, 7],\n",
       " [1, 10, 10, 8],\n",
       " [1, 10, 10, 9],\n",
       " [1, 10, 10, 10],\n",
       " ...]"
      ]
     },
     "execution_count": 379,
     "metadata": {},
     "output_type": "execute_result"
    }
   ],
   "source": [
    "sorted(trickycountlist)"
   ]
  },
  {
   "cell_type": "code",
   "execution_count": 380,
   "metadata": {},
   "outputs": [],
   "source": [
    "tel = {'jack': 4098, 'sape': 4193}"
   ]
  },
  {
   "cell_type": "code",
   "execution_count": 381,
   "metadata": {},
   "outputs": [],
   "source": [
    "tel['guido'] = 4127"
   ]
  },
  {
   "cell_type": "code",
   "execution_count": 382,
   "metadata": {},
   "outputs": [
    {
     "data": {
      "text/plain": [
       "{'jack': 4098, 'sape': 4193, 'guido': 4127}"
      ]
     },
     "execution_count": 382,
     "metadata": {},
     "output_type": "execute_result"
    }
   ],
   "source": [
    "tel"
   ]
  },
  {
   "cell_type": "markdown",
   "metadata": {},
   "source": [
    "a little fun detour thinking about a word counter"
   ]
  },
  {
   "cell_type": "code",
   "execution_count": 383,
   "metadata": {},
   "outputs": [],
   "source": [
    "funky = list('lets make a fun game where game and game'.split())"
   ]
  },
  {
   "cell_type": "code",
   "execution_count": 384,
   "metadata": {},
   "outputs": [
    {
     "data": {
      "text/plain": [
       "['lets', 'make', 'a', 'fun', 'game', 'where', 'game', 'and', 'game']"
      ]
     },
     "execution_count": 384,
     "metadata": {},
     "output_type": "execute_result"
    }
   ],
   "source": [
    "funky"
   ]
  },
  {
   "cell_type": "code",
   "execution_count": 385,
   "metadata": {},
   "outputs": [],
   "source": [
    "funkydic = {}"
   ]
  },
  {
   "cell_type": "code",
   "execution_count": 386,
   "metadata": {},
   "outputs": [
    {
     "data": {
      "text/plain": [
       "{}"
      ]
     },
     "execution_count": 386,
     "metadata": {},
     "output_type": "execute_result"
    }
   ],
   "source": [
    "funkydic"
   ]
  },
  {
   "cell_type": "code",
   "execution_count": 387,
   "metadata": {},
   "outputs": [],
   "source": [
    "for word in funky:\n",
    "    if word not in funkydic:\n",
    "        funkydic[word] = 0\n",
    "    if word in funkydic:\n",
    "        funkydic[word] +=1"
   ]
  },
  {
   "cell_type": "code",
   "execution_count": 388,
   "metadata": {},
   "outputs": [
    {
     "data": {
      "text/plain": [
       "{'lets': 1, 'make': 1, 'a': 1, 'fun': 1, 'game': 3, 'where': 1, 'and': 1}"
      ]
     },
     "execution_count": 388,
     "metadata": {},
     "output_type": "execute_result"
    }
   ],
   "source": [
    "funkydic"
   ]
  },
  {
   "cell_type": "markdown",
   "metadata": {},
   "source": [
    "continue with book"
   ]
  },
  {
   "cell_type": "code",
   "execution_count": 389,
   "metadata": {},
   "outputs": [
    {
     "data": {
      "text/plain": [
       "4098"
      ]
     },
     "execution_count": 389,
     "metadata": {},
     "output_type": "execute_result"
    }
   ],
   "source": [
    "tel['jack']"
   ]
  },
  {
   "cell_type": "code",
   "execution_count": 390,
   "metadata": {},
   "outputs": [],
   "source": [
    "del tel['sape']"
   ]
  },
  {
   "cell_type": "code",
   "execution_count": 391,
   "metadata": {},
   "outputs": [
    {
     "data": {
      "text/plain": [
       "{'jack': 4098, 'guido': 4127}"
      ]
     },
     "execution_count": 391,
     "metadata": {},
     "output_type": "execute_result"
    }
   ],
   "source": [
    "tel"
   ]
  },
  {
   "cell_type": "code",
   "execution_count": 392,
   "metadata": {},
   "outputs": [],
   "source": [
    "tel['irv'] = 4127"
   ]
  },
  {
   "cell_type": "code",
   "execution_count": 393,
   "metadata": {},
   "outputs": [
    {
     "data": {
      "text/plain": [
       "{'jack': 4098, 'guido': 4127, 'irv': 4127}"
      ]
     },
     "execution_count": 393,
     "metadata": {},
     "output_type": "execute_result"
    }
   ],
   "source": [
    "tel"
   ]
  },
  {
   "cell_type": "code",
   "execution_count": 394,
   "metadata": {},
   "outputs": [
    {
     "data": {
      "text/plain": [
       "['jack', 'guido', 'irv']"
      ]
     },
     "execution_count": 394,
     "metadata": {},
     "output_type": "execute_result"
    }
   ],
   "source": [
    "list(tel)"
   ]
  },
  {
   "cell_type": "code",
   "execution_count": 395,
   "metadata": {},
   "outputs": [
    {
     "data": {
      "text/plain": [
       "['guido', 'irv', 'jack']"
      ]
     },
     "execution_count": 395,
     "metadata": {},
     "output_type": "execute_result"
    }
   ],
   "source": [
    "sorted(tel)"
   ]
  },
  {
   "cell_type": "code",
   "execution_count": 396,
   "metadata": {},
   "outputs": [
    {
     "data": {
      "text/plain": [
       "True"
      ]
     },
     "execution_count": 396,
     "metadata": {},
     "output_type": "execute_result"
    }
   ],
   "source": [
    "'guido' in tel"
   ]
  },
  {
   "cell_type": "code",
   "execution_count": 397,
   "metadata": {},
   "outputs": [
    {
     "data": {
      "text/plain": [
       "False"
      ]
     },
     "execution_count": 397,
     "metadata": {},
     "output_type": "execute_result"
    }
   ],
   "source": [
    "4098 in tel"
   ]
  },
  {
   "cell_type": "code",
   "execution_count": 398,
   "metadata": {},
   "outputs": [
    {
     "data": {
      "text/plain": [
       "True"
      ]
     },
     "execution_count": 398,
     "metadata": {},
     "output_type": "execute_result"
    }
   ],
   "source": [
    "'jack' in tel"
   ]
  },
  {
   "cell_type": "code",
   "execution_count": 399,
   "metadata": {},
   "outputs": [
    {
     "data": {
      "text/plain": [
       "{'sape': 4139, 'guido': 4127, 'jack': 409}"
      ]
     },
     "execution_count": 399,
     "metadata": {},
     "output_type": "execute_result"
    }
   ],
   "source": [
    "dict([('sape', 4139), ('guido', 4127), ('jack', 409)])"
   ]
  },
  {
   "cell_type": "code",
   "execution_count": 400,
   "metadata": {},
   "outputs": [
    {
     "data": {
      "text/plain": [
       "{2: 4, 4: 16, 6: 36}"
      ]
     },
     "execution_count": 400,
     "metadata": {},
     "output_type": "execute_result"
    }
   ],
   "source": [
    "{x: x**2 for x in (2,4,6)}"
   ]
  },
  {
   "cell_type": "code",
   "execution_count": 401,
   "metadata": {},
   "outputs": [
    {
     "data": {
      "text/plain": [
       "{'sape': 4139, 'guido': 4127, 'jack': 4098}"
      ]
     },
     "execution_count": 401,
     "metadata": {},
     "output_type": "execute_result"
    }
   ],
   "source": [
    "dict(sape=4139, guido=4127, jack=4098)"
   ]
  },
  {
   "cell_type": "code",
   "execution_count": 402,
   "metadata": {},
   "outputs": [],
   "source": [
    "knights = {'gallahad':'the pure', 'robin':'the brave'}"
   ]
  },
  {
   "cell_type": "code",
   "execution_count": 403,
   "metadata": {},
   "outputs": [
    {
     "name": "stdout",
     "output_type": "stream",
     "text": [
      "gallahad the pure\n",
      "robin the brave\n"
     ]
    }
   ],
   "source": [
    "for k,v in knights.items():\n",
    "    print(k,v)"
   ]
  },
  {
   "cell_type": "code",
   "execution_count": 404,
   "metadata": {},
   "outputs": [
    {
     "name": "stdout",
     "output_type": "stream",
     "text": [
      "gallahad\n",
      "robin\n"
     ]
    }
   ],
   "source": [
    "for k in knights.keys():\n",
    "    print(k)"
   ]
  },
  {
   "cell_type": "code",
   "execution_count": 405,
   "metadata": {},
   "outputs": [
    {
     "name": "stdout",
     "output_type": "stream",
     "text": [
      "the pure\n",
      "the brave\n"
     ]
    }
   ],
   "source": [
    "for v in knights.values():\n",
    "    print(v)"
   ]
  },
  {
   "cell_type": "code",
   "execution_count": 406,
   "metadata": {},
   "outputs": [
    {
     "name": "stdout",
     "output_type": "stream",
     "text": [
      "0 gallahad\n",
      "1 robin\n"
     ]
    }
   ],
   "source": [
    "for n,v in enumerate(knights.keys()):\n",
    "    print(n,v)"
   ]
  },
  {
   "cell_type": "code",
   "execution_count": 407,
   "metadata": {},
   "outputs": [],
   "source": [
    "questions = ['name', 'quest', 'favorite color']\n",
    "answers = ['lancelot', 'the holy grail', 'blue']"
   ]
  },
  {
   "cell_type": "code",
   "execution_count": 408,
   "metadata": {},
   "outputs": [
    {
     "name": "stdout",
     "output_type": "stream",
     "text": [
      "what is your name? It is lancelot.\n",
      "what is your quest? It is the holy grail.\n",
      "what is your favorite color? It is blue.\n"
     ]
    }
   ],
   "source": [
    "for q,a in zip(questions, answers):\n",
    "    print('what is your {0}? It is {1}.'.format(q,a))"
   ]
  },
  {
   "cell_type": "code",
   "execution_count": 409,
   "metadata": {},
   "outputs": [
    {
     "name": "stdout",
     "output_type": "stream",
     "text": [
      "9\n",
      "7\n",
      "5\n",
      "3\n",
      "1\n"
     ]
    }
   ],
   "source": [
    "for i in reversed(range(1,10,2)):\n",
    "    print(i)"
   ]
  },
  {
   "cell_type": "code",
   "execution_count": 410,
   "metadata": {},
   "outputs": [
    {
     "data": {
      "text/plain": [
       "<range_iterator at 0x1e2afd68b90>"
      ]
     },
     "execution_count": 410,
     "metadata": {},
     "output_type": "execute_result"
    }
   ],
   "source": [
    "reversed(range(1,10,2))"
   ]
  },
  {
   "cell_type": "code",
   "execution_count": 411,
   "metadata": {},
   "outputs": [
    {
     "data": {
      "text/plain": [
       "[9, 7, 5, 3, 1]"
      ]
     },
     "execution_count": 411,
     "metadata": {},
     "output_type": "execute_result"
    }
   ],
   "source": [
    "list(reversed(range(1,10,2)))"
   ]
  },
  {
   "cell_type": "code",
   "execution_count": 412,
   "metadata": {},
   "outputs": [],
   "source": [
    "basket = ['apple', 'orange', 'apple', 'pear', 'orange', 'banana']"
   ]
  },
  {
   "cell_type": "code",
   "execution_count": 413,
   "metadata": {},
   "outputs": [
    {
     "name": "stdout",
     "output_type": "stream",
     "text": [
      "apple\n",
      "apple\n",
      "banana\n",
      "orange\n",
      "orange\n",
      "pear\n"
     ]
    }
   ],
   "source": [
    "for i in sorted(basket):\n",
    "    print(i)"
   ]
  },
  {
   "cell_type": "code",
   "execution_count": 414,
   "metadata": {},
   "outputs": [
    {
     "data": {
      "text/plain": [
       "''"
      ]
     },
     "execution_count": 414,
     "metadata": {},
     "output_type": "execute_result"
    }
   ],
   "source": [
    "''"
   ]
  },
  {
   "cell_type": "code",
   "execution_count": 415,
   "metadata": {},
   "outputs": [
    {
     "data": {
      "text/plain": [
       "0"
      ]
     },
     "execution_count": 415,
     "metadata": {},
     "output_type": "execute_result"
    }
   ],
   "source": [
    "len('')"
   ]
  },
  {
   "cell_type": "code",
   "execution_count": 416,
   "metadata": {},
   "outputs": [
    {
     "ename": "ZeroDivisionError",
     "evalue": "division by zero",
     "output_type": "error",
     "traceback": [
      "\u001b[1;31m---------------------------------------------------------------------------\u001b[0m",
      "\u001b[1;31mZeroDivisionError\u001b[0m                         Traceback (most recent call last)",
      "\u001b[1;32m<ipython-input-416-fbc7e86ae71a>\u001b[0m in \u001b[0;36m<module>\u001b[1;34m\u001b[0m\n\u001b[1;32m----> 1\u001b[1;33m \u001b[1;36m10\u001b[0m\u001b[1;33m*\u001b[0m\u001b[1;33m(\u001b[0m\u001b[1;36m1\u001b[0m\u001b[1;33m/\u001b[0m\u001b[1;36m0\u001b[0m\u001b[1;33m)\u001b[0m\u001b[1;33m\u001b[0m\u001b[1;33m\u001b[0m\u001b[0m\n\u001b[0m",
      "\u001b[1;31mZeroDivisionError\u001b[0m: division by zero"
     ]
    }
   ],
   "source": [
    "10*(1/0)"
   ]
  },
  {
   "cell_type": "code",
   "execution_count": 417,
   "metadata": {},
   "outputs": [
    {
     "ename": "NameError",
     "evalue": "name 'spam' is not defined",
     "output_type": "error",
     "traceback": [
      "\u001b[1;31m---------------------------------------------------------------------------\u001b[0m",
      "\u001b[1;31mNameError\u001b[0m                                 Traceback (most recent call last)",
      "\u001b[1;32m<ipython-input-417-fdba80793705>\u001b[0m in \u001b[0;36m<module>\u001b[1;34m\u001b[0m\n\u001b[1;32m----> 1\u001b[1;33m \u001b[1;36m4\u001b[0m \u001b[1;33m+\u001b[0m\u001b[0mspam\u001b[0m\u001b[1;33m*\u001b[0m\u001b[1;36m3\u001b[0m\u001b[1;33m\u001b[0m\u001b[1;33m\u001b[0m\u001b[0m\n\u001b[0m",
      "\u001b[1;31mNameError\u001b[0m: name 'spam' is not defined"
     ]
    }
   ],
   "source": [
    "4 +spam*3"
   ]
  },
  {
   "cell_type": "code",
   "execution_count": 418,
   "metadata": {},
   "outputs": [
    {
     "ename": "TypeError",
     "evalue": "can only concatenate str (not \"int\") to str",
     "output_type": "error",
     "traceback": [
      "\u001b[1;31m---------------------------------------------------------------------------\u001b[0m",
      "\u001b[1;31mTypeError\u001b[0m                                 Traceback (most recent call last)",
      "\u001b[1;32m<ipython-input-418-7e1e50100c0b>\u001b[0m in \u001b[0;36m<module>\u001b[1;34m\u001b[0m\n\u001b[1;32m----> 1\u001b[1;33m \u001b[1;34m'2'\u001b[0m\u001b[1;33m+\u001b[0m\u001b[1;36m2\u001b[0m\u001b[1;33m\u001b[0m\u001b[1;33m\u001b[0m\u001b[0m\n\u001b[0m",
      "\u001b[1;31mTypeError\u001b[0m: can only concatenate str (not \"int\") to str"
     ]
    }
   ],
   "source": [
    "'2'+2"
   ]
  },
  {
   "cell_type": "code",
   "execution_count": 419,
   "metadata": {},
   "outputs": [
    {
     "name": "stdout",
     "output_type": "stream",
     "text": [
      "数字を入れてください：　　\n",
      "あらら！これは有効な数字ではありません。どうぞもう一度。\n",
      "数字を入れてください：　　\n",
      "あらら！これは有効な数字ではありません。どうぞもう一度。\n",
      "数字を入れてください：　　\n",
      "あらら！これは有効な数字ではありません。どうぞもう一度。\n",
      "数字を入れてください：　　\n",
      "あらら！これは有効な数字ではありません。どうぞもう一度。\n",
      "数字を入れてください：　　\n",
      "あらら！これは有効な数字ではありません。どうぞもう一度。\n",
      "数字を入れてください：　　\n",
      "あらら！これは有効な数字ではありません。どうぞもう一度。\n",
      "数字を入れてください：　　a\n",
      "あらら！これは有効な数字ではありません。どうぞもう一度。\n",
      "数字を入れてください：　　8\n"
     ]
    }
   ],
   "source": [
    "while True:\n",
    "    try:\n",
    "        x = int(input(\"数字を入れてください：　　\"))\n",
    "        break\n",
    "    except ValueError:\n",
    "        print(\"あらら！これは有効な数字ではありません。どうぞもう一度。\")"
   ]
  },
  {
   "cell_type": "code",
   "execution_count": 420,
   "metadata": {},
   "outputs": [],
   "source": [
    "import sys"
   ]
  },
  {
   "cell_type": "code",
   "execution_count": 421,
   "metadata": {},
   "outputs": [
    {
     "name": "stdout",
     "output_type": "stream",
     "text": [
      "OS error:[Errno 2] No such file or directory: 'myfile.txt'\n"
     ]
    }
   ],
   "source": [
    "try:\n",
    "    f = open('myfile.txt')\n",
    "    s = f.readline()\n",
    "    i = int(s.strip())\n",
    "except OSError as err:\n",
    "    print(\"OS error:{0}\".format(err))\n",
    "except ValueError:\n",
    "    print(\"データが整数に変換できません\")\n",
    "except:\n",
    "    print(\"予期せぬエラー\", sys.exc_info()[0])\n",
    "    raise"
   ]
  },
  {
   "cell_type": "code",
   "execution_count": 422,
   "metadata": {},
   "outputs": [
    {
     "name": "stdout",
     "output_type": "stream",
     "text": [
      "cannot open -f\n",
      "C:\\Users\\proyo\\AppData\\Roaming\\jupyter\\runtime\\kernel-2b336f69-c5f2-44ac-b800-7d1bf4d3ec42.json has 12 lines\n"
     ]
    }
   ],
   "source": [
    "for arg in sys.argv[1:]:\n",
    "    try:\n",
    "        f = open(arg, 'r')\n",
    "    except OSError:\n",
    "        print('cannot open', arg)\n",
    "    else:\n",
    "        print(arg, 'has', len(f.readlines()), 'lines')\n",
    "        f.close()"
   ]
  },
  {
   "cell_type": "code",
   "execution_count": 423,
   "metadata": {},
   "outputs": [
    {
     "name": "stdout",
     "output_type": "stream",
     "text": [
      "<class 'Exception'>\n",
      "('spam', 'eggs')\n",
      "('spam', 'eggs')\n",
      "x= spam\n",
      "y= eggs\n"
     ]
    }
   ],
   "source": [
    "try:\n",
    "    raise Exception('spam', 'eggs')\n",
    "except Exception as inst:\n",
    "    print(type(inst))\n",
    "    print(inst.args)\n",
    "    print(inst)\n",
    "    \n",
    "    x,y = inst.args\n",
    "    print('x=', x)\n",
    "    print('y=', y)"
   ]
  },
  {
   "cell_type": "code",
   "execution_count": 424,
   "metadata": {},
   "outputs": [],
   "source": [
    "def this_fails():\n",
    "    x = 1/0"
   ]
  },
  {
   "cell_type": "code",
   "execution_count": 425,
   "metadata": {},
   "outputs": [
    {
     "name": "stdout",
     "output_type": "stream",
     "text": [
      "ランタイムエラーを処理します: division by zero\n"
     ]
    }
   ],
   "source": [
    "try:\n",
    "    this_fails()\n",
    "except ZeroDivisionError as err:\n",
    "    print('ランタイムエラーを処理します:', err)"
   ]
  },
  {
   "cell_type": "code",
   "execution_count": 426,
   "metadata": {},
   "outputs": [
    {
     "ename": "NameError",
     "evalue": "HiThere",
     "output_type": "error",
     "traceback": [
      "\u001b[1;31m---------------------------------------------------------------------------\u001b[0m",
      "\u001b[1;31mNameError\u001b[0m                                 Traceback (most recent call last)",
      "\u001b[1;32m<ipython-input-426-72c183edb298>\u001b[0m in \u001b[0;36m<module>\u001b[1;34m\u001b[0m\n\u001b[1;32m----> 1\u001b[1;33m \u001b[1;32mraise\u001b[0m \u001b[0mNameError\u001b[0m\u001b[1;33m(\u001b[0m\u001b[1;34m'HiThere'\u001b[0m\u001b[1;33m)\u001b[0m\u001b[1;33m\u001b[0m\u001b[1;33m\u001b[0m\u001b[0m\n\u001b[0m",
      "\u001b[1;31mNameError\u001b[0m: HiThere"
     ]
    }
   ],
   "source": [
    "raise NameError('HiThere')"
   ]
  },
  {
   "cell_type": "code",
   "execution_count": 427,
   "metadata": {},
   "outputs": [
    {
     "ename": "ValueError",
     "evalue": "",
     "output_type": "error",
     "traceback": [
      "\u001b[1;31m---------------------------------------------------------------------------\u001b[0m",
      "\u001b[1;31mValueError\u001b[0m                                Traceback (most recent call last)",
      "\u001b[1;32m<ipython-input-427-4954757c312d>\u001b[0m in \u001b[0;36m<module>\u001b[1;34m\u001b[0m\n\u001b[1;32m----> 1\u001b[1;33m \u001b[1;32mraise\u001b[0m \u001b[0mValueError\u001b[0m\u001b[1;33m(\u001b[0m\u001b[1;33m)\u001b[0m\u001b[1;33m\u001b[0m\u001b[1;33m\u001b[0m\u001b[0m\n\u001b[0m",
      "\u001b[1;31mValueError\u001b[0m: "
     ]
    }
   ],
   "source": [
    "raise ValueError()"
   ]
  },
  {
   "cell_type": "code",
   "execution_count": 428,
   "metadata": {},
   "outputs": [
    {
     "name": "stdout",
     "output_type": "stream",
     "text": [
      "例外が飛んでった\n"
     ]
    },
    {
     "ename": "NameError",
     "evalue": "HiThere",
     "output_type": "error",
     "traceback": [
      "\u001b[1;31m---------------------------------------------------------------------------\u001b[0m",
      "\u001b[1;31mNameError\u001b[0m                                 Traceback (most recent call last)",
      "\u001b[1;32m<ipython-input-428-ba3a9f7afb6b>\u001b[0m in \u001b[0;36m<module>\u001b[1;34m\u001b[0m\n\u001b[0;32m      1\u001b[0m \u001b[1;32mtry\u001b[0m\u001b[1;33m:\u001b[0m\u001b[1;33m\u001b[0m\u001b[1;33m\u001b[0m\u001b[0m\n\u001b[1;32m----> 2\u001b[1;33m     \u001b[1;32mraise\u001b[0m \u001b[0mNameError\u001b[0m\u001b[1;33m(\u001b[0m\u001b[1;34m'HiThere'\u001b[0m\u001b[1;33m)\u001b[0m\u001b[1;33m\u001b[0m\u001b[1;33m\u001b[0m\u001b[0m\n\u001b[0m\u001b[0;32m      3\u001b[0m \u001b[1;32mexcept\u001b[0m \u001b[0mNameError\u001b[0m\u001b[1;33m:\u001b[0m\u001b[1;33m\u001b[0m\u001b[1;33m\u001b[0m\u001b[0m\n\u001b[0;32m      4\u001b[0m     \u001b[0mprint\u001b[0m\u001b[1;33m(\u001b[0m\u001b[1;34m'例外が飛んでった'\u001b[0m\u001b[1;33m)\u001b[0m\u001b[1;33m\u001b[0m\u001b[1;33m\u001b[0m\u001b[0m\n\u001b[0;32m      5\u001b[0m     \u001b[1;32mraise\u001b[0m\u001b[1;33m\u001b[0m\u001b[1;33m\u001b[0m\u001b[0m\n",
      "\u001b[1;31mNameError\u001b[0m: HiThere"
     ]
    }
   ],
   "source": [
    "try:\n",
    "    raise NameError('HiThere')\n",
    "except NameError:\n",
    "    print('例外が飛んでった')\n",
    "    raise"
   ]
  },
  {
   "cell_type": "code",
   "execution_count": 429,
   "metadata": {},
   "outputs": [
    {
     "ename": "RuntimeError",
     "evalue": "",
     "output_type": "error",
     "traceback": [
      "\u001b[1;31m---------------------------------------------------------------------------\u001b[0m",
      "\u001b[1;31mOSError\u001b[0m                                   Traceback (most recent call last)",
      "\u001b[1;31mOSError\u001b[0m: ",
      "\nThe above exception was the direct cause of the following exception:\n",
      "\u001b[1;31mRuntimeError\u001b[0m                              Traceback (most recent call last)",
      "\u001b[1;32m<ipython-input-429-9050cdc46c5d>\u001b[0m in \u001b[0;36m<module>\u001b[1;34m\u001b[0m\n\u001b[1;32m----> 1\u001b[1;33m \u001b[1;32mraise\u001b[0m \u001b[0mRuntimeError\u001b[0m \u001b[1;32mfrom\u001b[0m \u001b[0mOSError\u001b[0m\u001b[1;33m\u001b[0m\u001b[1;33m\u001b[0m\u001b[0m\n\u001b[0m",
      "\u001b[1;31mRuntimeError\u001b[0m: "
     ]
    }
   ],
   "source": [
    "raise RuntimeError from OSError"
   ]
  },
  {
   "cell_type": "code",
   "execution_count": 430,
   "metadata": {},
   "outputs": [],
   "source": [
    "def input_a_number(n1):\n",
    "    deck = [0,1,2,3,4,5,6,7,8,9,10]*4\n",
    "    try:\n",
    "        if n1 != int(n1):\n",
    "            print('please just put in a normal number')\n",
    "        else:    \n",
    "            n1 = int(n1)\n",
    "        #n1 = int(input(\"input number 1:\")\n",
    "        #print('n1 registered')\n",
    "        #n1 = int(input(\"input number 1:\")\n",
    "        #print('n1 registered')\n",
    "        #n1 = int(input(\"input number 1:\")\n",
    "        #print('n1 registered')\n",
    "            if n1 in deck:\n",
    "                print('succes')\n",
    "            else:\n",
    "                print('please input a number between 1 and 10')\n",
    "    except ValueError:\n",
    "        print('put a number in, not a string')\n",
    "    except TypeError:\n",
    "        print('input a number')\n",
    "    except NameError:\n",
    "        print('we gotta register this first')"
   ]
  },
  {
   "cell_type": "code",
   "execution_count": 431,
   "metadata": {},
   "outputs": [],
   "source": [
    "def input_a_number2(n1):\n",
    "    deck = [0,1,2,3,4,5,6,7,8,9,10]*4\n",
    "    while True:\n",
    "        if n1 in deck:\n",
    "            print('success')\n",
    "            break\n",
    "        else:\n",
    "            try: \n",
    "                x1 = int(input('input a new n1:'))\n",
    "                if x1 in deck:\n",
    "                    n1 = x1\n",
    "                else:\n",
    "                    print('not in the deck... try again')             \n",
    "            except ValueError:\n",
    "                print('try again with a number')\n",
    "            except Error:\n",
    "                print('try again with a number 0-10:')"
   ]
  },
  {
   "cell_type": "code",
   "execution_count": 432,
   "metadata": {},
   "outputs": [
    {
     "name": "stdout",
     "output_type": "stream",
     "text": [
      "input a new n1:d\n",
      "try again with a number\n",
      "input a new n1:A\n",
      "try again with a number\n",
      "input a new n1:8\n",
      "success\n"
     ]
    }
   ],
   "source": [
    "input_a_number2('funky')"
   ]
  },
  {
   "cell_type": "code",
   "execution_count": 433,
   "metadata": {},
   "outputs": [],
   "source": [
    "def input_a_number3(n1,n2,n3,n4):\n",
    "    try:\n",
    "        deck = [0,1,2,3,4,5,6,7,8,9,10]*4\n",
    "        while True:\n",
    "            if n1 in deck and n2 in deck and n3 in deck and n4 in deck:\n",
    "                print('success')\n",
    "                break\n",
    "            else:\n",
    "                try: \n",
    "                    x1 = int(input('input a new n1:'))\n",
    "                    x2 = int(input('input a new n2:'))\n",
    "                    x3 = int(input('input a new n3:'))\n",
    "                    x4 = int(input('input a new n4:'))\n",
    "                    if x1 in deck and x2 in deck and x3 in deck and x4 in deck:\n",
    "                        n1 = x1\n",
    "                        n2 = x2\n",
    "                        n3 = x3\n",
    "                        n4 = x4\n",
    "                    else:\n",
    "                        print('one of the numbers is not in the deck... try again')\n",
    "                except ValueError:\n",
    "                    print('try again with a number')\n",
    "                except Error:\n",
    "                    print('try again with a number 0-10:')\n",
    "    except TypeError:\n",
    "        print('please put in 4 numbers')"
   ]
  },
  {
   "cell_type": "code",
   "execution_count": 434,
   "metadata": {},
   "outputs": [
    {
     "name": "stdout",
     "output_type": "stream",
     "text": [
      "input a new n1:\n",
      "try again with a number\n",
      "input a new n1:\n",
      "try again with a number\n",
      "input a new n1:8\n",
      "input a new n2:4\n",
      "input a new n3:3\n",
      "input a new n4:2\n",
      "success\n"
     ]
    }
   ],
   "source": [
    "input_a_number3(2,3,4,20)"
   ]
  },
  {
   "cell_type": "code",
   "execution_count": 33,
   "metadata": {},
   "outputs": [
    {
     "name": "stdout",
     "output_type": "stream",
     "text": [
      "succes\n"
     ]
    }
   ],
   "source": [
    "input_a_number(5.0)"
   ]
  },
  {
   "cell_type": "code",
   "execution_count": 435,
   "metadata": {},
   "outputs": [
    {
     "data": {
      "text/plain": [
       "5"
      ]
     },
     "execution_count": 435,
     "metadata": {},
     "output_type": "execute_result"
    }
   ],
   "source": [
    "int(5.3777)"
   ]
  },
  {
   "cell_type": "code",
   "execution_count": 436,
   "metadata": {},
   "outputs": [
    {
     "name": "stdout",
     "output_type": "stream",
     "text": [
      "0 0\n",
      "1 91\n",
      "2 183\n",
      "3 275\n",
      "4 366\n",
      "5 458\n",
      "6 550\n",
      "7 641\n",
      "8 733\n",
      "9 825\n",
      "10 916\n",
      "11 1008\n",
      "12 1100\n",
      "13 1191\n",
      "14 1283\n",
      "15 1375\n",
      "16 1466\n",
      "17 1558\n",
      "18 1650\n",
      "19 1741\n",
      "20 1833\n",
      "21 1925\n",
      "22 2016\n",
      "23 2108\n",
      "24 2200\n",
      "25 2291\n",
      "26 2383\n",
      "27 2475\n",
      "28 2566\n",
      "29 2658\n",
      "30 2750\n",
      "31 2841\n",
      "32 2933\n",
      "33 3025\n",
      "34 3116\n",
      "35 3208\n",
      "36 3300\n",
      "37 3391\n",
      "38 3483\n",
      "39 3575\n",
      "40 3666\n",
      "41 3758\n",
      "42 3850\n",
      "43 3941\n",
      "44 4033\n",
      "45 4125\n",
      "46 4216\n",
      "47 4308\n",
      "48 4400\n",
      "49 4491\n",
      "50 4583\n",
      "51 4675\n",
      "52 4766\n",
      "53 4858\n",
      "54 4950\n",
      "55 5041\n",
      "56 5133\n",
      "57 5225\n",
      "58 5316\n",
      "59 5408\n",
      "60 5500\n",
      "61 5591\n",
      "62 5683\n",
      "63 5775\n",
      "64 5866\n",
      "65 5958\n",
      "66 6050\n",
      "67 6141\n",
      "68 6233\n",
      "69 6325\n",
      "70 6416\n",
      "71 6508\n",
      "72 6600\n",
      "73 6691\n",
      "74 6783\n",
      "75 6875\n",
      "76 6966\n",
      "77 7058\n",
      "78 7150\n",
      "79 7241\n",
      "80 7333\n",
      "81 7425\n",
      "82 7516\n",
      "83 7608\n",
      "84 7700\n",
      "85 7791\n",
      "86 7883\n",
      "87 7975\n",
      "88 8066\n",
      "89 8158\n",
      "90 8250\n"
     ]
    }
   ],
   "source": [
    "for x, j in enumerate (range(91)):\n",
    "    print(x, int(j*((5000/60)*1.1)))"
   ]
  },
  {
   "cell_type": "code",
   "execution_count": null,
   "metadata": {},
   "outputs": [],
   "source": []
  },
  {
   "cell_type": "code",
   "execution_count": null,
   "metadata": {},
   "outputs": [],
   "source": []
  }
 ],
 "metadata": {
  "kernelspec": {
   "display_name": "Python 3",
   "language": "python",
   "name": "python3"
  },
  "language_info": {
   "codemirror_mode": {
    "name": "ipython",
    "version": 3
   },
   "file_extension": ".py",
   "mimetype": "text/x-python",
   "name": "python",
   "nbconvert_exporter": "python",
   "pygments_lexer": "ipython3",
   "version": "3.8.5"
  }
 },
 "nbformat": 4,
 "nbformat_minor": 4
}
